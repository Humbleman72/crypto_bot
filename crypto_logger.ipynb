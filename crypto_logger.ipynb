{
 "cells": [
  {
   "cell_type": "code",
   "execution_count": 1,
   "id": "182e49e8",
   "metadata": {
    "pixiedust": {
     "displayParams": {}
    },
    "scrolled": true
   },
   "outputs": [
    {
     "name": "stdout",
     "output_type": "stream",
     "text": [
      "Starting crypto loggers.\n",
      "Time spent for one loop: 2.384185791015625e-07\n",
      "Time spent for one loop: 14.689886331558228\n",
      "Time spent for one loop: 14.59254503250122\n",
      "Time spent for one loop: 14.734009742736816\n",
      "Time spent for one loop: 14.680481672286987\n",
      "Time spent for one loop: 14.520509719848633\n",
      "Time spent for one loop: 14.948413372039795\n",
      "Time spent for one loop: 14.592087268829346\n",
      "Time spent for one loop: 14.760148525238037\n",
      "Time spent for one loop: 14.983594179153442\n",
      "Time spent for one loop: 14.815762758255005\n",
      "Time spent for one loop: 14.513162612915039\n",
      "Time spent for one loop: 14.86457872390747\n",
      "Time spent for one loop: 14.554215431213379\n",
      "Time spent for one loop: 14.653744459152222\n",
      "Time spent for one loop: 14.587434530258179\n",
      "Time spent for one loop: 14.846383810043335\n",
      "Time spent for one loop: 15.063715934753418\n",
      "Time spent for one loop: 14.824180126190186\n",
      "Time spent for one loop: 15.667514085769653\n",
      "Time spent for one loop: 14.684659481048584\n",
      "Time spent for one loop: 14.61217451095581\n",
      "Time spent for one loop: 14.852061033248901\n",
      "Time spent for one loop: 14.642552375793457\n",
      "Time spent for one loop: 15.062274694442749\n",
      "^C\n",
      "Saving latest complete dataset...\n"
     ]
    }
   ],
   "source": [
    "!python crypto_logger.py"
   ]
  },
  {
   "cell_type": "code",
   "execution_count": 2,
   "id": "40146562",
   "metadata": {},
   "outputs": [],
   "source": [
    "#%rm -rf crypto_logs"
   ]
  },
  {
   "cell_type": "code",
   "execution_count": null,
   "id": "376741f8",
   "metadata": {},
   "outputs": [],
   "source": []
  }
 ],
 "metadata": {
  "kernelspec": {
   "display_name": "Python 3 (ipykernel)",
   "language": "python",
   "name": "python3"
  },
  "language_info": {
   "codemirror_mode": {
    "name": "ipython",
    "version": 3
   },
   "file_extension": ".py",
   "mimetype": "text/x-python",
   "name": "python",
   "nbconvert_exporter": "python",
   "pygments_lexer": "ipython3",
   "version": "3.9.15"
  }
 },
 "nbformat": 4,
 "nbformat_minor": 5
}
