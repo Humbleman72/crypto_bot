{
 "cells": [
  {
   "cell_type": "code",
   "execution_count": 1,
   "id": "182e49e8",
   "metadata": {
    "scrolled": true
   },
   "outputs": [
    {
     "name": "stdout",
     "output_type": "stream",
     "text": [
      "Starting crypto loggers.\n",
      "Time spent for one loop: 9.5367431640625e-07\n",
      "Time spent for one loop: 60.14047074317932\n",
      "Time spent for one loop: 60.31154203414917\n",
      "^C\n",
      "Saving latest complete dataset...\n",
      "Crypto logger processes done.\n",
      "Traceback (most recent call last):\n",
      "  File \"crypto_logger.py\", line 86, in loop_loggers\n",
      "    dataset = crypto_loggers[i].concat_next()\n",
      "  File \"/home/samuel/workspace/crypto_logger_shared/cryptocurrency/crypto_logger_base.py\", line 110, in concat_next\n",
      "    return pd.concat([self.dataset, self.get()], axis='index', join='outer')\n",
      "  File \"/home/samuel/workspace/crypto_logger_shared/cryptocurrency/crypto_logger_input.py\", line 81, in get\n",
      "    dataset = get_conversion_table(self.client, self.exchange_info, offset_s=self.offset_s, \n",
      "  File \"/home/samuel/workspace/crypto_logger_shared/cryptocurrency/conversion_table.py\", line 108, in get_conversion_table\n",
      "    conversion_table.apply(lambda x: convert_price(size=1, from_asset=x['base_asset'], to_asset='USDT', \n",
      "  File \"/opt/conda/envs/finance/lib/python3.8/site-packages/pandas/core/frame.py\", line 7768, in apply\n",
      "    return op.get_result()\n",
      "  File \"/opt/conda/envs/finance/lib/python3.8/site-packages/pandas/core/apply.py\", line 185, in get_result\n",
      "    return self.apply_standard()\n",
      "  File \"/opt/conda/envs/finance/lib/python3.8/site-packages/pandas/core/apply.py\", line 276, in apply_standard\n",
      "    results, res_index = self.apply_series_generator()\n",
      "  File \"/opt/conda/envs/finance/lib/python3.8/site-packages/pandas/core/apply.py\", line 290, in apply_series_generator\n",
      "    results[i] = self.f(v)\n",
      "  File \"/home/samuel/workspace/crypto_logger_shared/cryptocurrency/conversion_table.py\", line 108, in <lambda>\n",
      "    conversion_table.apply(lambda x: convert_price(size=1, from_asset=x['base_asset'], to_asset='USDT', \n",
      "  File \"/home/samuel/workspace/crypto_logger_shared/cryptocurrency/conversion.py\", line 142, in convert_price\n",
      "    shortest_path = get_shortest_pair_path_between_assets(from_asset=from_asset, \n",
      "  File \"/home/samuel/workspace/crypto_logger_shared/cryptocurrency/conversion.py\", line 109, in get_shortest_pair_path_between_assets\n",
      "    shortest_path = get_shortest_path_between_assets(priority=priority)\n",
      "  File \"/home/samuel/workspace/crypto_logger_shared/cryptocurrency/conversion.py\", line 81, in get_shortest_path_between_assets\n",
      "    next_nodes = get_connected_assets(last_node, exchange_info=exchange_info, \n",
      "  File \"/home/samuel/workspace/crypto_logger_shared/cryptocurrency/conversion.py\", line 63, in get_connected_assets\n",
      "    connected_quote_assets = exchange_info['quote_asset'] == asset\n",
      "  File \"/opt/conda/envs/finance/lib/python3.8/site-packages/pandas/core/ops/common.py\", line 65, in new_method\n",
      "    return method(self, other)\n",
      "  File \"/opt/conda/envs/finance/lib/python3.8/site-packages/pandas/core/arraylike.py\", line 29, in __eq__\n",
      "    return self._cmp_method(other, operator.eq)\n",
      "  File \"/opt/conda/envs/finance/lib/python3.8/site-packages/pandas/core/series.py\", line 4975, in _cmp_method\n",
      "    lvalues = extract_array(self, extract_numpy=True)\n",
      "  File \"/opt/conda/envs/finance/lib/python3.8/site-packages/pandas/core/construction.py\", line 399, in extract_array\n",
      "    if extract_numpy and isinstance(obj, ABCPandasArray):\n",
      "  File \"/opt/conda/envs/finance/lib/python3.8/site-packages/pandas/core/dtypes/generic.py\", line 32, in _check\n",
      "    return getattr(inst, attr, \"_typ\") in comp\n",
      "KeyboardInterrupt\n",
      "\n",
      "During handling of the above exception, another exception occurred:\n",
      "\n",
      "Traceback (most recent call last):\n",
      "  File \"crypto_logger.py\", line 106, in <module>\n",
      "    main()\n",
      "  File \"crypto_logger.py\", line 103, in main\n",
      "    loop_loggers(crypto_loggers)\n",
      "  File \"crypto_logger.py\", line 92, in loop_loggers\n",
      "    crypto_loggers[i].process_next(dataset)\n",
      "  File \"/home/samuel/workspace/crypto_logger_shared/cryptocurrency/crypto_logger_base.py\", line 114, in process_next\n",
      "    self.dataset = self.put(dataset)\n",
      "  File \"/home/samuel/workspace/crypto_logger_shared/cryptocurrency/crypto_logger_base.py\", line 90, in put\n",
      "    dataset = dataset.drop_duplicates(subset=['symbol', 'count'], \n",
      "  File \"/opt/conda/envs/finance/lib/python3.8/site-packages/pandas/core/frame.py\", line 5271, in drop_duplicates\n",
      "    duplicated = self.duplicated(subset, keep=keep)\n",
      "  File \"/opt/conda/envs/finance/lib/python3.8/site-packages/pandas/core/frame.py\", line 5405, in duplicated\n",
      "    raise KeyError(diff)\n",
      "KeyError: Index(['count', 'symbol'], dtype='object')\n"
     ]
    }
   ],
   "source": [
    "!python crypto_logger.py"
   ]
  },
  {
   "cell_type": "code",
   "execution_count": 2,
   "id": "40146562",
   "metadata": {},
   "outputs": [],
   "source": [
    "#%rm -rf crypto_logs"
   ]
  },
  {
   "cell_type": "code",
   "execution_count": null,
   "id": "0bf92f79",
   "metadata": {},
   "outputs": [],
   "source": []
  }
 ],
 "metadata": {
  "kernelspec": {
   "display_name": "Python 3 (ipykernel)",
   "language": "python",
   "name": "python3"
  },
  "language_info": {
   "codemirror_mode": {
    "name": "ipython",
    "version": 3
   },
   "file_extension": ".py",
   "mimetype": "text/x-python",
   "name": "python",
   "nbconvert_exporter": "python",
   "pygments_lexer": "ipython3",
   "version": "3.7.12"
  }
 },
 "nbformat": 4,
 "nbformat_minor": 5
}
