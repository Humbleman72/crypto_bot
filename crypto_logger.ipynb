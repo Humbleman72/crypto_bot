{
 "cells": [
  {
   "cell_type": "code",
   "execution_count": 1,
   "id": "182e49e8",
   "metadata": {
    "scrolled": true
   },
   "outputs": [
    {
     "name": "stdout",
     "output_type": "stream",
     "text": [
      "Starting crypto logger.\n",
      "Time spent for one loop: 50.864816427230835\n",
      "Time spent for one loop: 51.31391644477844\n",
      "Time spent for one loop: 51.04639983177185\n",
      "Time spent for one loop: 51.21841382980347\n",
      "Time spent for one loop: 50.71924924850464\n",
      "Time spent for one loop: 50.974191665649414\n",
      "Time spent for one loop: 51.104050636291504\n",
      "Time spent for one loop: 51.97731971740723\n",
      "Time spent for one loop: 51.705347299575806\n",
      "Time spent for one loop: 51.07286024093628\n",
      "Time spent for one loop: 51.450356006622314\n",
      "Time spent for one loop: 52.60611653327942\n",
      "^C\n",
      "Saving latest complete dataset...\n",
      "crypto_logger process done.\n",
      "Traceback (most recent call last):\n",
      "  File \"crypto_logger.py\", line 79, in start_loggers\n",
      "    dataset = crypto_logger.concat_next()\n",
      "  File \"/home/samuel/workspace/crypto_logger_shared/cryptocurrency/crypto_logger_base.py\", line 98, in concat_next\n",
      "    return pd.concat([self.dataset, self.get()], axis='index', join='outer')\n",
      "  File \"/home/samuel/workspace/crypto_logger_shared/cryptocurrency/crypto_logger_input.py\", line 83, in get\n",
      "    dataset = get_conversion_table(self.client, self.exchange_info, offset_s=self.offset_s, \n",
      "  File \"/home/samuel/workspace/crypto_logger_shared/cryptocurrency/conversion_table.py\", line 223, in get_conversion_table\n",
      "    conversion_table.apply(lambda x: importance_weighted_ask_price.loc[x['base_asset']], axis='columns')\n",
      "  File \"/opt/conda/envs/finance/lib/python3.8/site-packages/pandas/core/frame.py\", line 7768, in apply\n",
      "    return op.get_result()\n",
      "  File \"/opt/conda/envs/finance/lib/python3.8/site-packages/pandas/core/apply.py\", line 185, in get_result\n",
      "    return self.apply_standard()\n",
      "  File \"/opt/conda/envs/finance/lib/python3.8/site-packages/pandas/core/apply.py\", line 276, in apply_standard\n",
      "    results, res_index = self.apply_series_generator()\n",
      "  File \"/opt/conda/envs/finance/lib/python3.8/site-packages/pandas/core/apply.py\", line 288, in apply_series_generator\n",
      "    for i, v in enumerate(series_gen):\n",
      "  File \"/opt/conda/envs/finance/lib/python3.8/site-packages/pandas/core/apply.py\", line 412, in series_generator\n",
      "    ser.name = name\n",
      "  File \"/opt/conda/envs/finance/lib/python3.8/site-packages/pandas/core/generic.py\", line 5477, in __setattr__\n",
      "    object.__getattribute__(self, name)\n",
      "KeyboardInterrupt\n",
      "\n",
      "During handling of the above exception, another exception occurred:\n",
      "\n",
      "Traceback (most recent call last):\n",
      "  File \"crypto_logger.py\", line 100, in <module>\n",
      "    main()\n",
      "  File \"crypto_logger.py\", line 97, in main\n",
      "    start_loggers()\n",
      "  File \"crypto_logger.py\", line 87, in start_loggers\n",
      "    crypto_logger.process_next(dataset)\n",
      "  File \"/home/samuel/workspace/crypto_logger_shared/cryptocurrency/crypto_logger_base.py\", line 102, in process_next\n",
      "    self.dataset = self.put(dataset)\n",
      "  File \"/home/samuel/workspace/crypto_logger_shared/cryptocurrency/crypto_logger_base.py\", line 78, in put\n",
      "    dataset = dataset.drop_duplicates(subset=['symbol', 'count'], \n",
      "  File \"/opt/conda/envs/finance/lib/python3.8/site-packages/pandas/core/frame.py\", line 5271, in drop_duplicates\n",
      "    duplicated = self.duplicated(subset, keep=keep)\n",
      "  File \"/opt/conda/envs/finance/lib/python3.8/site-packages/pandas/core/frame.py\", line 5405, in duplicated\n",
      "    raise KeyError(diff)\n",
      "KeyError: Index(['count', 'symbol'], dtype='object')\n"
     ]
    }
   ],
   "source": [
    "!python crypto_logger.py"
   ]
  },
  {
   "cell_type": "code",
   "execution_count": 2,
   "id": "40146562",
   "metadata": {},
   "outputs": [],
   "source": [
    "#%rm -rf crypto_logs"
   ]
  },
  {
   "cell_type": "code",
   "execution_count": null,
   "id": "0bf92f79",
   "metadata": {},
   "outputs": [],
   "source": []
  }
 ],
 "metadata": {
  "kernelspec": {
   "display_name": "Python 3 (ipykernel)",
   "language": "python",
   "name": "python3"
  },
  "language_info": {
   "codemirror_mode": {
    "name": "ipython",
    "version": 3
   },
   "file_extension": ".py",
   "mimetype": "text/x-python",
   "name": "python",
   "nbconvert_exporter": "python",
   "pygments_lexer": "ipython3",
   "version": "3.7.12"
  }
 },
 "nbformat": 4,
 "nbformat_minor": 5
}
