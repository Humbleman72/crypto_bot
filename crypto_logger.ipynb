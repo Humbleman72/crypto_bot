{
 "cells": [
  {
   "cell_type": "code",
   "execution_count": null,
   "id": "182e49e8",
   "metadata": {
    "pixiedust": {
     "displayParams": {}
    },
    "scrolled": true
   },
   "outputs": [
    {
     "name": "stdout",
     "output_type": "stream",
     "text": [
      "Starting crypto loggers.\n",
      "Time spent for one loop: 7.152557373046875e-07\n",
      "Time spent for one loop: 15.530246496200562\n",
      "Time spent for one loop: 15.625974416732788\n",
      "Time spent for one loop: 15.197849988937378\n",
      "Time spent for one loop: 15.218743801116943\n",
      "Time spent for one loop: 15.199522495269775\n",
      "Time spent for one loop: 15.456208229064941\n",
      "Time spent for one loop: 15.11203932762146\n",
      "Time spent for one loop: 15.14182710647583\n",
      "Time spent for one loop: 15.296336889266968\n",
      "Time spent for one loop: 15.518349409103394\n",
      "Time spent for one loop: 15.430951833724976\n",
      "Time spent for one loop: 15.41426944732666\n",
      "Time spent for one loop: 15.337430715560913\n",
      "Time spent for one loop: 15.1313796043396\n",
      "Time spent for one loop: 15.377527713775635\n",
      "Time spent for one loop: 15.277520179748535\n",
      "Time spent for one loop: 15.280191659927368\n"
     ]
    }
   ],
   "source": [
    "!python crypto_logger.py"
   ]
  },
  {
   "cell_type": "code",
   "execution_count": null,
   "id": "40146562",
   "metadata": {},
   "outputs": [],
   "source": [
    "#%rm -rf crypto_logs"
   ]
  },
  {
   "cell_type": "code",
   "execution_count": null,
   "id": "0bf92f79",
   "metadata": {},
   "outputs": [],
   "source": []
  }
 ],
 "metadata": {
  "kernelspec": {
   "display_name": "Python 3 (ipykernel)",
   "language": "python",
   "name": "python3"
  },
  "language_info": {
   "codemirror_mode": {
    "name": "ipython",
    "version": 3
   },
   "file_extension": ".py",
   "mimetype": "text/x-python",
   "name": "python",
   "nbconvert_exporter": "python",
   "pygments_lexer": "ipython3",
   "version": "3.9.15"
  }
 },
 "nbformat": 4,
 "nbformat_minor": 5
}
