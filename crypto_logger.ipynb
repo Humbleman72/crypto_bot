{
 "cells": [
  {
   "cell_type": "code",
   "execution_count": 1,
   "id": "182e49e8",
   "metadata": {
    "pixiedust": {
     "displayParams": {}
    },
    "scrolled": true
   },
   "outputs": [
    {
     "name": "stdout",
     "output_type": "stream",
     "text": [
      "Starting crypto loggers.\n",
      "Time spent for one loop: 9.5367431640625e-07\n",
      "Time spent for one loop: 22.371763467788696\n",
      "Time spent for one loop: 22.072481870651245\n",
      "Time spent for one loop: 21.88350510597229\n",
      "Time spent for one loop: 22.12205410003662\n",
      "Time spent for one loop: 21.898521423339844\n",
      "Time spent for one loop: 21.861197471618652\n",
      "Time spent for one loop: 22.721344470977783\n",
      "Time spent for one loop: 23.922210693359375\n",
      "Time spent for one loop: 22.792814016342163\n",
      "^C\n",
      "Saving latest complete dataset...\n",
      "User terminated crypto logger processes.\n",
      "Crypto logger processes done.\n"
     ]
    }
   ],
   "source": [
    "!python crypto_logger.py"
   ]
  },
  {
   "cell_type": "code",
   "execution_count": 2,
   "id": "40146562",
   "metadata": {},
   "outputs": [],
   "source": [
    "#%rm -rf crypto_logs"
   ]
  },
  {
   "cell_type": "code",
   "execution_count": null,
   "id": "0bf92f79",
   "metadata": {},
   "outputs": [],
   "source": []
  }
 ],
 "metadata": {
  "kernelspec": {
   "display_name": "Python 3 (ipykernel)",
   "language": "python",
   "name": "python3"
  },
  "language_info": {
   "codemirror_mode": {
    "name": "ipython",
    "version": 3
   },
   "file_extension": ".py",
   "mimetype": "text/x-python",
   "name": "python",
   "nbconvert_exporter": "python",
   "pygments_lexer": "ipython3",
   "version": "3.7.12"
  }
 },
 "nbformat": 4,
 "nbformat_minor": 5
}
