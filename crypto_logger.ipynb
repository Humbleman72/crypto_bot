{
 "cells": [
  {
   "cell_type": "code",
   "execution_count": 1,
   "id": "182e49e8",
   "metadata": {
    "pixiedust": {
     "displayParams": {}
    },
    "scrolled": true
   },
   "outputs": [
    {
     "name": "stdout",
     "output_type": "stream",
     "text": [
      "Starting crypto loggers.\n",
      "Time spent for one loop: 7.152557373046875e-07\n",
      "Time spent for one loop: 16.04680585861206\n",
      "Time spent for one loop: 15.805145502090454\n",
      "Time spent for one loop: 16.11072301864624\n",
      "Time spent for one loop: 15.998721361160278\n",
      "Time spent for one loop: 15.695679664611816\n",
      "Time spent for one loop: 15.386231660842896\n",
      "Time spent for one loop: 15.713648557662964\n",
      "Time spent for one loop: 15.482423543930054\n",
      "Time spent for one loop: 15.933741807937622\n",
      "Time spent for one loop: 15.761620998382568\n",
      "Time spent for one loop: 15.704505920410156\n",
      "Time spent for one loop: 15.866165161132812\n",
      "Time spent for one loop: 15.913573503494263\n",
      "Time spent for one loop: 15.661567449569702\n",
      "Time spent for one loop: 16.10154151916504\n",
      "Time spent for one loop: 15.704071283340454\n",
      "Time spent for one loop: 15.801004648208618\n",
      "Time spent for one loop: 15.912964582443237\n",
      "Time spent for one loop: 15.736626386642456\n",
      "Time spent for one loop: 15.921302080154419\n",
      "Time spent for one loop: 15.914674043655396\n",
      "Time spent for one loop: 16.309756755828857\n",
      "^C\n",
      "Saving latest complete dataset...\n"
     ]
    }
   ],
   "source": [
    "!python crypto_logger.py"
   ]
  },
  {
   "cell_type": "code",
   "execution_count": 2,
   "id": "40146562",
   "metadata": {},
   "outputs": [],
   "source": [
    "#%rm -rf crypto_logs"
   ]
  },
  {
   "cell_type": "code",
   "execution_count": null,
   "id": "376741f8",
   "metadata": {},
   "outputs": [],
   "source": []
  }
 ],
 "metadata": {
  "kernelspec": {
   "display_name": "Python 3 (ipykernel)",
   "language": "python",
   "name": "python3"
  },
  "language_info": {
   "codemirror_mode": {
    "name": "ipython",
    "version": 3
   },
   "file_extension": ".py",
   "mimetype": "text/x-python",
   "name": "python",
   "nbconvert_exporter": "python",
   "pygments_lexer": "ipython3",
   "version": "3.9.15"
  }
 },
 "nbformat": 4,
 "nbformat_minor": 5
}
