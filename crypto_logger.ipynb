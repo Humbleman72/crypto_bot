{
 "cells": [
  {
   "cell_type": "code",
   "execution_count": 1,
   "id": "182e49e8",
   "metadata": {
    "scrolled": true
   },
   "outputs": [
    {
     "name": "stdout",
     "output_type": "stream",
     "text": [
      "Starting crypto loggers.\n",
      "Time spent for one loop: 7.152557373046875e-07\n",
      "Time spent for one loop: 59.509490728378296\n",
      "Time spent for one loop: 60.04513764381409\n",
      "Time spent for one loop: 59.598023414611816\n",
      "Time spent for one loop: 59.588780879974365\n",
      "Time spent for one loop: 60.002471685409546\n",
      "Time spent for one loop: 59.58419346809387\n",
      "Time spent for one loop: 59.96781897544861\n",
      "Time spent for one loop: 59.74921941757202\n",
      "^C\n",
      "Saving latest complete dataset...\n",
      "Crypto logger processes done.\n",
      "Traceback (most recent call last):\n",
      "  File \"crypto_logger.py\", line 86, in loop_loggers\n",
      "    dataset = crypto_loggers[i].concat_next()\n",
      "  File \"/home/samuel/workspace/crypto_logger_shared/cryptocurrency/crypto_logger_base.py\", line 110, in concat_next\n",
      "    return pd.concat([self.dataset, self.get()], axis='index', join='outer')\n",
      "  File \"/home/samuel/workspace/crypto_logger_shared/cryptocurrency/crypto_logger_input.py\", line 87, in get\n",
      "    dataset = get_conversion_table(self.client, self.exchange_info, offset_s=self.offset_s, \n",
      "  File \"/home/samuel/workspace/crypto_logger_shared/cryptocurrency/conversion_table.py\", line 145, in get_conversion_table\n",
      "    conversion_table.apply(lambda x: convert_price(size=1, from_asset=x['base_asset'], to_asset='USDT', \n",
      "  File \"/opt/conda/envs/finance/lib/python3.8/site-packages/pandas/core/frame.py\", line 7768, in apply\n",
      "    return op.get_result()\n",
      "  File \"/opt/conda/envs/finance/lib/python3.8/site-packages/pandas/core/apply.py\", line 185, in get_result\n",
      "    return self.apply_standard()\n",
      "  File \"/opt/conda/envs/finance/lib/python3.8/site-packages/pandas/core/apply.py\", line 276, in apply_standard\n",
      "    results, res_index = self.apply_series_generator()\n",
      "  File \"/opt/conda/envs/finance/lib/python3.8/site-packages/pandas/core/apply.py\", line 290, in apply_series_generator\n",
      "    results[i] = self.f(v)\n",
      "  File \"/home/samuel/workspace/crypto_logger_shared/cryptocurrency/conversion_table.py\", line 145, in <lambda>\n",
      "    conversion_table.apply(lambda x: convert_price(size=1, from_asset=x['base_asset'], to_asset='USDT', \n",
      "  File \"/home/samuel/workspace/crypto_logger_shared/cryptocurrency/conversion.py\", line 142, in convert_price\n",
      "    shortest_path = get_shortest_pair_path_between_assets(from_asset=from_asset, \n",
      "  File \"/home/samuel/workspace/crypto_logger_shared/cryptocurrency/conversion.py\", line 113, in get_shortest_pair_path_between_assets\n",
      "    get_pair_from_assets(shortest_path[0], shortest_path[1])\n",
      "  File \"/home/samuel/workspace/crypto_logger_shared/cryptocurrency/conversion.py\", line 103, in get_pair_from_assets\n",
      "    pair = exchange_info[pair]\n",
      "  File \"/opt/conda/envs/finance/lib/python3.8/site-packages/pandas/core/frame.py\", line 3015, in __getitem__\n",
      "    return self._getitem_bool_array(key)\n",
      "  File \"/opt/conda/envs/finance/lib/python3.8/site-packages/pandas/core/frame.py\", line 3070, in _getitem_bool_array\n",
      "    return self._take_with_is_copy(indexer, axis=0)\n",
      "  File \"/opt/conda/envs/finance/lib/python3.8/site-packages/pandas/core/generic.py\", line 3600, in _take_with_is_copy\n",
      "    result = self.take(indices=indices, axis=axis)\n",
      "  File \"/opt/conda/envs/finance/lib/python3.8/site-packages/pandas/core/generic.py\", line 3586, in take\n",
      "    new_data = self._mgr.take(\n",
      "  File \"/opt/conda/envs/finance/lib/python3.8/site-packages/pandas/core/internals/managers.py\", line 1473, in take\n",
      "    new_labels = self.axes[axis].take(indexer)\n",
      "KeyboardInterrupt\n",
      "\n",
      "During handling of the above exception, another exception occurred:\n",
      "\n",
      "Traceback (most recent call last):\n",
      "  File \"crypto_logger.py\", line 106, in <module>\n",
      "    main()\n",
      "  File \"crypto_logger.py\", line 103, in main\n",
      "    loop_loggers(crypto_loggers)\n",
      "  File \"crypto_logger.py\", line 92, in loop_loggers\n",
      "    crypto_loggers[i].process_next(dataset)\n",
      "  File \"/home/samuel/workspace/crypto_logger_shared/cryptocurrency/crypto_logger_base.py\", line 114, in process_next\n",
      "    self.dataset = self.put(dataset)\n",
      "  File \"/home/samuel/workspace/crypto_logger_shared/cryptocurrency/crypto_logger_base.py\", line 90, in put\n",
      "    dataset = dataset.drop_duplicates(subset=['symbol', 'count'], \n",
      "  File \"/opt/conda/envs/finance/lib/python3.8/site-packages/pandas/core/frame.py\", line 5271, in drop_duplicates\n",
      "    duplicated = self.duplicated(subset, keep=keep)\n",
      "  File \"/opt/conda/envs/finance/lib/python3.8/site-packages/pandas/core/frame.py\", line 5405, in duplicated\n",
      "    raise KeyError(diff)\n",
      "KeyError: Index(['count', 'symbol'], dtype='object')\n"
     ]
    }
   ],
   "source": [
    "!python crypto_logger.py"
   ]
  },
  {
   "cell_type": "code",
   "execution_count": 2,
   "id": "40146562",
   "metadata": {},
   "outputs": [],
   "source": [
    "#%rm -rf crypto_logs"
   ]
  },
  {
   "cell_type": "code",
   "execution_count": null,
   "id": "0bf92f79",
   "metadata": {},
   "outputs": [],
   "source": []
  }
 ],
 "metadata": {
  "kernelspec": {
   "display_name": "Python 3 (ipykernel)",
   "language": "python",
   "name": "python3"
  },
  "language_info": {
   "codemirror_mode": {
    "name": "ipython",
    "version": 3
   },
   "file_extension": ".py",
   "mimetype": "text/x-python",
   "name": "python",
   "nbconvert_exporter": "python",
   "pygments_lexer": "ipython3",
   "version": "3.7.12"
  }
 },
 "nbformat": 4,
 "nbformat_minor": 5
}
