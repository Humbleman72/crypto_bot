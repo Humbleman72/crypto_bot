{
 "cells": [
  {
   "cell_type": "code",
   "execution_count": null,
   "id": "182e49e8",
   "metadata": {
    "pixiedust": {
     "displayParams": {}
    },
    "scrolled": true
   },
   "outputs": [
    {
     "name": "stdout",
     "output_type": "stream",
     "text": [
      "Starting crypto loggers.\n",
      "Time spent for one loop: 2.384185791015625e-07\n",
      "Time spent for one loop: 14.843957662582397\n",
      "Time spent for one loop: 14.718963146209717\n",
      "Time spent for one loop: 14.462022304534912\n",
      "Time spent for one loop: 14.588100910186768\n",
      "Time spent for one loop: 14.480898141860962\n",
      "Time spent for one loop: 14.50562596321106\n",
      "Time spent for one loop: 14.516026735305786\n",
      "Time spent for one loop: 14.929635047912598\n",
      "Time spent for one loop: 14.393346786499023\n",
      "Time spent for one loop: 14.55063796043396\n",
      "Time spent for one loop: 14.274219512939453\n",
      "Time spent for one loop: 14.598529577255249\n",
      "Time spent for one loop: 14.209313154220581\n",
      "Time spent for one loop: 14.238641500473022\n",
      "Time spent for one loop: 14.986367464065552\n",
      "Time spent for one loop: 15.121665477752686\n",
      "Time spent for one loop: 14.548054695129395\n",
      "Time spent for one loop: 14.5743727684021\n",
      "Time spent for one loop: 14.644476652145386\n",
      "Time spent for one loop: 14.699913501739502\n",
      "Time spent for one loop: 14.861302375793457\n",
      "Time spent for one loop: 14.5868399143219\n",
      "Time spent for one loop: 14.60874342918396\n",
      "Time spent for one loop: 14.455703020095825\n",
      "Time spent for one loop: 14.721874237060547\n",
      "Time spent for one loop: 14.381989240646362\n",
      "Time spent for one loop: 14.601580381393433\n",
      "Time spent for one loop: 14.61196780204773\n",
      "Time spent for one loop: 14.610719203948975\n",
      "Time spent for one loop: 14.347941637039185\n",
      "Time spent for one loop: 14.665968656539917\n",
      "Time spent for one loop: 14.582852840423584\n",
      "Time spent for one loop: 14.590262413024902\n",
      "Time spent for one loop: 14.895548582077026\n",
      "Time spent for one loop: 14.841643810272217\n",
      "Time spent for one loop: 14.705534934997559\n",
      "Time spent for one loop: 15.016242742538452\n",
      "Time spent for one loop: 14.301495552062988\n",
      "Time spent for one loop: 14.68698263168335\n",
      "Time spent for one loop: 14.687402963638306\n",
      "Time spent for one loop: 15.07554316520691\n",
      "Time spent for one loop: 14.919312477111816\n",
      "Time spent for one loop: 14.652801513671875\n",
      "Time spent for one loop: 14.594999074935913\n",
      "Time spent for one loop: 14.56660270690918\n",
      "Time spent for one loop: 15.086714744567871\n",
      "Time spent for one loop: 14.645192623138428\n",
      "Time spent for one loop: 14.283542394638062\n",
      "Time spent for one loop: 14.7251558303833\n",
      "Time spent for one loop: 15.068687915802002\n",
      "Time spent for one loop: 14.599798202514648\n",
      "Time spent for one loop: 14.621946573257446\n",
      "Time spent for one loop: 14.697674036026001\n",
      "Time spent for one loop: 14.599729061126709\n",
      "Time spent for one loop: 14.537556886672974\n",
      "Time spent for one loop: 14.62711787223816\n",
      "Time spent for one loop: 14.696250200271606\n",
      "Time spent for one loop: 15.026315450668335\n",
      "Time spent for one loop: 14.677985668182373\n",
      "Time spent for one loop: 14.402576446533203\n",
      "Time spent for one loop: 14.476135730743408\n",
      "Time spent for one loop: 14.713918924331665\n",
      "Time spent for one loop: 14.627761602401733\n",
      "Time spent for one loop: 14.680047988891602\n",
      "Time spent for one loop: 14.969107151031494\n",
      "Time spent for one loop: 15.49679684638977\n"
     ]
    }
   ],
   "source": [
    "!python crypto_logger.py"
   ]
  },
  {
   "cell_type": "code",
   "execution_count": null,
   "id": "40146562",
   "metadata": {},
   "outputs": [],
   "source": [
    "#%rm -rf crypto_logs"
   ]
  },
  {
   "cell_type": "code",
   "execution_count": null,
   "id": "376741f8",
   "metadata": {},
   "outputs": [],
   "source": []
  }
 ],
 "metadata": {
  "kernelspec": {
   "display_name": "Python 3 (ipykernel)",
   "language": "python",
   "name": "python3"
  },
  "language_info": {
   "codemirror_mode": {
    "name": "ipython",
    "version": 3
   },
   "file_extension": ".py",
   "mimetype": "text/x-python",
   "name": "python",
   "nbconvert_exporter": "python",
   "pygments_lexer": "ipython3",
   "version": "3.9.15"
  }
 },
 "nbformat": 4,
 "nbformat_minor": 5
}
