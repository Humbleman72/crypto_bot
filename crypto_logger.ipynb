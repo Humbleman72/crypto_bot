{
 "cells": [
  {
   "cell_type": "code",
   "execution_count": null,
   "id": "182e49e8",
   "metadata": {
    "pixiedust": {
     "displayParams": {}
    },
    "scrolled": true
   },
   "outputs": [
    {
     "name": "stdout",
     "output_type": "stream",
     "text": [
      "Starting crypto loggers.\n",
      "Time spent for one loop: 4.76837158203125e-07\n",
      "Time spent for one loop: 15.836715936660767\n",
      "Time spent for one loop: 15.636123895645142\n",
      "Time spent for one loop: 15.053652048110962\n",
      "Time spent for one loop: 16.094547986984253\n",
      "Time spent for one loop: 15.256433010101318\n",
      "Time spent for one loop: 15.027596712112427\n",
      "Time spent for one loop: 15.527738571166992\n",
      "Time spent for one loop: 15.261981964111328\n",
      "Time spent for one loop: 15.147894144058228\n",
      "Time spent for one loop: 15.342767715454102\n",
      "Time spent for one loop: 15.187777042388916\n",
      "Time spent for one loop: 15.3125159740448\n",
      "Time spent for one loop: 15.274502038955688\n",
      "Time spent for one loop: 15.388919591903687\n",
      "Time spent for one loop: 15.324280261993408\n",
      "Time spent for one loop: 15.192162990570068\n",
      "Time spent for one loop: 15.133342504501343\n",
      "Time spent for one loop: 15.298725128173828\n",
      "Time spent for one loop: 15.135523080825806\n",
      "Time spent for one loop: 15.204989910125732\n",
      "Time spent for one loop: 15.344889163970947\n",
      "Time spent for one loop: 15.27645993232727\n",
      "Time spent for one loop: 15.41843295097351\n",
      "Time spent for one loop: 16.012434005737305\n",
      "Time spent for one loop: 15.341752052307129\n",
      "Time spent for one loop: 15.349186420440674\n",
      "Time spent for one loop: 15.281610250473022\n",
      "Time spent for one loop: 15.597670078277588\n",
      "Time spent for one loop: 16.0108642578125\n",
      "Time spent for one loop: 15.278229236602783\n",
      "Time spent for one loop: 15.451742172241211\n",
      "Time spent for one loop: 15.334246397018433\n",
      "Time spent for one loop: 15.112325429916382\n",
      "Time spent for one loop: 15.191296100616455\n",
      "Time spent for one loop: 15.188233137130737\n",
      "Time spent for one loop: 15.986995935440063\n",
      "Time spent for one loop: 15.453723430633545\n",
      "Time spent for one loop: 15.271943092346191\n",
      "Time spent for one loop: 15.567646503448486\n",
      "Time spent for one loop: 15.155606746673584\n",
      "Time spent for one loop: 15.345062017440796\n",
      "Time spent for one loop: 15.346640348434448\n",
      "Time spent for one loop: 15.65351676940918\n",
      "Time spent for one loop: 15.260538101196289\n",
      "Time spent for one loop: 15.308032751083374\n",
      "Time spent for one loop: 15.597427129745483\n",
      "Time spent for one loop: 15.313846111297607\n",
      "Time spent for one loop: 15.57708740234375\n",
      "Time spent for one loop: 15.295941591262817\n",
      "Time spent for one loop: 15.640621662139893\n",
      "Time spent for one loop: 15.587815046310425\n",
      "Time spent for one loop: 15.477606534957886\n",
      "Time spent for one loop: 15.389776706695557\n",
      "Time spent for one loop: 15.378824234008789\n",
      "Time spent for one loop: 15.487391233444214\n",
      "Time spent for one loop: 15.336042642593384\n",
      "Time spent for one loop: 15.401494979858398\n",
      "Time spent for one loop: 15.239928722381592\n",
      "Time spent for one loop: 15.241907358169556\n",
      "Time spent for one loop: 15.39616847038269\n",
      "Time spent for one loop: 16.041369199752808\n",
      "Time spent for one loop: 15.23103928565979\n",
      "Time spent for one loop: 15.2383131980896\n",
      "Time spent for one loop: 15.250713586807251\n",
      "Time spent for one loop: 15.411690473556519\n",
      "Time spent for one loop: 15.229629278182983\n",
      "Time spent for one loop: 15.463877439498901\n",
      "Time spent for one loop: 15.324896574020386\n",
      "Time spent for one loop: 15.645715236663818\n",
      "Time spent for one loop: 15.34826111793518\n",
      "Time spent for one loop: 15.54757022857666\n",
      "Time spent for one loop: 15.165473699569702\n",
      "Time spent for one loop: 15.197640180587769\n",
      "Time spent for one loop: 16.01687741279602\n",
      "Time spent for one loop: 15.638082504272461\n",
      "Time spent for one loop: 15.423010349273682\n",
      "Time spent for one loop: 15.33871078491211\n",
      "Time spent for one loop: 15.260974168777466\n",
      "Time spent for one loop: 15.407312154769897\n",
      "Time spent for one loop: 15.716063976287842\n",
      "Time spent for one loop: 15.254400968551636\n",
      "Time spent for one loop: 15.175408363342285\n",
      "Time spent for one loop: 15.50183892250061\n",
      "Time spent for one loop: 16.123982429504395\n",
      "Time spent for one loop: 15.227433919906616\n",
      "Time spent for one loop: 16.10844588279724\n",
      "Time spent for one loop: 15.345207452774048\n",
      "Time spent for one loop: 15.823755264282227\n",
      "Time spent for one loop: 15.40829062461853\n",
      "Time spent for one loop: 15.755776405334473\n"
     ]
    }
   ],
   "source": [
    "!python crypto_logger.py"
   ]
  },
  {
   "cell_type": "code",
   "execution_count": null,
   "id": "40146562",
   "metadata": {},
   "outputs": [],
   "source": [
    "#%rm -rf crypto_logs"
   ]
  },
  {
   "cell_type": "code",
   "execution_count": null,
   "id": "376741f8",
   "metadata": {},
   "outputs": [],
   "source": []
  }
 ],
 "metadata": {
  "kernelspec": {
   "display_name": "Python 3 (ipykernel)",
   "language": "python",
   "name": "python3"
  },
  "language_info": {
   "codemirror_mode": {
    "name": "ipython",
    "version": 3
   },
   "file_extension": ".py",
   "mimetype": "text/x-python",
   "name": "python",
   "nbconvert_exporter": "python",
   "pygments_lexer": "ipython3",
   "version": "3.9.15"
  }
 },
 "nbformat": 4,
 "nbformat_minor": 5
}
