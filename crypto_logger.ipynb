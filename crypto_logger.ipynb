{
 "cells": [
  {
   "cell_type": "code",
   "execution_count": 1,
   "id": "182e49e8",
   "metadata": {
    "pixiedust": {
     "displayParams": {}
    },
    "scrolled": true
   },
   "outputs": [
    {
     "name": "stdout",
     "output_type": "stream",
     "text": [
      "Starting crypto loggers.\n",
      "Time spent for one loop: 1.1920928955078125e-06\n",
      "Time spent for one loop: 36.11079001426697\n",
      "Time spent for one loop: 35.85994791984558\n",
      "Time spent for one loop: 35.847400426864624\n",
      "Time spent for one loop: 35.70670819282532\n",
      "Time spent for one loop: 36.504491090774536\n",
      "Time spent for one loop: 37.01977610588074\n",
      "Time spent for one loop: 36.073901653289795\n",
      "Time spent for one loop: 35.785035133361816\n",
      "Time spent for one loop: 36.726980447769165\n",
      "Time spent for one loop: 36.11676859855652\n",
      "Time spent for one loop: 36.13594388961792\n",
      "Time spent for one loop: 36.35756993293762\n",
      "Time spent for one loop: 36.112940073013306\n",
      "Time spent for one loop: 36.59278130531311\n",
      "Time spent for one loop: 36.248478174209595\n",
      "Time spent for one loop: 36.387630224227905\n",
      "Time spent for one loop: 36.31726622581482\n",
      "Time spent for one loop: 36.83007550239563\n",
      "Time spent for one loop: 36.61181950569153\n",
      "Time spent for one loop: 36.08400249481201\n",
      "Time spent for one loop: 36.7011444568634\n",
      "Time spent for one loop: 37.08283829689026\n",
      "Time spent for one loop: 36.21015501022339\n",
      "Time spent for one loop: 36.537720680236816\n",
      "Time spent for one loop: 36.77451252937317\n",
      "Time spent for one loop: 35.56481385231018\n",
      "Time spent for one loop: 35.59364199638367\n",
      "Time spent for one loop: 36.256083965301514\n",
      "Time spent for one loop: 36.686277866363525\n",
      "Time spent for one loop: 36.72436451911926\n",
      "Time spent for one loop: 36.29271340370178\n",
      "Time spent for one loop: 36.121434926986694\n",
      "Time spent for one loop: 36.22526931762695\n",
      "Time spent for one loop: 36.328505992889404\n",
      "Time spent for one loop: 36.04206919670105\n",
      "Time spent for one loop: 36.181049823760986\n",
      "^C\n",
      "Saving latest complete dataset...\n"
     ]
    }
   ],
   "source": [
    "!python crypto_logger.py"
   ]
  },
  {
   "cell_type": "code",
   "execution_count": 2,
   "id": "40146562",
   "metadata": {},
   "outputs": [],
   "source": [
    "#%rm -rf crypto_logs"
   ]
  },
  {
   "cell_type": "code",
   "execution_count": null,
   "id": "0bf92f79",
   "metadata": {},
   "outputs": [],
   "source": []
  }
 ],
 "metadata": {
  "kernelspec": {
   "display_name": "Python 3 (ipykernel)",
   "language": "python",
   "name": "python3"
  },
  "language_info": {
   "codemirror_mode": {
    "name": "ipython",
    "version": 3
   },
   "file_extension": ".py",
   "mimetype": "text/x-python",
   "name": "python",
   "nbconvert_exporter": "python",
   "pygments_lexer": "ipython3",
   "version": "3.7.12"
  }
 },
 "nbformat": 4,
 "nbformat_minor": 5
}
