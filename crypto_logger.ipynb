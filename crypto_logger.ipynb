{
 "cells": [
  {
   "cell_type": "code",
   "execution_count": 1,
   "id": "182e49e8",
   "metadata": {
    "pixiedust": {
     "displayParams": {}
    },
    "scrolled": true
   },
   "outputs": [
    {
     "name": "stdout",
     "output_type": "stream",
     "text": [
      "Starting crypto loggers.\n",
      "Time spent for one loop: 9.5367431640625e-07\n",
      "Time spent for one loop: 15.280138492584229\n",
      "Time spent for one loop: 15.350914716720581\n",
      "Time spent for one loop: 15.707432270050049\n",
      "Time spent for one loop: 15.272262811660767\n",
      "Time spent for one loop: 15.379093885421753\n",
      "Time spent for one loop: 15.009552955627441\n",
      "Time spent for one loop: 14.816458463668823\n",
      "Time spent for one loop: 15.361027717590332\n",
      "Time spent for one loop: 15.288256168365479\n",
      "Time spent for one loop: 15.267905235290527\n",
      "Time spent for one loop: 15.29164433479309\n",
      "Time spent for one loop: 15.109059810638428\n",
      "Time spent for one loop: 15.826704978942871\n",
      "^C\n",
      "Saving latest complete dataset...\n",
      "User terminated crypto logger processes.\n",
      "Crypto logger processes done.\n"
     ]
    }
   ],
   "source": [
    "!python crypto_logger.py"
   ]
  },
  {
   "cell_type": "code",
   "execution_count": 2,
   "id": "40146562",
   "metadata": {},
   "outputs": [],
   "source": [
    "#%rm -rf crypto_logs"
   ]
  },
  {
   "cell_type": "code",
   "execution_count": null,
   "id": "0bf92f79",
   "metadata": {},
   "outputs": [],
   "source": []
  }
 ],
 "metadata": {
  "kernelspec": {
   "display_name": "Python 3 (ipykernel)",
   "language": "python",
   "name": "python3"
  },
  "language_info": {
   "codemirror_mode": {
    "name": "ipython",
    "version": 3
   },
   "file_extension": ".py",
   "mimetype": "text/x-python",
   "name": "python",
   "nbconvert_exporter": "python",
   "pygments_lexer": "ipython3",
   "version": "3.7.12"
  }
 },
 "nbformat": 4,
 "nbformat_minor": 5
}
