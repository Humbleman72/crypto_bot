{
 "cells": [
  {
   "cell_type": "markdown",
   "metadata": {
    "colab_type": "text",
    "id": "jKtLwsCCqsmH"
   },
   "source": [
    "# Cryptocurrency trading bot."
   ]
  },
  {
   "cell_type": "code",
   "execution_count": 1,
   "metadata": {},
   "outputs": [],
   "source": [
    "##%pip install python-binance==0.7.5\n",
    "#%pip install python-binance"
   ]
  },
  {
   "cell_type": "code",
   "execution_count": 2,
   "metadata": {},
   "outputs": [
    {
     "name": "stdout",
     "output_type": "stream",
     "text": [
      "100%|████████████████████████████████████| 1431/1431 [19:34<00:00,  1.22 pair/s]\n",
      "1431 named pair [02:37,  9.07 named pair/s]\n",
      "100%|████████████████████████████████████| 1431/1431 [08:59<00:00,  2.65 pair/s]\n",
      "1431 named pair [00:13, 109.83 named pair/s]\n",
      "100%|████████████████████████| 1431/1431 [00:05<00:00, 261.33 pair conversion/s]\n",
      "1431 named pair [01:29, 15.96 named pair/s]\n",
      "100%|████████████████████████| 1431/1431 [00:07<00:00, 185.75 pair conversion/s]\n",
      "1431 named pair [01:31, 15.72 named pair/s]\n",
      "100%|██████████████████████████████████| 1431/1431 [00:00<00:00, 5093.44 pair/s]\n",
      "1431 named pair [01:45, 13.56 named pair/s]\n",
      "100%|██████████████████████████████████| 1431/1431 [00:00<00:00, 3553.35 pair/s]\n",
      "1431 named pair [01:39, 14.43 named pair/s]\n",
      "  0%|                                               | 0/365 [00:00<?, ? asset/s]sys:1: PerformanceWarning: indexing past lexsort depth may impact performance.\n",
      "100%|█████████████████████████████████████| 365/365 [00:18<00:00, 19.37 asset/s]\n",
      "  0%|                                                  | 0/3 [00:00<?, ? pair/s]\n",
      "Traceback (most recent call last):\n",
      "  File \"bootstrap.py\", line 43, in <module>\n",
      "    main()\n",
      "  File \"bootstrap.py\", line 37, in main\n",
      "    pairs = bootstrap_loggers(client=client, assets=assets, \n",
      "  File \"/home/samuel/workspace/crypto_logger_shared/cryptocurrency/bootstrapping.py\", line 42, in bootstrap_loggers\n",
      "    pairs[interval] = resample(pairs[base_interval], interval=interval)\n",
      "  File \"/home/samuel/workspace/crypto_logger_shared/cryptocurrency/resampling.py\", line 21, in resample\n",
      "    df = df.pivot_table(index=['date'], columns=['symbol'], \n",
      "  File \"/opt/conda/envs/finance/lib/python3.8/site-packages/pandas/core/frame.py\", line 7031, in pivot_table\n",
      "    return pivot_table(\n",
      "  File \"/opt/conda/envs/finance/lib/python3.8/site-packages/pandas/core/reshape/pivot.py\", line 112, in pivot_table\n",
      "    grouped = data.groupby(keys, observed=observed)\n",
      "  File \"/opt/conda/envs/finance/lib/python3.8/site-packages/pandas/core/frame.py\", line 6717, in groupby\n",
      "    return DataFrameGroupBy(\n",
      "  File \"/opt/conda/envs/finance/lib/python3.8/site-packages/pandas/core/groupby/groupby.py\", line 560, in __init__\n",
      "    grouper, exclusions, obj = get_grouper(\n",
      "  File \"/opt/conda/envs/finance/lib/python3.8/site-packages/pandas/core/groupby/grouper.py\", line 811, in get_grouper\n",
      "    raise KeyError(gpr)\n",
      "KeyError: 'symbol'\n"
     ]
    }
   ],
   "source": [
    "!python bootstrap.py"
   ]
  },
  {
   "cell_type": "code",
   "execution_count": null,
   "metadata": {},
   "outputs": [],
   "source": []
  }
 ],
 "metadata": {
  "colab": {
   "authorship_tag": "ABX9TyO4csgmdyxBlfVzNgUhkI0X",
   "collapsed_sections": [],
   "include_colab_link": true,
   "name": "crypto_bot",
   "provenance": []
  },
  "kernelspec": {
   "display_name": "Python 3 (ipykernel)",
   "language": "python",
   "name": "python3"
  },
  "language_info": {
   "codemirror_mode": {
    "name": "ipython",
    "version": 3
   },
   "file_extension": ".py",
   "mimetype": "text/x-python",
   "name": "python",
   "nbconvert_exporter": "python",
   "pygments_lexer": "ipython3",
   "version": "3.7.12"
  }
 },
 "nbformat": 4,
 "nbformat_minor": 1
}
