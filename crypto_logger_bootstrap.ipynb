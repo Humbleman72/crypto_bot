{
 "cells": [
  {
   "cell_type": "markdown",
   "metadata": {
    "colab_type": "text",
    "id": "jKtLwsCCqsmH"
   },
   "source": [
    "# Cryptocurrency trading bot."
   ]
  },
  {
   "cell_type": "code",
   "execution_count": 1,
   "metadata": {},
   "outputs": [],
   "source": [
    "##%pip install python-binance==0.7.5\n",
    "#%pip install python-binance"
   ]
  },
  {
   "cell_type": "code",
   "execution_count": 2,
   "metadata": {},
   "outputs": [
    {
     "name": "stdout",
     "output_type": "stream",
     "text": [
      "100%|████████████████████████████████████| 1426/1426 [18:37<00:00,  1.28 pair/s]\n",
      "1426 named pair [02:33,  9.31 named pair/s]\n",
      "100%|████████████████████████████████████| 1426/1426 [08:32<00:00,  2.78 pair/s]\n",
      "1426 named pair [00:10, 135.66 named pair/s]\n",
      "100%|██████████████████████████████████████████| 3/3 [00:17<00:00,  5.73s/ pair]\n",
      "100%|██████████████████████████████████████████| 2/2 [00:04<00:00,  2.08s/ pair]\n",
      "Bootstrapping done!\n"
     ]
    }
   ],
   "source": [
    "!python bootstrap.py"
   ]
  },
  {
   "cell_type": "code",
   "execution_count": null,
   "metadata": {},
   "outputs": [],
   "source": []
  }
 ],
 "metadata": {
  "colab": {
   "authorship_tag": "ABX9TyO4csgmdyxBlfVzNgUhkI0X",
   "collapsed_sections": [],
   "include_colab_link": true,
   "name": "crypto_bot",
   "provenance": []
  },
  "kernelspec": {
   "display_name": "Python 3 (ipykernel)",
   "language": "python",
   "name": "python3"
  },
  "language_info": {
   "codemirror_mode": {
    "name": "ipython",
    "version": 3
   },
   "file_extension": ".py",
   "mimetype": "text/x-python",
   "name": "python",
   "nbconvert_exporter": "python",
   "pygments_lexer": "ipython3",
   "version": "3.7.12"
  }
 },
 "nbformat": 4,
 "nbformat_minor": 1
}
