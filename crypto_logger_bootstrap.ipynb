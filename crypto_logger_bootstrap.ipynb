{
 "cells": [
  {
   "cell_type": "markdown",
   "metadata": {
    "colab_type": "text",
    "id": "jKtLwsCCqsmH"
   },
   "source": [
    "# Cryptocurrency trading bot."
   ]
  },
  {
   "cell_type": "code",
   "execution_count": null,
   "metadata": {},
   "outputs": [],
   "source": [
    "##%pip install python-binance==0.7.5\n",
    "#%pip install python-binance"
   ]
  },
  {
   "cell_type": "code",
   "execution_count": null,
   "metadata": {
    "scrolled": true
   },
   "outputs": [],
   "source": [
    "!python bootstrap.py"
   ]
  },
  {
   "cell_type": "code",
   "execution_count": null,
   "metadata": {},
   "outputs": [],
   "source": []
  },
  {
   "cell_type": "code",
   "execution_count": 1,
   "metadata": {},
   "outputs": [
    {
     "name": "stderr",
     "output_type": "stream",
     "text": [
      "100%|████████████████████████████████████████████████████████████████████████████████████████████████████████████████████████████| 1431/1431 [09:00<00:00,  2.65 pair/s]\n",
      "1431 named pair [01:05, 21.71 named pair/s]\n",
      "100%|████████████████████████████████████████████████████████████████████████████████████████████████████████████████| 1431/1431 [00:05<00:00, 246.36 pair conversion/s]\n",
      "1431 named pair [00:23, 61.21 named pair/s]\n",
      "100%|████████████████████████████████████████████████████████████████████████████████████████████████████████████████| 1431/1431 [00:06<00:00, 236.01 pair conversion/s]\n",
      "1431 named pair [00:23, 61.19 named pair/s]\n",
      "100%|██████████████████████████████████████████████████████████████████████████████████████████████████████████████████████████| 1431/1431 [00:00<00:00, 3801.42 pair/s]\n",
      "1431 named pair [00:38, 37.37 named pair/s]\n",
      "100%|██████████████████████████████████████████████████████████████████████████████████████████████████████████████████████████| 1431/1431 [00:00<00:00, 4899.08 pair/s]\n",
      "1431 named pair [00:32, 43.44 named pair/s]\n",
      "  0%|                                                                                                                                       | 0/365 [00:00<?, ? asset/s]/opt/conda/envs/rltrader/lib/python3.7/site-packages/IPython/core/interactiveshell.py:3377: PerformanceWarning: indexing past lexsort depth may impact performance.\n",
      "  if (await self.run_code(code, result,  async_=asy)):\n",
      "100%|█████████████████████████████████████████████████████████████████████████████████████████████████████████████████████████████| 365/365 [00:20<00:00, 18.24 asset/s]\n"
     ]
    },
    {
     "data": {
      "text/plain": [
       "{'1d': symbol               1INCH                                                   \\\n",
       " pair                  open   high    low  close   base_volume  quote_volume   \n",
       " date                                                                          \n",
       " 2022-04-22 01:00:00  1.492  1.612  1.468  1.475  1.176025e+07  1.237870e+07   \n",
       " 2022-04-23 01:00:00  1.475  1.480  1.435  1.443  4.057659e+06  4.110166e+06   \n",
       " 2022-04-24 01:00:00  1.442  1.462  1.403  1.419  2.908468e+06  2.937269e+06   \n",
       " 2022-04-25 01:00:00  1.418  1.425  1.310  1.417  6.866562e+06  6.600923e+06   \n",
       " 2022-04-26 01:00:00  1.418  1.426  1.256  1.288  4.936424e+06  5.136750e+06   \n",
       " ...                    ...    ...    ...    ...           ...           ...   \n",
       " 2022-11-03 01:00:00  0.590  0.616  0.589  0.608  5.601222e+06  5.593959e+06   \n",
       " 2022-11-04 01:00:00  0.608  0.653  0.605  0.653  8.942123e+06  8.708064e+06   \n",
       " 2022-11-05 01:00:00  0.652  0.664  0.632  0.646  5.751128e+06  5.809714e+06   \n",
       " 2022-11-06 01:00:00  0.647  0.675  0.629  0.634  7.574229e+06  7.855781e+06   \n",
       " 2022-11-07 00:00:00  0.634  0.662  0.622  0.640  5.115682e+06  5.111773e+06   \n",
       " \n",
       " symbol                AAVE                       ...      ZIL           \\\n",
       " pair                  open   high    low  close  ...      low    close   \n",
       " date                                             ...                     \n",
       " 2022-04-22 01:00:00  173.8  180.6  171.1  176.9  ...  0.11024  0.11267   \n",
       " 2022-04-23 01:00:00  176.9  179.3  172.1  173.4  ...  0.10764  0.11054   \n",
       " 2022-04-24 01:00:00  173.4  174.9  165.5  166.4  ...  0.10454  0.10640   \n",
       " 2022-04-25 01:00:00  166.4  170.7  153.6  168.9  ...  0.09552  0.10348   \n",
       " 2022-04-26 01:00:00  168.8  179.0  154.5  158.0  ...  0.09001  0.09235   \n",
       " ...                    ...    ...    ...    ...  ...      ...      ...   \n",
       " 2022-11-03 01:00:00   80.4   86.6   79.8   83.7  ...  0.02945  0.03047   \n",
       " 2022-11-04 01:00:00   83.7   97.7   83.3   94.6  ...  0.03027  0.03290   \n",
       " 2022-11-05 01:00:00   94.7   98.4   93.5   96.3  ...  0.03165  0.03245   \n",
       " 2022-11-06 01:00:00   96.3   96.4   86.3   86.4  ...  0.03120  0.03124   \n",
       " 2022-11-07 00:00:00   86.3   89.7   83.8   88.4  ...  0.03065  0.03206   \n",
       " \n",
       " symbol                                              ZRX                  \\\n",
       " pair                  base_volume  quote_volume    open    high     low   \n",
       " date                                                                      \n",
       " 2022-04-22 01:00:00  1.100226e+08  1.114607e+08  0.9466  0.9798  0.8437   \n",
       " 2022-04-23 01:00:00  7.114124e+07  7.114920e+07  0.8624  0.9198  0.8306   \n",
       " 2022-04-24 01:00:00  7.421492e+07  7.626178e+07  0.8379  0.8596  0.7997   \n",
       " 2022-04-25 01:00:00  1.142824e+08  1.109785e+08  0.8091  0.8124  0.7332   \n",
       " 2022-04-26 01:00:00  9.163055e+07  9.727781e+07  0.7777  0.9000  0.7461   \n",
       " ...                           ...           ...     ...     ...     ...   \n",
       " 2022-11-03 01:00:00  8.791146e+06  8.785003e+06  0.2506  0.2667  0.2496   \n",
       " 2022-11-04 01:00:00  2.540027e+07  2.495953e+07  0.2626  0.2832  0.2614   \n",
       " 2022-11-05 01:00:00  1.661969e+07  1.685678e+07  0.2812  0.2869  0.2693   \n",
       " 2022-11-06 01:00:00  1.657034e+07  1.738390e+07  0.2742  0.2754  0.2555   \n",
       " 2022-11-07 00:00:00  9.104886e+06  9.013688e+06  0.2566  0.2619  0.2514   \n",
       " \n",
       " symbol                                                   \n",
       " pair                  close   base_volume  quote_volume  \n",
       " date                                                     \n",
       " 2022-04-22 01:00:00  0.8621  4.091033e+07  4.287416e+07  \n",
       " 2022-04-23 01:00:00  0.8377  2.592165e+07  2.727793e+07  \n",
       " 2022-04-24 01:00:00  0.8094  1.411047e+07  1.444051e+07  \n",
       " 2022-04-25 01:00:00  0.7780  1.612467e+07  1.582165e+07  \n",
       " 2022-04-26 01:00:00  0.8325  8.060729e+07  8.048820e+07  \n",
       " ...                     ...           ...           ...  \n",
       " 2022-11-03 01:00:00  0.2626  2.775964e+06  2.767730e+06  \n",
       " 2022-11-04 01:00:00  0.2813  3.563075e+06  3.461208e+06  \n",
       " 2022-11-05 01:00:00  0.2742  2.900493e+06  2.951338e+06  \n",
       " 2022-11-06 01:00:00  0.2566  1.894108e+06  1.973248e+06  \n",
       " 2022-11-07 00:00:00  0.2588  1.147125e+06  1.142481e+06  \n",
       " \n",
       " [200 rows x 2124 columns]}"
      ]
     },
     "execution_count": 1,
     "metadata": {},
     "output_type": "execute_result"
    }
   ],
   "source": [
    "from cryptocurrency.authentication import Cryptocurrency_authenticator\n",
    "from cryptocurrency.exchange import Cryptocurrency_exchange\n",
    "from cryptocurrency.conversion import get_timezone_offset_in_seconds\n",
    "from cryptocurrency.conversion_table import get_conversion_table, get_new_tickers\n",
    "from cryptocurrency.bootstrap import bootstrap_loggers\n",
    "import os\n",
    "import shutil\n",
    "\n",
    "as_pair = False\n",
    "directory = 'crypto_logs'\n",
    "if os.path.exists(directory):\n",
    "    shutil.rmtree(directory)\n",
    "os.mkdir(directory)\n",
    "authenticator = Cryptocurrency_authenticator(use_keys=False, testnet=False)\n",
    "client = authenticator.spot_client\n",
    "exchange = Cryptocurrency_exchange(client=client, directory=directory)\n",
    "exchange_info = exchange.info\n",
    "offset_s = get_timezone_offset_in_seconds()\n",
    "conversion_table = get_conversion_table(client=client, exchange_info=exchange_info, \n",
    "                                        offset_s=offset_s, as_pair=True)\n",
    "assets = get_new_tickers(conversion_table=conversion_table)\n",
    "pairs = bootstrap_loggers(client=client, assets=assets, pairs={}, \n",
    "                          download_interval='1d', exchange_info=exchange_info, as_pair=as_pair)\n",
    "pairs"
   ]
  },
  {
   "cell_type": "code",
   "execution_count": null,
   "metadata": {},
   "outputs": [],
   "source": []
  }
 ],
 "metadata": {
  "colab": {
   "authorship_tag": "ABX9TyO4csgmdyxBlfVzNgUhkI0X",
   "collapsed_sections": [],
   "include_colab_link": true,
   "name": "crypto_bot",
   "provenance": []
  },
  "kernelspec": {
   "display_name": "Python 3 (ipykernel)",
   "language": "python",
   "name": "python3"
  },
  "language_info": {
   "codemirror_mode": {
    "name": "ipython",
    "version": 3
   },
   "file_extension": ".py",
   "mimetype": "text/x-python",
   "name": "python",
   "nbconvert_exporter": "python",
   "pygments_lexer": "ipython3",
   "version": "3.7.12"
  }
 },
 "nbformat": 4,
 "nbformat_minor": 1
}
