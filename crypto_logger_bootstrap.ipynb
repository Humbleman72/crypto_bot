{
 "cells": [
  {
   "cell_type": "markdown",
   "metadata": {
    "colab_type": "text",
    "id": "jKtLwsCCqsmH"
   },
   "source": [
    "# Cryptocurrency trading bot."
   ]
  },
  {
   "cell_type": "code",
   "execution_count": null,
   "metadata": {},
   "outputs": [],
   "source": [
    "##%pip install python-binance==0.7.5\n",
    "#%pip install python-binance"
   ]
  },
  {
   "cell_type": "code",
   "execution_count": null,
   "metadata": {
    "scrolled": true
   },
   "outputs": [
    {
     "name": "stdout",
     "output_type": "stream",
     "text": [
      " 18%|██████▌                              | 252/1415 [01:37<06:44,  2.88 pair/s]"
     ]
    }
   ],
   "source": [
    "!python bootstrap.py"
   ]
  },
  {
   "cell_type": "code",
   "execution_count": null,
   "metadata": {},
   "outputs": [],
   "source": []
  },
  {
   "cell_type": "code",
   "execution_count": null,
   "metadata": {},
   "outputs": [],
   "source": []
  },
  {
   "cell_type": "code",
   "execution_count": null,
   "metadata": {},
   "outputs": [],
   "source": [
    "from cryptocurrency.authentication import Cryptocurrency_authenticator\n",
    "from cryptocurrency.exchange import Cryptocurrency_exchange\n",
    "from cryptocurrency.conversion import get_timezone_offset_in_seconds\n",
    "from cryptocurrency.conversion_table import get_conversion_table, get_new_tickers\n",
    "from cryptocurrency.conversion_ohlcv import convert_ohlcvs_from_pairs_to_assets\n",
    "from cryptocurrency.ohlcvs import download_pairs\n",
    "from cryptocurrency.resample import resample\n",
    "from cryptocurrency.volume_conversion import add_rolling_volumes\n",
    "from tqdm import tqdm\n",
    "import pandas as pd\n",
    "import os\n",
    "import shutil\n",
    "\n",
    "def bootstrap_loggers(client, assets, pairs=None, additional_intervals=None, upsampled_intervals=None, \n",
    "                      download_interval='1m', exchange_info=None, as_pair=False):\n",
    "    log_file = 'crypto_logs/crypto_output_log_{}.txt'\n",
    "    period = 2880 if download_interval == '1m' else 60\n",
    "    second_period = 60 if download_interval == '1m' else None\n",
    "    base_interval = download_interval + 'in' if download_interval[-1] == 'm' else download_interval\n",
    "    frequency_1min = pd.tseries.frequencies.to_offset('1min')\n",
    "    frequency_1d = pd.tseries.frequencies.to_offset('1d')\n",
    "    frequency = pd.tseries.frequencies.to_offset(base_interval)\n",
    "    pairs[base_interval] = download_pairs(client=client, assets=assets, interval=download_interval, \n",
    "                                          period=period, second_period=second_period)\n",
    "    if not as_pair:\n",
    "        pairs[base_interval] = convert_ohlcvs_from_pairs_to_assets(pairs[base_interval], exchange_info)\n",
    "    pairs[base_interval] = add_rolling_volumes(pairs[base_interval])\n",
    "    pairs[base_interval] = pairs[base_interval].loc[pairs[base_interval].dropna().first_valid_index():]\n",
    "    if additional_intervals is not None:\n",
    "        for additional_interval in tqdm(additional_intervals, unit=' pair'):\n",
    "            pairs[additional_interval] = resample(pairs[base_interval].copy(), interval=additional_interval)\n",
    "            pairs[additional_interval] = pairs[additional_interval].tail(200)\n",
    "            pairs[additional_interval].to_csv(log_file.format(additional_interval))\n",
    "    truncated_frequency = 60 if frequency > frequency_1min else 1500\n",
    "    pairs[base_interval] = pairs[base_interval].tail(truncated_frequency)\n",
    "    pairs[base_interval].to_csv(log_file.format(base_interval))\n",
    "    if upsampled_intervals is not None:\n",
    "        for subminute_interval in tqdm(upsampled_intervals, unit=' pair'):\n",
    "            pairs[subminute_interval] = pairs[base_interval].tail(25)\n",
    "            pairs[subminute_interval] = pairs[subminute_interval].resample(subminute_interval).agg('max')\n",
    "            pairs[subminute_interval] = pairs[subminute_interval].fillna(method='pad').tail(60)\n",
    "            pairs[subminute_interval].to_csv(log_file.format(subminute_interval))\n",
    "    return pairs\n",
    "\n",
    "as_pair = False\n",
    "directory = 'crypto_logs'\n",
    "if os.path.exists(directory):\n",
    "    shutil.rmtree(directory)\n",
    "os.mkdir(directory)\n",
    "authenticator = Cryptocurrency_authenticator(use_keys=False, testnet=False)\n",
    "client = authenticator.spot_client\n",
    "exchange = Cryptocurrency_exchange(client=client, directory=directory)\n",
    "exchange_info = exchange.info\n",
    "offset_s = get_timezone_offset_in_seconds()\n",
    "conversion_table = get_conversion_table(client=client, exchange_info=exchange_info, \n",
    "                                        offset_s=offset_s, as_pair=True)\n",
    "assets = get_new_tickers(conversion_table=conversion_table)\n",
    "assets = assets[:10]\n",
    "\n",
    "pairs = bootstrap_loggers(client=client, assets=assets, pairs={}, \n",
    "                          additional_intervals=['30min'], \n",
    "                          upsampled_intervals=['5s', '15s'], \n",
    "                          download_interval='1m', \n",
    "                          exchange_info=exchange_info, \n",
    "                          as_pair=True)\n",
    "pairs['1min']"
   ]
  },
  {
   "cell_type": "code",
   "execution_count": null,
   "metadata": {},
   "outputs": [],
   "source": []
  }
 ],
 "metadata": {
  "colab": {
   "authorship_tag": "ABX9TyO4csgmdyxBlfVzNgUhkI0X",
   "collapsed_sections": [],
   "include_colab_link": true,
   "name": "crypto_bot",
   "provenance": []
  },
  "kernelspec": {
   "display_name": "Python 3 (ipykernel)",
   "language": "python",
   "name": "python3"
  },
  "language_info": {
   "codemirror_mode": {
    "name": "ipython",
    "version": 3
   },
   "file_extension": ".py",
   "mimetype": "text/x-python",
   "name": "python",
   "nbconvert_exporter": "python",
   "pygments_lexer": "ipython3",
   "version": "3.7.12"
  }
 },
 "nbformat": 4,
 "nbformat_minor": 1
}
