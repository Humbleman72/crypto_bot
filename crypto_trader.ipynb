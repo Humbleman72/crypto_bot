{
 "cells": [
  {
   "cell_type": "markdown",
   "metadata": {
    "colab_type": "text",
    "id": "jKtLwsCCqsmH"
   },
   "source": [
    "# Cryptocurrency trading bot."
   ]
  },
  {
   "cell_type": "markdown",
   "metadata": {},
   "source": [
    "## Install if needed."
   ]
  },
  {
   "cell_type": "code",
   "execution_count": null,
   "metadata": {},
   "outputs": [],
   "source": [
    "##%pip install python-binance==0.7.5\n",
    "#%pip install --upgrade python-binance\n",
    "#%pip install paramiko"
   ]
  },
  {
   "cell_type": "markdown",
   "metadata": {},
   "source": [
    "## API key management."
   ]
  },
  {
   "cell_type": "code",
   "execution_count": null,
   "metadata": {},
   "outputs": [],
   "source": [
    "from cryptocurrency.authentication import Cryptocurrency_authenticator\n",
    "authenticator = Cryptocurrency_authenticator(use_keys=False, testnet=False)\n",
    "client = authenticator.spot_client\n",
    "client"
   ]
  },
  {
   "cell_type": "markdown",
   "metadata": {},
   "source": [
    "## Get all available pairs for information needed to trade."
   ]
  },
  {
   "cell_type": "code",
   "execution_count": null,
   "metadata": {},
   "outputs": [],
   "source": [
    "from cryptocurrency.exchange import Cryptocurrency_exchange\n",
    "exchange = Cryptocurrency_exchange(client=client, directory='crypto_logs')\n",
    "exchange_info = exchange.info\n",
    "exchange_info"
   ]
  },
  {
   "cell_type": "markdown",
   "metadata": {},
   "source": [
    "## Get conversion table for price conversions."
   ]
  },
  {
   "cell_type": "code",
   "execution_count": null,
   "metadata": {},
   "outputs": [],
   "source": [
    "from_asset = 'BDOT'\n",
    "to_asset = 'BETH'\n",
    "\n",
    "from cryptocurrency.conversion import get_shortest_pair_path_between_assets\n",
    "\n",
    "shortest_pair_path_between_assets = \\\n",
    "    get_shortest_pair_path_between_assets(from_asset, to_asset, \n",
    "                                          exchange_info, \n",
    "                                          priority='fees')\n",
    "\n",
    "shortest_pair_path_between_assets"
   ]
  },
  {
   "cell_type": "code",
   "execution_count": null,
   "metadata": {},
   "outputs": [],
   "source": [
    "from cryptocurrency.conversion_table import get_conversion_table\n",
    "conversion_table = get_conversion_table(client=client, exchange_info=exchange_info, as_pair=True)\n",
    "conversion_table"
   ]
  },
  {
   "cell_type": "markdown",
   "metadata": {},
   "source": [
    "## Pre-screen buyable base assets in pairs."
   ]
  },
  {
   "cell_type": "code",
   "execution_count": null,
   "metadata": {},
   "outputs": [],
   "source": [
    "from cryptocurrency.conversion_table import get_new_tickers\n",
    "tickers_list = get_new_tickers(conversion_table=conversion_table)\n",
    "len(tickers_list)"
   ]
  },
  {
   "cell_type": "markdown",
   "metadata": {},
   "source": [
    "## Locally (saving time) convert price from an asset to another using existing pairs."
   ]
  },
  {
   "cell_type": "code",
   "execution_count": null,
   "metadata": {},
   "outputs": [],
   "source": [
    "from cryptocurrency.trade import select_asset_with_biggest_wallet\n",
    "from_asset, converted_quantity, quantity = \\\n",
    "    select_asset_with_biggest_wallet(client=client, \n",
    "                                     conversion_table=conversion_table, \n",
    "                                     exchange_info=exchange_info, \n",
    "                                     as_pair=True)\n",
    "priority = 'fees' if float(converted_quantity) > 10.0 else 'wallet'\n",
    "from_asset, converted_quantity, quantity"
   ]
  },
  {
   "cell_type": "markdown",
   "metadata": {},
   "source": [
    "## Trade."
   ]
  },
  {
   "cell_type": "code",
   "execution_count": null,
   "metadata": {},
   "outputs": [],
   "source": [
    "import pandas as pd\n",
    "\n",
    "def get_conversion_table_2(conversion_table_file_name='crypto_logs/conversion_table.txt'):\n",
    "    return pd.read_csv(conversion_table_file_name, index_col=0)\n",
    "\n",
    "conversion_table_file_name = 'crypto_logs/conversion_table.txt'\n",
    "#conversion_table = get_conversion_table(client=client, exchange_info=exchange_info, as_pair=True, dump_raw=True)\n",
    "#conversion_table = get_conversion_table_2(conversion_table_file_name=conversion_table_file_name)\n",
    "#conversion_table"
   ]
  },
  {
   "cell_type": "code",
   "execution_count": null,
   "metadata": {
    "scrolled": false
   },
   "outputs": [],
   "source": [
    "to_asset = 'BTC'\n",
    "\n",
    "from cryptocurrency.trade import trade\n",
    "import pandas as pd\n",
    "\n",
    "conversion_table = get_conversion_table(client=client, exchange_info=exchange_info, as_pair=True)\n",
    "request = trade(client=client, to_asset=to_asset, conversion_table=conversion_table, \n",
    "                exchange_info=exchange_info, priority=priority)\n",
    "from_asset = to_asset\n",
    "request"
   ]
  },
  {
   "cell_type": "markdown",
   "metadata": {},
   "source": [
    "## Main loop buying screened assets in pairs which are connected to the wallet holdings."
   ]
  },
  {
   "cell_type": "code",
   "execution_count": null,
   "metadata": {},
   "outputs": [],
   "source": [
    "sell_asset = 'BUSD'\n",
    "take_profit = None\n",
    "stop_loss = None\n",
    "purchased_asset = None\n",
    "asset_to_delete = None\n",
    "crypto_input_log_screened_15s = '~/workspace/crypto_logs/crypto_input_log_15s_screened.txt'\n",
    "crypto_output_log_screened_15s = '~/workspace/crypto_logs/crypto_output_log_15s_screened.txt'\n",
    "crypto_output_log_screened_1min = '~/workspace/crypto_logs/crypto_output_log_1min_screened.txt'\n",
    "crypto_output_log_screened_30min = '~/workspace/crypto_logs/crypto_output_log_30min_screened.txt'\n",
    "crypto_output_log_screened_1h = '~/workspace/crypto_logs/crypto_output_log_1h_screened.txt'\n",
    "crypto_output_log_screened_1d = '~/workspace/crypto_logs/crypto_output_log_1d_screened.txt'\n",
    "crypto_input_log_screened = crypto_input_log_screened_15s\n",
    "crypto_output_log_screened = crypto_output_log_screened_1d\n",
    "\n",
    "keys_file = 'server_keys.txt'\n",
    "with open(keys_file, 'r') as f:\n",
    "    password = f.readline().replace('\\n', '')\n",
    "\n",
    "from cryptocurrency.conversion import select_pair_with_highest_quote_volume_from_base_asset\n",
    "from cryptocurrency.order_book import get_order_book_trigger\n",
    "import sys\n",
    "import time\n",
    "import pandas as pd\n",
    "import paramiko\n",
    "\n",
    "if sys.version_info[0] < 3:\n",
    "    from StringIO import StringIO\n",
    "else:\n",
    "    from io import StringIO\n",
    "\n",
    "ssh = paramiko.SSHClient()\n",
    "ssh.set_missing_host_key_policy(paramiko.AutoAddPolicy())\n",
    "\n",
    "#ssh.connect('154.12.239.24', username='sam', port=22, password=password)\n",
    "#ssh.connect('154.53.55.232', username='sam', port=22, password=password)\n",
    "#ssh.connect('178.238.230.58', username='sam', port=22, password=password)\n",
    "ssh.connect('185.169.198.139', username='sam', port=22, password=password)\n",
    "\n",
    "def get_tradable_pairs(crypto_output_log_screened=crypto_output_log_screened):\n",
    "    ssh_stdin, ssh_stdout, ssh_stderr = ssh.exec_command('cat {}'.format(crypto_output_log_screened))\n",
    "    return pd.read_csv(StringIO(str(ssh_stdout.read().decode('utf-8'))))\n",
    "\n",
    "def choose_to_asset(from_asset, to_asset, latest_asset, crypto_output_log_screened=crypto_output_log_screened):\n",
    "    tradable_pairs = get_tradable_pairs(crypto_output_log_screened=crypto_output_log_screened)\n",
    "    if tradable_pairs.shape[0] < 1:\n",
    "        to_asset = sell_asset\n",
    "    else:\n",
    "        print('.', end='')\n",
    "        tradable_assets = list(set(tradable_pairs['symbol'].tolist()))\n",
    "        if from_asset in tradable_assets:\n",
    "            to_asset = latest_asset = from_asset\n",
    "        else:\n",
    "            buyable = False\n",
    "            for test_asset in tradable_assets[::-1]:\n",
    "                test_symbol = \\\n",
    "                    select_pair_with_highest_quote_volume_from_base_asset(base_asset=test_asset, \n",
    "                                                                          conversion_table=conversion_table, \n",
    "                                                                          exchange_info=exchange_info)\n",
    "                if get_order_book_trigger(client=client, symbol=test_symbol, threshold=10000):\n",
    "                    latest_asset = test_asset\n",
    "                    buyable = True\n",
    "                    break\n",
    "            to_asset = latest_asset if buyable else sell_asset\n",
    "    return latest_asset, to_asset\n",
    "\n",
    "def trade_conditionally(client, exchange_info, to_asset, price_when_bought, asset_to_delete):\n",
    "    conversion_table = get_conversion_table(client=client, exchange_info=exchange_info, as_pair=True)\n",
    "    from_asset, converted_quantity, quantity = \\\n",
    "        select_asset_with_biggest_wallet(client=client, conversion_table=conversion_table, \n",
    "                                         exchange_info=exchange_info)\n",
    "    priority = 'fees' if float(converted_quantity) > 10.0 else 'wallet'\n",
    "    request = trade(client=client, to_asset=to_asset, conversion_table=conversion_table, \n",
    "                    exchange_info=exchange_info, priority=priority)\n",
    "    if request is not None:\n",
    "        if to_asset != sell_asset:\n",
    "            pair_bought = request['symbol']\n",
    "            price_when_bought = float(request['fills'][0]['price'])\n",
    "        else:\n",
    "            asset_to_delete = from_asset\n",
    "        from_asset = to_asset\n",
    "    return from_asset, to_asset, price_when_bought, asset_to_delete\n",
    "\n",
    "latest_asset = from_asset\n",
    "price_when_bought = quantity\n",
    "while True:\n",
    "    latest_asset, to_asset = choose_to_asset(from_asset, to_asset, latest_asset, \n",
    "                                             crypto_output_log_screened=crypto_output_log_screened)\n",
    "    if from_asset != to_asset:\n",
    "        from_asset, to_asset, price_when_bought, asset_to_delete = \\\n",
    "            trade_conditionally(client=client, exchange_info=exchange_info, to_asset=to_asset, \n",
    "                                price_when_bought=price_when_bought, asset_to_delete=asset_to_delete)\n",
    "    time.sleep(2)\n",
    "\n",
    "ssh.close()"
   ]
  },
  {
   "cell_type": "code",
   "execution_count": null,
   "metadata": {},
   "outputs": [],
   "source": [
    "sell_asset = 'BUSD'\n",
    "take_profit = 10.0\n",
    "stop_loss = None\n",
    "purchased_asset = None\n",
    "asset_to_delete = None\n",
    "crypto_input_log_screened_15s = '~/workspace/crypto_logs/crypto_input_log_15s_screened.txt'\n",
    "crypto_output_log_screened_15s = '~/workspace/crypto_logs/crypto_output_log_15s_screened.txt'\n",
    "crypto_output_log_screened_1min = '~/workspace/crypto_logs/crypto_output_log_1min_screened.txt'\n",
    "crypto_output_log_screened_30min = '~/workspace/crypto_logs/crypto_output_log_30min_screened.txt'\n",
    "crypto_output_log_screened_1h = '~/workspace/crypto_logs/crypto_output_log_1h_screened.txt'\n",
    "crypto_output_log_screened_1d = '~/workspace/crypto_logs/crypto_output_log_1d_screened.txt'\n",
    "crypto_input_log_screened = crypto_input_log_screened_15s\n",
    "crypto_output_log_screened = crypto_output_log_screened_1d\n",
    "\n",
    "keys_file = 'contabo_keys.txt'\n",
    "with open(keys_file, 'r') as f:\n",
    "    password = f.readline().replace('\\n', '')\n",
    "\n",
    "from cryptocurrency.authentication import Cryptocurrency_authenticator\n",
    "from cryptocurrency.conversion import get_base_asset_from_pair\n",
    "from cryptocurrency.exchange import Cryptocurrency_exchange\n",
    "\n",
    "import sys\n",
    "import time\n",
    "import pandas as pd\n",
    "import paramiko\n",
    "\n",
    "if sys.version_info[0] < 3:\n",
    "    from StringIO import StringIO\n",
    "else:\n",
    "    from io import StringIO\n",
    "\n",
    "ssh = paramiko.SSHClient()\n",
    "ssh.set_missing_host_key_policy(paramiko.AutoAddPolicy())\n",
    "\n",
    "ssh.connect('154.12.239.24', username='sam', port=22, password=password)\n",
    "\n",
    "def get_tradable_pairs(crypto_output_log_screened=crypto_output_log_screened):\n",
    "    ssh_stdin, ssh_stdout, ssh_stderr = ssh.exec_command('cat {}'.format(crypto_output_log_screened))\n",
    "    return pd.read_csv(StringIO(str(ssh_stdout.read().decode('utf-8'))))\n",
    "\n",
    "def choose_to_asset(from_asset, to_asset, latest_asset, crypto_output_log_screened=crypto_output_log_screened):\n",
    "    tradable_pairs = get_tradable_pairs(crypto_output_log_screened=crypto_output_log_screened)\n",
    "    if tradable_pairs.shape[0] < 1:\n",
    "        to_asset = sell_asset\n",
    "    else:\n",
    "        print('.', end='')\n",
    "        tradable_assets = list(set(tradable_pairs['symbol'].tolist()))\n",
    "        latest_asset = tradable_assets[-1]\n",
    "        if from_asset not in tradable_assets:\n",
    "            to_asset = latest_asset\n",
    "    return latest_asset, to_asset\n",
    "\n",
    "def trade_conditionally(client, exchange_info, to_asset, price_when_bought, asset_to_delete):\n",
    "    conversion_table = get_conversion_table(client=client, exchange_info=exchange_info, as_pair=True)\n",
    "    from_asset, converted_quantity, quantity = \\\n",
    "        select_asset_with_biggest_wallet(client=client, conversion_table=conversion_table, \n",
    "                                         exchange_info=exchange_info)\n",
    "    priority = 'fees' if float(converted_quantity) > 10.0 else 'wallet'\n",
    "    request = trade(client=client, to_asset=to_asset, conversion_table=conversion_table, \n",
    "                    exchange_info=exchange_info, priority=priority)\n",
    "    if request is not None:\n",
    "        if to_asset != sell_asset:\n",
    "            pair_bought = request['symbol']\n",
    "            price_when_bought = float(request['fills'][0]['price'])\n",
    "        else:\n",
    "            asset_to_delete = from_asset\n",
    "        from_asset = to_asset\n",
    "    return from_asset, to_asset, price_when_bought, asset_to_delete\n",
    "\n",
    "latest_asset = from_asset\n",
    "price_when_bought = quantity\n",
    "while True:\n",
    "    try:\n",
    "        if asset_to_delete is None:\n",
    "            latest_asset, to_asset = choose_to_asset(from_asset, to_asset, latest_asset, \n",
    "                                                     crypto_output_log_screened=crypto_output_log_screened)\n",
    "            if from_asset != to_asset:\n",
    "                from_asset, to_asset, price_when_bought, asset_to_delete = \\\n",
    "                    trade_conditionally(client=client, exchange_info=exchange_info, to_asset=to_asset, \n",
    "                                        price_when_bought=price_when_bought, asset_to_delete=asset_to_delete)\n",
    "            elif purchased_asset is not None:\n",
    "                #conversion_table = get_conversion_table(client=client, exchange_info=exchange_info, as_pair=True)\n",
    "                conversion_table = get_conversion_table_2(conversion_table_file_name=conversion_table_file_name)\n",
    "                price_now = conversion_table[conversion_table['symbol'] == purchased_asset]['close'].iat[0]\n",
    "                percent_gain = ((price_now - price_when_bought) / price_when_bought) * 100.0\n",
    "                if stop_loss is not None:\n",
    "                    if percent_gain <= -stop_loss:\n",
    "                        to_asset = latest_asset\n",
    "                elif take_profit is not None:\n",
    "                    if percent_gain >= take_profit:\n",
    "                        to_asset = latest_asset\n",
    "                else:\n",
    "                    asset_to_delete = None\n",
    "            time.sleep(2)\n",
    "        else:\n",
    "            connected_pairs = exchange_info[exchange_info['base_asset'] == asset_to_delete]['symbol']\n",
    "            input_pairs = pd.read_csv(crypto_input_log_screened, index_col=0)\n",
    "            input_pairs = input_pairs[~(input_pairs['symbol'].isin(connected_pairs))]\n",
    "            input_pairs.to_csv(crypto_input_log_screened)\n",
    "            asset_to_delete = None\n",
    "    except (IndexError, pd.errors.EmptyDataError):\n",
    "        time.sleep(0.5)\n",
    "        continue\n",
    "\n",
    "ssh.close()"
   ]
  },
  {
   "cell_type": "code",
   "execution_count": null,
   "metadata": {},
   "outputs": [],
   "source": [
    "crypto_input_log_screened_15s = 'crypto_logs/crypto_input_log_15s_screened.txt'\n",
    "crypto_output_log_screened_15s = 'crypto_logs/crypto_output_log_15s_screened.txt'\n",
    "crypto_output_log_screened_1min = 'crypto_logs/crypto_output_log_1min_screened.txt'\n",
    "crypto_output_log_screened_30min = 'crypto_logs/crypto_output_log_30min_screened.txt'\n",
    "crypto_output_log_screened_1h = 'crypto_logs/crypto_output_log_1h_screened.txt'\n",
    "crypto_output_log_screened_1d = 'crypto_logs/crypto_output_log_1d_screened.txt'\n",
    "crypto_input_log_screened = crypto_input_log_screened_15s\n",
    "crypto_output_log_screened = crypto_output_log_screened_1d\n",
    "\n",
    "keys_file = 'contabo_keys.txt'\n",
    "with open(keys_file, 'r') as f:\n",
    "    password = f.readline().replace('\\n', '')\n",
    "\n",
    "import sys\n",
    "import time\n",
    "import pandas as pd\n",
    "import paramiko\n",
    "\n",
    "if sys.version_info[0] < 3:\n",
    "    from StringIO import StringIO\n",
    "else:\n",
    "    from io import StringIO\n",
    "\n",
    "ssh = paramiko.SSHClient()\n",
    "ssh.set_missing_host_key_policy(paramiko.AutoAddPolicy())\n",
    "\n",
    "ssh.connect('154.12.239.24', username='sam', port=22, password=password)\n",
    "\n",
    "def get_tradable_pairs(crypto_output_log_screened=crypto_output_log_screened_1d):\n",
    "    ssh_stdin, ssh_stdout, ssh_stderr = ssh.exec_command('cat {}'.format(crypto_output_log_screened))\n",
    "    return pd.read_csv(StringIO(str(ssh_stdout.read().decode('utf-8'))))\n",
    "\n",
    "while True:\n",
    "    df = get_tradable_pairs(crypto_output_log_screened=crypto_output_log_screened)\n",
    "\n",
    "    if df.shape[0] < 1:\n",
    "        print('None')\n",
    "    else:\n",
    "        print(df)\n",
    "\n",
    "    time.sleep(2)\n",
    "\n",
    "ssh.close()"
   ]
  },
  {
   "cell_type": "code",
   "execution_count": null,
   "metadata": {},
   "outputs": [],
   "source": []
  }
 ],
 "metadata": {
  "colab": {
   "authorship_tag": "ABX9TyO4csgmdyxBlfVzNgUhkI0X",
   "collapsed_sections": [],
   "include_colab_link": true,
   "name": "crypto_bot",
   "provenance": []
  },
  "kernelspec": {
   "display_name": "Python 3 (ipykernel)",
   "language": "python",
   "name": "python3"
  },
  "language_info": {
   "codemirror_mode": {
    "name": "ipython",
    "version": 3
   },
   "file_extension": ".py",
   "mimetype": "text/x-python",
   "name": "python",
   "nbconvert_exporter": "python",
   "pygments_lexer": "ipython3",
   "version": "3.10.8"
  }
 },
 "nbformat": 4,
 "nbformat_minor": 1
}
