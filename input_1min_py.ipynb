{
 "cells": [
  {
   "cell_type": "code",
   "execution_count": 1,
   "id": "182e49e8",
   "metadata": {},
   "outputs": [
    {
     "name": "stdout",
     "output_type": "stream",
     "text": [
      "Starting crypto logger.\n",
      "^C\n",
      "Traceback (most recent call last):\n",
      "  File \"crypto_logger_input_1min.py\", line 14, in <module>\n",
      "    crypto_logger_input_1min.start(append=True, roll=120)\n",
      "  File \"/home/samuel/workspace/tensortrade_secret/cryptocurrency/crypto_logger_base.py\", line 170, in start\n",
      "    sleep(self.delay)\n",
      "KeyboardInterrupt\n"
     ]
    }
   ],
   "source": [
    "!python crypto_logger_input_1min.py"
   ]
  },
  {
   "cell_type": "code",
   "execution_count": 2,
   "id": "40146562",
   "metadata": {},
   "outputs": [],
   "source": [
    "#%rm -rf crypto_logs"
   ]
  },
  {
   "cell_type": "code",
   "execution_count": null,
   "id": "4abfa348",
   "metadata": {},
   "outputs": [],
   "source": []
  }
 ],
 "metadata": {
  "kernelspec": {
   "display_name": "Python 3 (ipykernel)",
   "language": "python",
   "name": "python3"
  },
  "language_info": {
   "codemirror_mode": {
    "name": "ipython",
    "version": 3
   },
   "file_extension": ".py",
   "mimetype": "text/x-python",
   "name": "python",
   "nbconvert_exporter": "python",
   "pygments_lexer": "ipython3",
   "version": "3.7.12"
  }
 },
 "nbformat": 4,
 "nbformat_minor": 5
}
