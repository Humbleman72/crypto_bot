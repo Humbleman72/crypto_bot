{
 "cells": [
  {
   "cell_type": "markdown",
   "metadata": {
    "colab_type": "text",
    "id": "jKtLwsCCqsmH"
   },
   "source": [
    "Cryptocurrency trading bot."
   ]
  },
  {
   "cell_type": "code",
   "execution_count": 1,
   "metadata": {},
   "outputs": [],
   "source": [
    "##%pip install python-binance==0.7.5\n",
    "#%pip install python-binance"
   ]
  },
  {
   "cell_type": "markdown",
   "metadata": {},
   "source": [
    "## Global constants."
   ]
  },
  {
   "cell_type": "code",
   "execution_count": 2,
   "metadata": {},
   "outputs": [],
   "source": [
    "symbol = 'OCEANUSDT'\n",
    "interval = '1h'\n",
    "period = 100"
   ]
  },
  {
   "cell_type": "markdown",
   "metadata": {},
   "source": [
    "## API key management."
   ]
  },
  {
   "cell_type": "code",
   "execution_count": 3,
   "metadata": {},
   "outputs": [
    {
     "data": {
      "text/plain": [
       "<binance.client.Client at 0x7f1250585400>"
      ]
     },
     "execution_count": 3,
     "metadata": {},
     "output_type": "execute_result"
    }
   ],
   "source": [
    "from cryptocurrency.authentication import Cryptocurrency_authenticator\n",
    "authenticator = Cryptocurrency_authenticator(use_keys=False, testnet=False)\n",
    "client = authenticator.spot_client\n",
    "client"
   ]
  },
  {
   "cell_type": "markdown",
   "metadata": {},
   "source": [
    "## Get all available pairs for information needed to trade."
   ]
  },
  {
   "cell_type": "code",
   "execution_count": 4,
   "metadata": {},
   "outputs": [
    {
     "data": {
      "text/html": [
       "<div>\n",
       "<style scoped>\n",
       "    .dataframe tbody tr th:only-of-type {\n",
       "        vertical-align: middle;\n",
       "    }\n",
       "\n",
       "    .dataframe tbody tr th {\n",
       "        vertical-align: top;\n",
       "    }\n",
       "\n",
       "    .dataframe thead th {\n",
       "        text-align: right;\n",
       "    }\n",
       "</style>\n",
       "<table border=\"1\" class=\"dataframe\">\n",
       "  <thead>\n",
       "    <tr style=\"text-align: right;\">\n",
       "      <th></th>\n",
       "      <th>symbol</th>\n",
       "      <th>baseAsset</th>\n",
       "      <th>baseAssetPrecision</th>\n",
       "      <th>quoteAsset</th>\n",
       "      <th>quotePrecision</th>\n",
       "      <th>quoteAssetPrecision</th>\n",
       "      <th>baseCommissionPrecision</th>\n",
       "      <th>quoteCommissionPrecision</th>\n",
       "      <th>allowTrailingStop</th>\n",
       "      <th>cancelReplaceAllowed</th>\n",
       "      <th>min_price</th>\n",
       "      <th>max_price</th>\n",
       "      <th>tick_size</th>\n",
       "      <th>step_size</th>\n",
       "      <th>multiplier_up</th>\n",
       "      <th>multiplier_down</th>\n",
       "    </tr>\n",
       "  </thead>\n",
       "  <tbody>\n",
       "    <tr>\n",
       "      <th>0</th>\n",
       "      <td>ETHBTC</td>\n",
       "      <td>ETH</td>\n",
       "      <td>8</td>\n",
       "      <td>BTC</td>\n",
       "      <td>8</td>\n",
       "      <td>8</td>\n",
       "      <td>8</td>\n",
       "      <td>8</td>\n",
       "      <td>True</td>\n",
       "      <td>True</td>\n",
       "      <td>1.000000e-06</td>\n",
       "      <td>922327.0</td>\n",
       "      <td>1.000000e-06</td>\n",
       "      <td>0.00010</td>\n",
       "      <td>5.0</td>\n",
       "      <td>0.2</td>\n",
       "    </tr>\n",
       "    <tr>\n",
       "      <th>1</th>\n",
       "      <td>LTCBTC</td>\n",
       "      <td>LTC</td>\n",
       "      <td>8</td>\n",
       "      <td>BTC</td>\n",
       "      <td>8</td>\n",
       "      <td>8</td>\n",
       "      <td>8</td>\n",
       "      <td>8</td>\n",
       "      <td>True</td>\n",
       "      <td>True</td>\n",
       "      <td>1.000000e-06</td>\n",
       "      <td>100000.0</td>\n",
       "      <td>1.000000e-06</td>\n",
       "      <td>0.00100</td>\n",
       "      <td>5.0</td>\n",
       "      <td>0.2</td>\n",
       "    </tr>\n",
       "    <tr>\n",
       "      <th>2</th>\n",
       "      <td>BNBBTC</td>\n",
       "      <td>BNB</td>\n",
       "      <td>8</td>\n",
       "      <td>BTC</td>\n",
       "      <td>8</td>\n",
       "      <td>8</td>\n",
       "      <td>8</td>\n",
       "      <td>8</td>\n",
       "      <td>True</td>\n",
       "      <td>True</td>\n",
       "      <td>1.000000e-06</td>\n",
       "      <td>100000.0</td>\n",
       "      <td>1.000000e-06</td>\n",
       "      <td>0.00100</td>\n",
       "      <td>5.0</td>\n",
       "      <td>0.2</td>\n",
       "    </tr>\n",
       "    <tr>\n",
       "      <th>3</th>\n",
       "      <td>NEOBTC</td>\n",
       "      <td>NEO</td>\n",
       "      <td>8</td>\n",
       "      <td>BTC</td>\n",
       "      <td>8</td>\n",
       "      <td>8</td>\n",
       "      <td>8</td>\n",
       "      <td>8</td>\n",
       "      <td>True</td>\n",
       "      <td>True</td>\n",
       "      <td>1.000000e-06</td>\n",
       "      <td>100000.0</td>\n",
       "      <td>1.000000e-06</td>\n",
       "      <td>0.01000</td>\n",
       "      <td>5.0</td>\n",
       "      <td>0.2</td>\n",
       "    </tr>\n",
       "    <tr>\n",
       "      <th>4</th>\n",
       "      <td>QTUMETH</td>\n",
       "      <td>QTUM</td>\n",
       "      <td>8</td>\n",
       "      <td>ETH</td>\n",
       "      <td>8</td>\n",
       "      <td>8</td>\n",
       "      <td>8</td>\n",
       "      <td>8</td>\n",
       "      <td>True</td>\n",
       "      <td>True</td>\n",
       "      <td>1.000000e-06</td>\n",
       "      <td>1000.0</td>\n",
       "      <td>1.000000e-06</td>\n",
       "      <td>0.10000</td>\n",
       "      <td>5.0</td>\n",
       "      <td>0.2</td>\n",
       "    </tr>\n",
       "    <tr>\n",
       "      <th>...</th>\n",
       "      <td>...</td>\n",
       "      <td>...</td>\n",
       "      <td>...</td>\n",
       "      <td>...</td>\n",
       "      <td>...</td>\n",
       "      <td>...</td>\n",
       "      <td>...</td>\n",
       "      <td>...</td>\n",
       "      <td>...</td>\n",
       "      <td>...</td>\n",
       "      <td>...</td>\n",
       "      <td>...</td>\n",
       "      <td>...</td>\n",
       "      <td>...</td>\n",
       "      <td>...</td>\n",
       "      <td>...</td>\n",
       "    </tr>\n",
       "    <tr>\n",
       "      <th>1440</th>\n",
       "      <td>GTOBUSD</td>\n",
       "      <td>GTO</td>\n",
       "      <td>8</td>\n",
       "      <td>BUSD</td>\n",
       "      <td>8</td>\n",
       "      <td>8</td>\n",
       "      <td>8</td>\n",
       "      <td>8</td>\n",
       "      <td>True</td>\n",
       "      <td>True</td>\n",
       "      <td>1.000000e-05</td>\n",
       "      <td>1000.0</td>\n",
       "      <td>1.000000e-05</td>\n",
       "      <td>0.10000</td>\n",
       "      <td>5.0</td>\n",
       "      <td>0.2</td>\n",
       "    </tr>\n",
       "    <tr>\n",
       "      <th>1441</th>\n",
       "      <td>SNXETH</td>\n",
       "      <td>SNX</td>\n",
       "      <td>8</td>\n",
       "      <td>ETH</td>\n",
       "      <td>8</td>\n",
       "      <td>8</td>\n",
       "      <td>8</td>\n",
       "      <td>8</td>\n",
       "      <td>True</td>\n",
       "      <td>True</td>\n",
       "      <td>1.000000e-06</td>\n",
       "      <td>1000.0</td>\n",
       "      <td>1.000000e-06</td>\n",
       "      <td>0.01000</td>\n",
       "      <td>5.0</td>\n",
       "      <td>0.2</td>\n",
       "    </tr>\n",
       "    <tr>\n",
       "      <th>1442</th>\n",
       "      <td>WBTCBUSD</td>\n",
       "      <td>WBTC</td>\n",
       "      <td>8</td>\n",
       "      <td>BUSD</td>\n",
       "      <td>8</td>\n",
       "      <td>8</td>\n",
       "      <td>8</td>\n",
       "      <td>8</td>\n",
       "      <td>True</td>\n",
       "      <td>True</td>\n",
       "      <td>1.000000e-02</td>\n",
       "      <td>1000000.0</td>\n",
       "      <td>1.000000e-02</td>\n",
       "      <td>0.00001</td>\n",
       "      <td>5.0</td>\n",
       "      <td>0.2</td>\n",
       "    </tr>\n",
       "    <tr>\n",
       "      <th>1443</th>\n",
       "      <td>BELETH</td>\n",
       "      <td>BEL</td>\n",
       "      <td>8</td>\n",
       "      <td>ETH</td>\n",
       "      <td>8</td>\n",
       "      <td>8</td>\n",
       "      <td>8</td>\n",
       "      <td>8</td>\n",
       "      <td>True</td>\n",
       "      <td>True</td>\n",
       "      <td>1.000000e-07</td>\n",
       "      <td>1000.0</td>\n",
       "      <td>1.000000e-07</td>\n",
       "      <td>0.10000</td>\n",
       "      <td>5.0</td>\n",
       "      <td>0.2</td>\n",
       "    </tr>\n",
       "    <tr>\n",
       "      <th>1444</th>\n",
       "      <td>LITETH</td>\n",
       "      <td>LIT</td>\n",
       "      <td>8</td>\n",
       "      <td>ETH</td>\n",
       "      <td>8</td>\n",
       "      <td>8</td>\n",
       "      <td>8</td>\n",
       "      <td>8</td>\n",
       "      <td>True</td>\n",
       "      <td>True</td>\n",
       "      <td>1.000000e-07</td>\n",
       "      <td>1000.0</td>\n",
       "      <td>1.000000e-07</td>\n",
       "      <td>0.10000</td>\n",
       "      <td>5.0</td>\n",
       "      <td>0.2</td>\n",
       "    </tr>\n",
       "  </tbody>\n",
       "</table>\n",
       "<p>1445 rows × 16 columns</p>\n",
       "</div>"
      ],
      "text/plain": [
       "        symbol baseAsset  baseAssetPrecision quoteAsset  quotePrecision  \\\n",
       "0       ETHBTC       ETH                   8        BTC               8   \n",
       "1       LTCBTC       LTC                   8        BTC               8   \n",
       "2       BNBBTC       BNB                   8        BTC               8   \n",
       "3       NEOBTC       NEO                   8        BTC               8   \n",
       "4      QTUMETH      QTUM                   8        ETH               8   \n",
       "...        ...       ...                 ...        ...             ...   \n",
       "1440   GTOBUSD       GTO                   8       BUSD               8   \n",
       "1441    SNXETH       SNX                   8        ETH               8   \n",
       "1442  WBTCBUSD      WBTC                   8       BUSD               8   \n",
       "1443    BELETH       BEL                   8        ETH               8   \n",
       "1444    LITETH       LIT                   8        ETH               8   \n",
       "\n",
       "      quoteAssetPrecision  baseCommissionPrecision  quoteCommissionPrecision  \\\n",
       "0                       8                        8                         8   \n",
       "1                       8                        8                         8   \n",
       "2                       8                        8                         8   \n",
       "3                       8                        8                         8   \n",
       "4                       8                        8                         8   \n",
       "...                   ...                      ...                       ...   \n",
       "1440                    8                        8                         8   \n",
       "1441                    8                        8                         8   \n",
       "1442                    8                        8                         8   \n",
       "1443                    8                        8                         8   \n",
       "1444                    8                        8                         8   \n",
       "\n",
       "      allowTrailingStop  cancelReplaceAllowed     min_price  max_price  \\\n",
       "0                  True                  True  1.000000e-06   922327.0   \n",
       "1                  True                  True  1.000000e-06   100000.0   \n",
       "2                  True                  True  1.000000e-06   100000.0   \n",
       "3                  True                  True  1.000000e-06   100000.0   \n",
       "4                  True                  True  1.000000e-06     1000.0   \n",
       "...                 ...                   ...           ...        ...   \n",
       "1440               True                  True  1.000000e-05     1000.0   \n",
       "1441               True                  True  1.000000e-06     1000.0   \n",
       "1442               True                  True  1.000000e-02  1000000.0   \n",
       "1443               True                  True  1.000000e-07     1000.0   \n",
       "1444               True                  True  1.000000e-07     1000.0   \n",
       "\n",
       "         tick_size  step_size  multiplier_up  multiplier_down  \n",
       "0     1.000000e-06    0.00010            5.0              0.2  \n",
       "1     1.000000e-06    0.00100            5.0              0.2  \n",
       "2     1.000000e-06    0.00100            5.0              0.2  \n",
       "3     1.000000e-06    0.01000            5.0              0.2  \n",
       "4     1.000000e-06    0.10000            5.0              0.2  \n",
       "...            ...        ...            ...              ...  \n",
       "1440  1.000000e-05    0.10000            5.0              0.2  \n",
       "1441  1.000000e-06    0.01000            5.0              0.2  \n",
       "1442  1.000000e-02    0.00001            5.0              0.2  \n",
       "1443  1.000000e-07    0.10000            5.0              0.2  \n",
       "1444  1.000000e-07    0.10000            5.0              0.2  \n",
       "\n",
       "[1445 rows x 16 columns]"
      ]
     },
     "execution_count": 4,
     "metadata": {},
     "output_type": "execute_result"
    }
   ],
   "source": [
    "from cryptocurrency.exchange import Cryptocurrency_exchange\n",
    "exchange = Cryptocurrency_exchange(client=client, directory='crypto_logs')\n",
    "exchange_info = exchange.info\n",
    "exchange_info"
   ]
  },
  {
   "cell_type": "markdown",
   "metadata": {},
   "source": [
    "## Get conversion table for price conversions."
   ]
  },
  {
   "cell_type": "code",
   "execution_count": 5,
   "metadata": {},
   "outputs": [
    {
     "data": {
      "text/html": [
       "<div>\n",
       "<style scoped>\n",
       "    .dataframe tbody tr th:only-of-type {\n",
       "        vertical-align: middle;\n",
       "    }\n",
       "\n",
       "    .dataframe tbody tr th {\n",
       "        vertical-align: top;\n",
       "    }\n",
       "\n",
       "    .dataframe thead th {\n",
       "        text-align: right;\n",
       "    }\n",
       "</style>\n",
       "<table border=\"1\" class=\"dataframe\">\n",
       "  <thead>\n",
       "    <tr style=\"text-align: right;\">\n",
       "      <th></th>\n",
       "      <th>symbol</th>\n",
       "      <th>priceChange</th>\n",
       "      <th>priceChangePercent</th>\n",
       "      <th>weightedAvgPrice</th>\n",
       "      <th>prevClosePrice</th>\n",
       "      <th>lastPrice</th>\n",
       "      <th>lastQty</th>\n",
       "      <th>bidPrice</th>\n",
       "      <th>bidQty</th>\n",
       "      <th>askPrice</th>\n",
       "      <th>...</th>\n",
       "      <th>openPrice</th>\n",
       "      <th>highPrice</th>\n",
       "      <th>lowPrice</th>\n",
       "      <th>volume</th>\n",
       "      <th>quoteVolume</th>\n",
       "      <th>openTime</th>\n",
       "      <th>closeTime</th>\n",
       "      <th>firstId</th>\n",
       "      <th>lastId</th>\n",
       "      <th>count</th>\n",
       "    </tr>\n",
       "  </thead>\n",
       "  <tbody>\n",
       "    <tr>\n",
       "      <th>0</th>\n",
       "      <td>ETHBTC</td>\n",
       "      <td>-0.00023400</td>\n",
       "      <td>-0.416</td>\n",
       "      <td>0.05630711</td>\n",
       "      <td>0.05621800</td>\n",
       "      <td>0.055988</td>\n",
       "      <td>34.19810000</td>\n",
       "      <td>0.055987</td>\n",
       "      <td>27.53930</td>\n",
       "      <td>0.055988</td>\n",
       "      <td>...</td>\n",
       "      <td>0.05622200</td>\n",
       "      <td>0.05674500</td>\n",
       "      <td>0.05571400</td>\n",
       "      <td>9.924680e+04</td>\n",
       "      <td>5588.30099484</td>\n",
       "      <td>1657340676170</td>\n",
       "      <td>1657427076170</td>\n",
       "      <td>354438994</td>\n",
       "      <td>354560030</td>\n",
       "      <td>121037.0</td>\n",
       "    </tr>\n",
       "    <tr>\n",
       "      <th>1</th>\n",
       "      <td>LTCBTC</td>\n",
       "      <td>0.00018500</td>\n",
       "      <td>7.708</td>\n",
       "      <td>0.00247673</td>\n",
       "      <td>0.00240100</td>\n",
       "      <td>0.002585</td>\n",
       "      <td>2.47100000</td>\n",
       "      <td>0.002584</td>\n",
       "      <td>39.71200</td>\n",
       "      <td>0.002585</td>\n",
       "      <td>...</td>\n",
       "      <td>0.00240000</td>\n",
       "      <td>0.00258600</td>\n",
       "      <td>0.00240000</td>\n",
       "      <td>9.618828e+04</td>\n",
       "      <td>238.23264390</td>\n",
       "      <td>1657340676550</td>\n",
       "      <td>1657427076550</td>\n",
       "      <td>81790106</td>\n",
       "      <td>81813271</td>\n",
       "      <td>23166.0</td>\n",
       "    </tr>\n",
       "    <tr>\n",
       "      <th>2</th>\n",
       "      <td>BNBBTC</td>\n",
       "      <td>-0.00007800</td>\n",
       "      <td>-0.696</td>\n",
       "      <td>0.01122059</td>\n",
       "      <td>0.01121300</td>\n",
       "      <td>0.011135</td>\n",
       "      <td>0.12200000</td>\n",
       "      <td>0.011134</td>\n",
       "      <td>3.14100</td>\n",
       "      <td>0.011135</td>\n",
       "      <td>...</td>\n",
       "      <td>0.01121300</td>\n",
       "      <td>0.01132800</td>\n",
       "      <td>0.01105000</td>\n",
       "      <td>4.078603e+04</td>\n",
       "      <td>457.64316466</td>\n",
       "      <td>1657340675881</td>\n",
       "      <td>1657427075881</td>\n",
       "      <td>190093859</td>\n",
       "      <td>190140612</td>\n",
       "      <td>46754.0</td>\n",
       "    </tr>\n",
       "    <tr>\n",
       "      <th>3</th>\n",
       "      <td>NEOBTC</td>\n",
       "      <td>-0.00000300</td>\n",
       "      <td>-0.693</td>\n",
       "      <td>0.00043581</td>\n",
       "      <td>0.00043300</td>\n",
       "      <td>0.000430</td>\n",
       "      <td>0.27000000</td>\n",
       "      <td>0.000429</td>\n",
       "      <td>622.02000</td>\n",
       "      <td>0.000430</td>\n",
       "      <td>...</td>\n",
       "      <td>0.00043300</td>\n",
       "      <td>0.00044500</td>\n",
       "      <td>0.00042700</td>\n",
       "      <td>3.055519e+04</td>\n",
       "      <td>13.31625342</td>\n",
       "      <td>1657340674899</td>\n",
       "      <td>1657427074899</td>\n",
       "      <td>43646927</td>\n",
       "      <td>43650837</td>\n",
       "      <td>3911.0</td>\n",
       "    </tr>\n",
       "    <tr>\n",
       "      <th>4</th>\n",
       "      <td>QTUMETH</td>\n",
       "      <td>-0.00004700</td>\n",
       "      <td>-1.847</td>\n",
       "      <td>0.00250476</td>\n",
       "      <td>0.00253000</td>\n",
       "      <td>0.002497</td>\n",
       "      <td>3.60000000</td>\n",
       "      <td>0.002498</td>\n",
       "      <td>189.90000</td>\n",
       "      <td>0.002501</td>\n",
       "      <td>...</td>\n",
       "      <td>0.00254400</td>\n",
       "      <td>0.00254700</td>\n",
       "      <td>0.00246600</td>\n",
       "      <td>2.097800e+03</td>\n",
       "      <td>5.25449210</td>\n",
       "      <td>1657340632559</td>\n",
       "      <td>1657427032559</td>\n",
       "      <td>5298538</td>\n",
       "      <td>5298750</td>\n",
       "      <td>213.0</td>\n",
       "    </tr>\n",
       "    <tr>\n",
       "      <th>...</th>\n",
       "      <td>...</td>\n",
       "      <td>...</td>\n",
       "      <td>...</td>\n",
       "      <td>...</td>\n",
       "      <td>...</td>\n",
       "      <td>...</td>\n",
       "      <td>...</td>\n",
       "      <td>...</td>\n",
       "      <td>...</td>\n",
       "      <td>...</td>\n",
       "      <td>...</td>\n",
       "      <td>...</td>\n",
       "      <td>...</td>\n",
       "      <td>...</td>\n",
       "      <td>...</td>\n",
       "      <td>...</td>\n",
       "      <td>...</td>\n",
       "      <td>...</td>\n",
       "      <td>...</td>\n",
       "      <td>...</td>\n",
       "      <td>...</td>\n",
       "    </tr>\n",
       "    <tr>\n",
       "      <th>1440</th>\n",
       "      <td>GTOBUSD</td>\n",
       "      <td>-0.00018000</td>\n",
       "      <td>-0.861</td>\n",
       "      <td>0.02133773</td>\n",
       "      <td>0.02105000</td>\n",
       "      <td>0.020720</td>\n",
       "      <td>47917.80000000</td>\n",
       "      <td>0.020700</td>\n",
       "      <td>9661.80000</td>\n",
       "      <td>0.020880</td>\n",
       "      <td>...</td>\n",
       "      <td>0.02090000</td>\n",
       "      <td>0.02195000</td>\n",
       "      <td>0.02067000</td>\n",
       "      <td>7.066192e+06</td>\n",
       "      <td>150776.51776900</td>\n",
       "      <td>1657340650301</td>\n",
       "      <td>1657427050301</td>\n",
       "      <td>66747</td>\n",
       "      <td>67498</td>\n",
       "      <td>752.0</td>\n",
       "    </tr>\n",
       "    <tr>\n",
       "      <th>1441</th>\n",
       "      <td>SNXETH</td>\n",
       "      <td>-0.00002500</td>\n",
       "      <td>-1.190</td>\n",
       "      <td>0.00210972</td>\n",
       "      <td>0.00204900</td>\n",
       "      <td>0.002076</td>\n",
       "      <td>11.50000000</td>\n",
       "      <td>0.002076</td>\n",
       "      <td>201.91000</td>\n",
       "      <td>0.002088</td>\n",
       "      <td>...</td>\n",
       "      <td>0.00210100</td>\n",
       "      <td>0.00219000</td>\n",
       "      <td>0.00205600</td>\n",
       "      <td>5.236610e+03</td>\n",
       "      <td>11.04776448</td>\n",
       "      <td>1657340656747</td>\n",
       "      <td>1657427056747</td>\n",
       "      <td>2134</td>\n",
       "      <td>2243</td>\n",
       "      <td>110.0</td>\n",
       "    </tr>\n",
       "    <tr>\n",
       "      <th>1442</th>\n",
       "      <td>WBTCBUSD</td>\n",
       "      <td>-329.98000000</td>\n",
       "      <td>-1.535</td>\n",
       "      <td>21613.18155663</td>\n",
       "      <td>21549.77000000</td>\n",
       "      <td>21170.020000</td>\n",
       "      <td>0.01219000</td>\n",
       "      <td>21181.680000</td>\n",
       "      <td>0.00094</td>\n",
       "      <td>21211.300000</td>\n",
       "      <td>...</td>\n",
       "      <td>21500.00000000</td>\n",
       "      <td>21930.00000000</td>\n",
       "      <td>21100.00000000</td>\n",
       "      <td>4.978173e+01</td>\n",
       "      <td>1075941.56869330</td>\n",
       "      <td>1657340659029</td>\n",
       "      <td>1657427059029</td>\n",
       "      <td>8909</td>\n",
       "      <td>10529</td>\n",
       "      <td>1621.0</td>\n",
       "    </tr>\n",
       "    <tr>\n",
       "      <th>1443</th>\n",
       "      <td>BELETH</td>\n",
       "      <td>-0.00000300</td>\n",
       "      <td>-0.421</td>\n",
       "      <td>0.00071718</td>\n",
       "      <td>0.00071260</td>\n",
       "      <td>0.000710</td>\n",
       "      <td>11.20000000</td>\n",
       "      <td>0.000708</td>\n",
       "      <td>592.00000</td>\n",
       "      <td>0.000711</td>\n",
       "      <td>...</td>\n",
       "      <td>0.00071280</td>\n",
       "      <td>0.00074300</td>\n",
       "      <td>0.00070140</td>\n",
       "      <td>1.406272e+05</td>\n",
       "      <td>100.85452598</td>\n",
       "      <td>1657340653574</td>\n",
       "      <td>1657427053574</td>\n",
       "      <td>5094</td>\n",
       "      <td>6131</td>\n",
       "      <td>1038.0</td>\n",
       "    </tr>\n",
       "    <tr>\n",
       "      <th>1444</th>\n",
       "      <td>LITETH</td>\n",
       "      <td>-0.00002470</td>\n",
       "      <td>-3.283</td>\n",
       "      <td>0.00074897</td>\n",
       "      <td>0.00075160</td>\n",
       "      <td>0.000728</td>\n",
       "      <td>371.10000000</td>\n",
       "      <td>0.000727</td>\n",
       "      <td>20.60000</td>\n",
       "      <td>0.000730</td>\n",
       "      <td>...</td>\n",
       "      <td>0.00075230</td>\n",
       "      <td>0.00078000</td>\n",
       "      <td>0.00071790</td>\n",
       "      <td>1.576813e+05</td>\n",
       "      <td>118.09857769</td>\n",
       "      <td>1657340648921</td>\n",
       "      <td>1657427048921</td>\n",
       "      <td>3884</td>\n",
       "      <td>4706</td>\n",
       "      <td>823.0</td>\n",
       "    </tr>\n",
       "  </tbody>\n",
       "</table>\n",
       "<p>1445 rows × 21 columns</p>\n",
       "</div>"
      ],
      "text/plain": [
       "        symbol    priceChange  priceChangePercent weightedAvgPrice  \\\n",
       "0       ETHBTC    -0.00023400              -0.416       0.05630711   \n",
       "1       LTCBTC     0.00018500               7.708       0.00247673   \n",
       "2       BNBBTC    -0.00007800              -0.696       0.01122059   \n",
       "3       NEOBTC    -0.00000300              -0.693       0.00043581   \n",
       "4      QTUMETH    -0.00004700              -1.847       0.00250476   \n",
       "...        ...            ...                 ...              ...   \n",
       "1440   GTOBUSD    -0.00018000              -0.861       0.02133773   \n",
       "1441    SNXETH    -0.00002500              -1.190       0.00210972   \n",
       "1442  WBTCBUSD  -329.98000000              -1.535   21613.18155663   \n",
       "1443    BELETH    -0.00000300              -0.421       0.00071718   \n",
       "1444    LITETH    -0.00002470              -3.283       0.00074897   \n",
       "\n",
       "      prevClosePrice     lastPrice         lastQty      bidPrice      bidQty  \\\n",
       "0         0.05621800      0.055988     34.19810000      0.055987    27.53930   \n",
       "1         0.00240100      0.002585      2.47100000      0.002584    39.71200   \n",
       "2         0.01121300      0.011135      0.12200000      0.011134     3.14100   \n",
       "3         0.00043300      0.000430      0.27000000      0.000429   622.02000   \n",
       "4         0.00253000      0.002497      3.60000000      0.002498   189.90000   \n",
       "...              ...           ...             ...           ...         ...   \n",
       "1440      0.02105000      0.020720  47917.80000000      0.020700  9661.80000   \n",
       "1441      0.00204900      0.002076     11.50000000      0.002076   201.91000   \n",
       "1442  21549.77000000  21170.020000      0.01219000  21181.680000     0.00094   \n",
       "1443      0.00071260      0.000710     11.20000000      0.000708   592.00000   \n",
       "1444      0.00075160      0.000728    371.10000000      0.000727    20.60000   \n",
       "\n",
       "          askPrice  ...       openPrice       highPrice        lowPrice  \\\n",
       "0         0.055988  ...      0.05622200      0.05674500      0.05571400   \n",
       "1         0.002585  ...      0.00240000      0.00258600      0.00240000   \n",
       "2         0.011135  ...      0.01121300      0.01132800      0.01105000   \n",
       "3         0.000430  ...      0.00043300      0.00044500      0.00042700   \n",
       "4         0.002501  ...      0.00254400      0.00254700      0.00246600   \n",
       "...            ...  ...             ...             ...             ...   \n",
       "1440      0.020880  ...      0.02090000      0.02195000      0.02067000   \n",
       "1441      0.002088  ...      0.00210100      0.00219000      0.00205600   \n",
       "1442  21211.300000  ...  21500.00000000  21930.00000000  21100.00000000   \n",
       "1443      0.000711  ...      0.00071280      0.00074300      0.00070140   \n",
       "1444      0.000730  ...      0.00075230      0.00078000      0.00071790   \n",
       "\n",
       "            volume       quoteVolume       openTime      closeTime    firstId  \\\n",
       "0     9.924680e+04     5588.30099484  1657340676170  1657427076170  354438994   \n",
       "1     9.618828e+04      238.23264390  1657340676550  1657427076550   81790106   \n",
       "2     4.078603e+04      457.64316466  1657340675881  1657427075881  190093859   \n",
       "3     3.055519e+04       13.31625342  1657340674899  1657427074899   43646927   \n",
       "4     2.097800e+03        5.25449210  1657340632559  1657427032559    5298538   \n",
       "...            ...               ...            ...            ...        ...   \n",
       "1440  7.066192e+06   150776.51776900  1657340650301  1657427050301      66747   \n",
       "1441  5.236610e+03       11.04776448  1657340656747  1657427056747       2134   \n",
       "1442  4.978173e+01  1075941.56869330  1657340659029  1657427059029       8909   \n",
       "1443  1.406272e+05      100.85452598  1657340653574  1657427053574       5094   \n",
       "1444  1.576813e+05      118.09857769  1657340648921  1657427048921       3884   \n",
       "\n",
       "         lastId     count  \n",
       "0     354560030  121037.0  \n",
       "1      81813271   23166.0  \n",
       "2     190140612   46754.0  \n",
       "3      43650837    3911.0  \n",
       "4       5298750     213.0  \n",
       "...         ...       ...  \n",
       "1440      67498     752.0  \n",
       "1441       2243     110.0  \n",
       "1442      10529    1621.0  \n",
       "1443       6131    1038.0  \n",
       "1444       4706     823.0  \n",
       "\n",
       "[1445 rows x 21 columns]"
      ]
     },
     "execution_count": 5,
     "metadata": {},
     "output_type": "execute_result"
    }
   ],
   "source": [
    "import pandas as pd\n",
    "\n",
    "def get_conversion_table(client, exchange_info=exchange_info):\n",
    "    conversion_table = pd.DataFrame(client.get_ticker())\n",
    "    conversion_table = conversion_table[conversion_table['symbol'].isin(exchange_info['symbol'])].reset_index(drop=True)\n",
    "    conversion_table[['priceChangePercent', 'lastPrice', 'volume', 'bidPrice', 'askPrice', 'bidQty', 'askQty', 'count']] = \\\n",
    "        conversion_table[['priceChangePercent', 'lastPrice', 'volume', 'bidPrice', 'askPrice', 'bidQty', 'askQty', 'count']].astype(float)\n",
    "    return conversion_table\n",
    "\n",
    "conversion_table = get_conversion_table(client=client, exchange_info=exchange_info)\n",
    "conversion_table"
   ]
  },
  {
   "cell_type": "markdown",
   "metadata": {},
   "source": [
    "## Pre-screen buyable base assets in pairs."
   ]
  },
  {
   "cell_type": "code",
   "execution_count": 6,
   "metadata": {},
   "outputs": [
    {
     "data": {
      "text/plain": [
       "113"
      ]
     },
     "execution_count": 6,
     "metadata": {},
     "output_type": "execute_result"
    }
   ],
   "source": [
    "def get_tradable_tickers_info(client=client, conversion_table=conversion_table):\n",
    "    conversion_table = conversion_table.copy()\n",
    "    conversion_table = conversion_table[conversion_table['volume'] > 500]\n",
    "    conversion_table['bidAskChangePercent'] = \\\n",
    "        (conversion_table['askPrice'] - conversion_table['bidPrice']) / conversion_table['askPrice']\n",
    "    conversion_table['bidAskQtyChangePercent'] = \\\n",
    "        (conversion_table['askQty'] - conversion_table['bidQty']) / conversion_table['bidQty']\n",
    "    conversion_table['bidAskChangePercent'] = conversion_table['bidAskChangePercent'].apply(abs)\n",
    "    conversion_table[['bidAskChangePercent', 'bidAskQtyChangePercent']] *= 100\n",
    "    conversion_table = conversion_table.fillna(0)\n",
    "    conversion_table = conversion_table[conversion_table['bidAskChangePercent'] < 0.1]\n",
    "    conversion_table = conversion_table[conversion_table['bidAskQtyChangePercent'] > 0.0]\n",
    "    conversion_table['volumeMarketPercent'] = \\\n",
    "        conversion_table['volume'] / conversion_table['volume'].sum()\n",
    "    conversion_table = conversion_table.sort_values(by='volumeMarketPercent', ascending=False)\n",
    "    conversion_table = conversion_table[['symbol', 'priceChangePercent', 'lastPrice', \n",
    "                                         'volume', 'bidAskQtyChangePercent', 'count']]\n",
    "    conversion_table = conversion_table.reset_index(drop=True)\n",
    "    return conversion_table\n",
    "\n",
    "def get_new_tickers(client=client, conversion_table=conversion_table):\n",
    "    tickers = get_tradable_tickers_info(client=client, conversion_table=conversion_table)\n",
    "    tickers_list = list(tickers['symbol'].unique())\n",
    "    return tickers_list\n",
    "\n",
    "tickers_list = get_new_tickers(client=client, conversion_table=conversion_table)\n",
    "len(tickers_list)"
   ]
  },
  {
   "cell_type": "markdown",
   "metadata": {},
   "source": [
    "## Order book."
   ]
  },
  {
   "cell_type": "code",
   "execution_count": 7,
   "metadata": {},
   "outputs": [
    {
     "data": {
      "text/plain": [
       "False"
      ]
     },
     "execution_count": 7,
     "metadata": {},
     "output_type": "execute_result"
    }
   ],
   "source": [
    "from time import sleep, time\n",
    "import pandas as pd\n",
    "import matplotlib.pyplot as plt\n",
    "import seaborn as sns\n",
    "\n",
    "def get_order_book_depth(symbol):\n",
    "    sleep(2.9)\n",
    "    depth = client.get_order_book(symbol=symbol, limit=5000)\n",
    "    frames = {side: pd.DataFrame(data=depth[side], columns=['price', 'quantity'], dtype=float) \n",
    "              for side in ['bids', 'asks']}\n",
    "    frames_list = [frames[side].assign(side=side) for side in frames]\n",
    "    data = pd.concat(frames_list, axis='index', ignore_index=True, sort=True)\n",
    "    return data\n",
    "\n",
    "def get_bid_ask_range(symbol):\n",
    "    data = get_order_book_depth(symbol=symbol)\n",
    "    min_prices = data.groupby('side').price.min()\n",
    "    max_prices = data.groupby('side').price.max()\n",
    "    center_price = ((min_prices.loc['asks'] - max_prices.loc['bids']) + max_prices.loc['bids'])\n",
    "    bid_range = (((center_price - min_prices.loc['bids']) / min_prices.loc['bids']) * 100)\n",
    "    ask_range = (((max_prices.loc['asks'] - center_price) / center_price) * 100)\n",
    "    return bid_range, ask_range\n",
    "\n",
    "def get_upper_range_bigger_than_threshold_percent(symbol, threshold=100):\n",
    "    bid_range, ask_range = get_bid_ask_range(symbol)\n",
    "    trigger = ask_range > threshold\n",
    "    return trigger\n",
    "\n",
    "def get_lower_range_bigger_than_threshold_percent(symbol, threshold=100):\n",
    "    bid_range, ask_range = get_bid_ask_range(symbol)\n",
    "    trigger = bid_range > threshold\n",
    "    return trigger\n",
    "\n",
    "get_upper_range_bigger_than_threshold_percent(symbol='USTCBUSD', threshold=100)"
   ]
  },
  {
   "cell_type": "code",
   "execution_count": 8,
   "metadata": {},
   "outputs": [
    {
     "name": "stderr",
     "output_type": "stream",
     "text": [
      "100%|█████████████████████████████████████████████████████████████████████████████████████████████████████████████████████████████████| 113/113 [05:52<00:00,  3.12s/it]\n"
     ]
    },
    {
     "name": "stdout",
     "output_type": "stream",
     "text": [
      "['JASMYUSDT', 'IOSTUSDT', 'ANKRUSDT', 'TRXBUSD', 'OXTUSDT', 'FIDABTC', 'ALGOBTC', 'ADAETH', 'ADABNB', 'WAVESBTC', 'ORNUSDT', 'KNCBTC', 'ATOMBTC', 'LINKETH', 'BNBBTC', 'BNBETH', 'ZECBTC', 'DASHBTC', 'XMRBNB']\n"
     ]
    },
    {
     "name": "stderr",
     "output_type": "stream",
     "text": [
      "100%|█████████████████████████████████████████████████████████████████████████████████████████████████████████████████████████████████| 113/113 [05:50<00:00,  3.11s/it]\n"
     ]
    },
    {
     "name": "stdout",
     "output_type": "stream",
     "text": [
      "['JASMYUSDT', 'IOSTUSDT', 'ANKRUSDT', 'TRXBUSD', 'OXTUSDT', 'FIDABTC', 'ALGOBTC', 'ADAETH', 'ADABNB', 'WAVESBTC', 'ORNUSDT', 'KNCBTC', 'ATOMBTC', 'LINKETH', 'BNBBTC', 'BNBETH', 'ZECBTC', 'DASHBTC', 'XMRBNB']\n"
     ]
    },
    {
     "name": "stderr",
     "output_type": "stream",
     "text": [
      "100%|█████████████████████████████████████████████████████████████████████████████████████████████████████████████████████████████████| 113/113 [05:51<00:00,  3.11s/it]\n"
     ]
    },
    {
     "name": "stdout",
     "output_type": "stream",
     "text": [
      "['JASMYUSDT', 'IOSTUSDT', 'ANKRUSDT', 'TRXBUSD', 'OXTUSDT', 'FIDABTC', 'ALGOBTC', 'ADAETH', 'ADABNB', 'WAVESBTC', 'ORNUSDT', 'KNCBTC', 'ATOMBTC', 'LINKETH', 'BNBBTC', 'BNBETH', 'ZECBTC', 'DASHBTC', 'XMRBNB']\n"
     ]
    },
    {
     "name": "stderr",
     "output_type": "stream",
     "text": [
      "100%|█████████████████████████████████████████████████████████████████████████████████████████████████████████████████████████████████| 113/113 [05:51<00:00,  3.11s/it]\n"
     ]
    },
    {
     "name": "stdout",
     "output_type": "stream",
     "text": [
      "['JASMYUSDT', 'IOSTUSDT', 'ANKRUSDT', 'TRXBUSD', 'OXTUSDT', 'FIDABTC', 'ALGOBTC', 'ADAETH', 'ADABNB', 'WAVESBTC', 'ORNUSDT', 'KNCBTC', 'ATOMBTC', 'LINKETH', 'BNBBTC', 'BNBETH', 'ZECBTC', 'DASHBTC', 'XMRBNB']\n"
     ]
    },
    {
     "name": "stderr",
     "output_type": "stream",
     "text": [
      "100%|█████████████████████████████████████████████████████████████████████████████████████████████████████████████████████████████████| 113/113 [05:51<00:00,  3.11s/it]\n"
     ]
    },
    {
     "name": "stdout",
     "output_type": "stream",
     "text": [
      "['JASMYUSDT', 'IOSTUSDT', 'ANKRUSDT', 'TRXBUSD', 'OXTUSDT', 'FIDABTC', 'ALGOBTC', 'ADAETH', 'ADABNB', 'WAVESBTC', 'ORNUSDT', 'KNCBTC', 'ATOMBTC', 'LINKETH', 'BNBBTC', 'BNBETH', 'ZECBTC', 'DASHBTC', 'XMRBNB']\n"
     ]
    },
    {
     "name": "stderr",
     "output_type": "stream",
     "text": [
      "100%|█████████████████████████████████████████████████████████████████████████████████████████████████████████████████████████████████| 113/113 [05:54<00:00,  3.14s/it]\n"
     ]
    },
    {
     "name": "stdout",
     "output_type": "stream",
     "text": [
      "['JASMYUSDT', 'IOSTUSDT', 'ANKRUSDT', 'TRXBUSD', 'OXTUSDT', 'FIDABTC', 'ALGOBTC', 'ADAETH', 'ADABNB', 'WAVESBTC', 'ORNUSDT', 'KNCBTC', 'ATOMBTC', 'LINKETH', 'BNBBTC', 'BNBETH', 'ZECBTC', 'DASHBTC', 'XMRBNB']\n"
     ]
    },
    {
     "name": "stderr",
     "output_type": "stream",
     "text": [
      "100%|█████████████████████████████████████████████████████████████████████████████████████████████████████████████████████████████████| 113/113 [05:52<00:00,  3.12s/it]\n"
     ]
    },
    {
     "name": "stdout",
     "output_type": "stream",
     "text": [
      "['JASMYUSDT', 'IOSTUSDT', 'ANKRUSDT', 'TRXBUSD', 'OXTUSDT', 'FIDABTC', 'ALGOBTC', 'ADAETH', 'ADABNB', 'WAVESBTC', 'ORNUSDT', 'KNCBTC', 'ATOMBTC', 'LINKETH', 'BNBBTC', 'BNBETH', 'ZECBTC', 'DASHBTC', 'XMRBNB']\n"
     ]
    },
    {
     "name": "stderr",
     "output_type": "stream",
     "text": [
      "100%|█████████████████████████████████████████████████████████████████████████████████████████████████████████████████████████████████| 113/113 [05:52<00:00,  3.12s/it]\n"
     ]
    },
    {
     "name": "stdout",
     "output_type": "stream",
     "text": [
      "['JASMYUSDT', 'IOSTUSDT', 'ANKRUSDT', 'TRXBUSD', 'OXTUSDT', 'FIDABTC', 'ALGOBTC', 'ADAETH', 'ADABNB', 'WAVESBTC', 'ORNUSDT', 'KNCBTC', 'ATOMBTC', 'LINKETH', 'BNBBTC', 'BNBETH', 'ZECBTC', 'DASHBTC', 'XMRBNB']\n"
     ]
    },
    {
     "name": "stderr",
     "output_type": "stream",
     "text": [
      "100%|█████████████████████████████████████████████████████████████████████████████████████████████████████████████████████████████████| 113/113 [05:51<00:00,  3.11s/it]\n"
     ]
    },
    {
     "name": "stdout",
     "output_type": "stream",
     "text": [
      "['JASMYUSDT', 'IOSTUSDT', 'ANKRUSDT', 'TRXBUSD', 'OXTUSDT', 'FIDABTC', 'ALGOBTC', 'ADAETH', 'ADABNB', 'WAVESBTC', 'ORNUSDT', 'KNCBTC', 'ATOMBTC', 'LINKETH', 'BNBBTC', 'BNBETH', 'ZECBTC', 'DASHBTC', 'XMRBNB']\n"
     ]
    },
    {
     "name": "stderr",
     "output_type": "stream",
     "text": [
      "100%|█████████████████████████████████████████████████████████████████████████████████████████████████████████████████████████████████| 113/113 [05:54<00:00,  3.14s/it]\n"
     ]
    },
    {
     "name": "stdout",
     "output_type": "stream",
     "text": [
      "['JASMYUSDT', 'IOSTUSDT', 'ANKRUSDT', 'TRXBUSD', 'OXTUSDT', 'FIDABTC', 'ALGOBTC', 'ADAETH', 'ADABNB', 'WAVESBTC', 'ORNUSDT', 'KNCBTC', 'ATOMBTC', 'LINKETH', 'BNBBTC', 'BNBETH', 'ZECBTC', 'DASHBTC', 'XMRBNB']\n"
     ]
    },
    {
     "name": "stderr",
     "output_type": "stream",
     "text": [
      "100%|█████████████████████████████████████████████████████████████████████████████████████████████████████████████████████████████████| 113/113 [05:57<00:00,  3.17s/it]\n"
     ]
    },
    {
     "name": "stdout",
     "output_type": "stream",
     "text": [
      "['JASMYUSDT', 'IOSTUSDT', 'ANKRUSDT', 'TRXBUSD', 'OXTUSDT', 'FIDABTC', 'ALGOBTC', 'ADAETH', 'ADABNB', 'WAVESBTC', 'ORNUSDT', 'KNCBTC', 'ATOMBTC', 'LINKETH', 'BNBBTC', 'BNBETH', 'ZECBTC', 'DASHBTC', 'XMRBNB']\n"
     ]
    },
    {
     "name": "stderr",
     "output_type": "stream",
     "text": [
      "100%|█████████████████████████████████████████████████████████████████████████████████████████████████████████████████████████████████| 113/113 [05:57<00:00,  3.17s/it]\n"
     ]
    },
    {
     "name": "stdout",
     "output_type": "stream",
     "text": [
      "['JASMYUSDT', 'IOSTUSDT', 'ANKRUSDT', 'TRXBUSD', 'OXTUSDT', 'FIDABTC', 'ALGOBTC', 'ADAETH', 'ADABNB', 'WAVESBTC', 'ORNUSDT', 'KNCBTC', 'ATOMBTC', 'LINKETH', 'BNBBTC', 'BNBETH', 'ZECBTC', 'DASHBTC', 'XMRBNB']\n"
     ]
    },
    {
     "name": "stderr",
     "output_type": "stream",
     "text": [
      "100%|█████████████████████████████████████████████████████████████████████████████████████████████████████████████████████████████████| 113/113 [05:58<00:00,  3.18s/it]\n"
     ]
    },
    {
     "name": "stdout",
     "output_type": "stream",
     "text": [
      "['JASMYUSDT', 'IOSTUSDT', 'ANKRUSDT', 'TRXBUSD', 'OXTUSDT', 'FIDABTC', 'ALGOBTC', 'ADAETH', 'ADABNB', 'WAVESBTC', 'ORNUSDT', 'KNCBTC', 'ATOMBTC', 'LINKETH', 'BNBBTC', 'BNBETH', 'ZECBTC', 'DASHBTC', 'XMRBNB']\n"
     ]
    },
    {
     "name": "stderr",
     "output_type": "stream",
     "text": [
      "100%|█████████████████████████████████████████████████████████████████████████████████████████████████████████████████████████████████| 113/113 [05:57<00:00,  3.17s/it]\n"
     ]
    },
    {
     "name": "stdout",
     "output_type": "stream",
     "text": [
      "['JASMYUSDT', 'IOSTUSDT', 'ANKRUSDT', 'TRXBUSD', 'OXTUSDT', 'FIDABTC', 'ALGOBTC', 'ADAETH', 'ADABNB', 'WAVESBTC', 'ORNUSDT', 'KNCBTC', 'ATOMBTC', 'LINKETH', 'BNBBTC', 'BNBETH', 'ZECBTC', 'DASHBTC', 'XMRBNB']\n"
     ]
    },
    {
     "name": "stderr",
     "output_type": "stream",
     "text": [
      "100%|█████████████████████████████████████████████████████████████████████████████████████████████████████████████████████████████████| 113/113 [05:57<00:00,  3.17s/it]\n"
     ]
    },
    {
     "name": "stdout",
     "output_type": "stream",
     "text": [
      "['JASMYUSDT', 'IOSTUSDT', 'ANKRUSDT', 'TRXBUSD', 'OXTUSDT', 'FIDABTC', 'ALGOBTC', 'ADAETH', 'ADABNB', 'WAVESBTC', 'ORNUSDT', 'KNCBTC', 'ATOMBTC', 'LINKETH', 'BNBBTC', 'BNBETH', 'ZECBTC', 'DASHBTC', 'XMRBNB']\n"
     ]
    },
    {
     "name": "stderr",
     "output_type": "stream",
     "text": [
      "100%|█████████████████████████████████████████████████████████████████████████████████████████████████████████████████████████████████| 113/113 [06:00<00:00,  3.19s/it]\n"
     ]
    },
    {
     "name": "stdout",
     "output_type": "stream",
     "text": [
      "['JASMYUSDT', 'IOSTUSDT', 'ANKRUSDT', 'TRXBUSD', 'OXTUSDT', 'FIDABTC', 'ALGOBTC', 'ADAETH', 'ADABNB', 'WAVESBTC', 'ORNUSDT', 'KNCBTC', 'ATOMBTC', 'LINKETH', 'BNBBTC', 'BNBETH', 'ZECBTC', 'DASHBTC', 'XMRBNB']\n"
     ]
    },
    {
     "name": "stderr",
     "output_type": "stream",
     "text": [
      "100%|█████████████████████████████████████████████████████████████████████████████████████████████████████████████████████████████████| 113/113 [05:58<00:00,  3.17s/it]\n"
     ]
    },
    {
     "name": "stdout",
     "output_type": "stream",
     "text": [
      "['JASMYUSDT', 'IOSTUSDT', 'ANKRUSDT', 'TRXBUSD', 'OXTUSDT', 'FIDABTC', 'ALGOBTC', 'ADAETH', 'ADABNB', 'WAVESBTC', 'ORNUSDT', 'KNCBTC', 'ATOMBTC', 'LINKETH', 'BNBBTC', 'BNBETH', 'ZECBTC', 'DASHBTC', 'XMRBNB']\n"
     ]
    },
    {
     "name": "stderr",
     "output_type": "stream",
     "text": [
      "100%|█████████████████████████████████████████████████████████████████████████████████████████████████████████████████████████████████| 113/113 [05:58<00:00,  3.17s/it]\n"
     ]
    },
    {
     "name": "stdout",
     "output_type": "stream",
     "text": [
      "['JASMYUSDT', 'IOSTUSDT', 'ANKRUSDT', 'TRXBUSD', 'OXTUSDT', 'FIDABTC', 'ALGOBTC', 'ADAETH', 'ADABNB', 'WAVESBTC', 'ORNUSDT', 'KNCBTC', 'ATOMBTC', 'LINKETH', 'BNBBTC', 'BNBETH', 'ZECBTC', 'DASHBTC', 'XMRBNB']\n"
     ]
    },
    {
     "name": "stderr",
     "output_type": "stream",
     "text": [
      "100%|█████████████████████████████████████████████████████████████████████████████████████████████████████████████████████████████████| 113/113 [05:58<00:00,  3.17s/it]\n"
     ]
    },
    {
     "name": "stdout",
     "output_type": "stream",
     "text": [
      "['JASMYUSDT', 'IOSTUSDT', 'ANKRUSDT', 'TRXBUSD', 'OXTUSDT', 'FIDABTC', 'ALGOBTC', 'ADAETH', 'ADABNB', 'WAVESBTC', 'ORNUSDT', 'KNCBTC', 'ATOMBTC', 'LINKETH', 'BNBBTC', 'BNBETH', 'ZECBTC', 'DASHBTC', 'XMRBNB']\n"
     ]
    },
    {
     "name": "stderr",
     "output_type": "stream",
     "text": [
      "100%|█████████████████████████████████████████████████████████████████████████████████████████████████████████████████████████████████| 113/113 [06:00<00:00,  3.19s/it]\n"
     ]
    },
    {
     "name": "stdout",
     "output_type": "stream",
     "text": [
      "['JASMYUSDT', 'IOSTUSDT', 'ANKRUSDT', 'TRXBUSD', 'OXTUSDT', 'FIDABTC', 'ALGOBTC', 'ADAETH', 'ADABNB', 'WAVESBTC', 'ORNUSDT', 'KNCBTC', 'ATOMBTC', 'LINKETH', 'BNBBTC', 'BNBETH', 'ZECBTC', 'DASHBTC', 'XMRBNB']\n"
     ]
    },
    {
     "name": "stderr",
     "output_type": "stream",
     "text": [
      "100%|█████████████████████████████████████████████████████████████████████████████████████████████████████████████████████████████████| 113/113 [05:57<00:00,  3.16s/it]\n"
     ]
    },
    {
     "name": "stdout",
     "output_type": "stream",
     "text": [
      "['JASMYUSDT', 'IOSTUSDT', 'ANKRUSDT', 'TRXBUSD', 'OXTUSDT', 'FIDABTC', 'ALGOBTC', 'ADAETH', 'ADABNB', 'WAVESBTC', 'ORNUSDT', 'KNCBTC', 'ATOMBTC', 'LINKETH', 'BNBBTC', 'BNBETH', 'ZECBTC', 'DASHBTC', 'XMRBNB']\n"
     ]
    },
    {
     "name": "stderr",
     "output_type": "stream",
     "text": [
      "100%|█████████████████████████████████████████████████████████████████████████████████████████████████████████████████████████████████| 113/113 [05:58<00:00,  3.17s/it]\n"
     ]
    },
    {
     "name": "stdout",
     "output_type": "stream",
     "text": [
      "['JASMYUSDT', 'IOSTUSDT', 'ANKRUSDT', 'TRXBUSD', 'OXTUSDT', 'FIDABTC', 'ALGOBTC', 'ADAETH', 'ADABNB', 'WAVESBTC', 'ORNUSDT', 'KNCBTC', 'ATOMBTC', 'LINKETH', 'BNBBTC', 'BNBETH', 'ZECBTC', 'DASHBTC', 'XMRBNB']\n"
     ]
    },
    {
     "name": "stderr",
     "output_type": "stream",
     "text": [
      "100%|█████████████████████████████████████████████████████████████████████████████████████████████████████████████████████████████████| 113/113 [05:57<00:00,  3.17s/it]\n"
     ]
    },
    {
     "name": "stdout",
     "output_type": "stream",
     "text": [
      "['JASMYUSDT', 'IOSTUSDT', 'ANKRUSDT', 'TRXBUSD', 'OXTUSDT', 'FIDABTC', 'ALGOBTC', 'ADAETH', 'ADABNB', 'WAVESBTC', 'ORNUSDT', 'KNCBTC', 'ATOMBTC', 'LINKETH', 'BNBBTC', 'BNBETH', 'ZECBTC', 'DASHBTC', 'XMRBNB']\n"
     ]
    },
    {
     "name": "stderr",
     "output_type": "stream",
     "text": [
      "100%|█████████████████████████████████████████████████████████████████████████████████████████████████████████████████████████████████| 113/113 [05:58<00:00,  3.18s/it]\n"
     ]
    },
    {
     "name": "stdout",
     "output_type": "stream",
     "text": [
      "['JASMYUSDT', 'IOSTUSDT', 'ANKRUSDT', 'TRXBUSD', 'OXTUSDT', 'FIDABTC', 'ALGOBTC', 'ADAETH', 'ADABNB', 'WAVESBTC', 'ORNUSDT', 'KNCBTC', 'ATOMBTC', 'LINKETH', 'BNBBTC', 'BNBETH', 'ZECBTC', 'DASHBTC', 'XMRBNB']\n"
     ]
    },
    {
     "name": "stderr",
     "output_type": "stream",
     "text": [
      "100%|█████████████████████████████████████████████████████████████████████████████████████████████████████████████████████████████████| 113/113 [06:00<00:00,  3.19s/it]\n"
     ]
    },
    {
     "name": "stdout",
     "output_type": "stream",
     "text": [
      "['JASMYUSDT', 'IOSTUSDT', 'ANKRUSDT', 'TRXBUSD', 'OXTUSDT', 'FIDABTC', 'ALGOBTC', 'ADAETH', 'ADABNB', 'WAVESBTC', 'ORNUSDT', 'KNCBTC', 'ATOMBTC', 'LINKETH', 'BNBBTC', 'BNBETH', 'ZECBTC', 'DASHBTC', 'XMRBNB']\n"
     ]
    },
    {
     "name": "stderr",
     "output_type": "stream",
     "text": [
      "100%|█████████████████████████████████████████████████████████████████████████████████████████████████████████████████████████████████| 113/113 [05:59<00:00,  3.18s/it]\n"
     ]
    },
    {
     "name": "stdout",
     "output_type": "stream",
     "text": [
      "['JASMYUSDT', 'IOSTUSDT', 'ANKRUSDT', 'TRXBUSD', 'OXTUSDT', 'FIDABTC', 'ALGOBTC', 'ADAETH', 'ADABNB', 'WAVESBTC', 'ORNUSDT', 'KNCBTC', 'ATOMBTC', 'LINKETH', 'BNBBTC', 'BNBETH', 'ZECBTC', 'DASHBTC', 'XMRBNB']\n"
     ]
    },
    {
     "name": "stderr",
     "output_type": "stream",
     "text": [
      "100%|█████████████████████████████████████████████████████████████████████████████████████████████████████████████████████████████████| 113/113 [06:00<00:00,  3.19s/it]\n"
     ]
    },
    {
     "name": "stdout",
     "output_type": "stream",
     "text": [
      "['JASMYUSDT', 'IOSTUSDT', 'ANKRUSDT', 'TRXBUSD', 'OXTUSDT', 'FIDABTC', 'ALGOBTC', 'ADAETH', 'ADABNB', 'WAVESBTC', 'ORNUSDT', 'KNCBTC', 'ATOMBTC', 'LINKETH', 'BNBBTC', 'BNBETH', 'ZECBTC', 'DASHBTC', 'XMRBNB']\n"
     ]
    },
    {
     "name": "stderr",
     "output_type": "stream",
     "text": [
      "100%|█████████████████████████████████████████████████████████████████████████████████████████████████████████████████████████████████| 113/113 [05:59<00:00,  3.19s/it]\n"
     ]
    },
    {
     "name": "stdout",
     "output_type": "stream",
     "text": [
      "['JASMYUSDT', 'IOSTUSDT', 'ANKRUSDT', 'TRXBUSD', 'OXTUSDT', 'FIDABTC', 'ALGOBTC', 'ADAETH', 'ADABNB', 'WAVESBTC', 'ORNUSDT', 'KNCBTC', 'ATOMBTC', 'LINKETH', 'BNBBTC', 'BNBETH', 'ZECBTC', 'DASHBTC', 'XMRBNB']\n"
     ]
    },
    {
     "name": "stderr",
     "output_type": "stream",
     "text": [
      "100%|█████████████████████████████████████████████████████████████████████████████████████████████████████████████████████████████████| 113/113 [05:58<00:00,  3.17s/it]\n"
     ]
    },
    {
     "name": "stdout",
     "output_type": "stream",
     "text": [
      "['JASMYUSDT', 'IOSTUSDT', 'ANKRUSDT', 'TRXBUSD', 'OXTUSDT', 'FIDABTC', 'ALGOBTC', 'ADAETH', 'ADABNB', 'WAVESBTC', 'ORNUSDT', 'KNCBTC', 'ATOMBTC', 'LINKETH', 'BNBBTC', 'BNBETH', 'ZECBTC', 'DASHBTC', 'XMRBNB']\n"
     ]
    },
    {
     "name": "stderr",
     "output_type": "stream",
     "text": [
      "100%|█████████████████████████████████████████████████████████████████████████████████████████████████████████████████████████████████| 113/113 [05:59<00:00,  3.19s/it]\n"
     ]
    },
    {
     "name": "stdout",
     "output_type": "stream",
     "text": [
      "['JASMYUSDT', 'IOSTUSDT', 'ANKRUSDT', 'TRXBUSD', 'OXTUSDT', 'FIDABTC', 'ALGOBTC', 'ADAETH', 'ADABNB', 'WAVESBTC', 'ORNUSDT', 'KNCBTC', 'ATOMBTC', 'LINKETH', 'BNBBTC', 'BNBETH', 'ZECBTC', 'DASHBTC', 'XMRBNB']\n"
     ]
    },
    {
     "name": "stderr",
     "output_type": "stream",
     "text": [
      "100%|█████████████████████████████████████████████████████████████████████████████████████████████████████████████████████████████████| 113/113 [05:57<00:00,  3.16s/it]\n"
     ]
    },
    {
     "name": "stdout",
     "output_type": "stream",
     "text": [
      "['JASMYUSDT', 'IOSTUSDT', 'ANKRUSDT', 'TRXBUSD', 'OXTUSDT', 'FIDABTC', 'ALGOBTC', 'ADAETH', 'ADABNB', 'WAVESBTC', 'ORNUSDT', 'KNCBTC', 'ATOMBTC', 'LINKETH', 'BNBBTC', 'BNBETH', 'ZECBTC', 'DASHBTC', 'XMRBNB']\n"
     ]
    },
    {
     "name": "stderr",
     "output_type": "stream",
     "text": [
      "100%|█████████████████████████████████████████████████████████████████████████████████████████████████████████████████████████████████| 113/113 [05:57<00:00,  3.16s/it]\n"
     ]
    },
    {
     "name": "stdout",
     "output_type": "stream",
     "text": [
      "['JASMYUSDT', 'IOSTUSDT', 'ANKRUSDT', 'TRXBUSD', 'OXTUSDT', 'FIDABTC', 'ALGOBTC', 'ADAETH', 'ADABNB', 'WAVESBTC', 'ORNUSDT', 'KNCBTC', 'ATOMBTC', 'LINKETH', 'BNBBTC', 'BNBETH', 'ZECBTC', 'DASHBTC', 'XMRBNB']\n"
     ]
    },
    {
     "name": "stderr",
     "output_type": "stream",
     "text": [
      " 15%|███████████████████▌                                                                                                              | 17/113 [00:53<05:06,  3.19s/it]"
     ]
    },
    {
     "ename": "ReadTimeout",
     "evalue": "HTTPSConnectionPool(host='api.binance.com', port=443): Read timed out. (read timeout=10)",
     "output_type": "error",
     "traceback": [
      "\u001b[0;31m---------------------------------------------------------------------------\u001b[0m",
      "\u001b[0;31mtimeout\u001b[0m                                   Traceback (most recent call last)",
      "File \u001b[0;32m/usr/lib/python3/dist-packages/urllib3/connectionpool.py:421\u001b[0m, in \u001b[0;36mHTTPConnectionPool._make_request\u001b[0;34m(self, conn, method, url, timeout, chunked, **httplib_request_kw)\u001b[0m\n\u001b[1;32m    417\u001b[0m         \u001b[38;5;28;01mexcept\u001b[39;00m \u001b[38;5;167;01mBaseException\u001b[39;00m \u001b[38;5;28;01mas\u001b[39;00m e:\n\u001b[1;32m    418\u001b[0m             \u001b[38;5;66;03m# Remove the TypeError from the exception chain in\u001b[39;00m\n\u001b[1;32m    419\u001b[0m             \u001b[38;5;66;03m# Python 3 (including for exceptions like SystemExit).\u001b[39;00m\n\u001b[1;32m    420\u001b[0m             \u001b[38;5;66;03m# Otherwise it looks like a bug in the code.\u001b[39;00m\n\u001b[0;32m--> 421\u001b[0m             \u001b[43msix\u001b[49m\u001b[38;5;241;43m.\u001b[39;49m\u001b[43mraise_from\u001b[49m\u001b[43m(\u001b[49m\u001b[43me\u001b[49m\u001b[43m,\u001b[49m\u001b[43m \u001b[49m\u001b[38;5;28;43;01mNone\u001b[39;49;00m\u001b[43m)\u001b[49m\n\u001b[1;32m    422\u001b[0m \u001b[38;5;28;01mexcept\u001b[39;00m (SocketTimeout, BaseSSLError, SocketError) \u001b[38;5;28;01mas\u001b[39;00m e:\n",
      "File \u001b[0;32m<string>:3\u001b[0m, in \u001b[0;36mraise_from\u001b[0;34m(value, from_value)\u001b[0m\n",
      "File \u001b[0;32m/usr/lib/python3/dist-packages/urllib3/connectionpool.py:416\u001b[0m, in \u001b[0;36mHTTPConnectionPool._make_request\u001b[0;34m(self, conn, method, url, timeout, chunked, **httplib_request_kw)\u001b[0m\n\u001b[1;32m    415\u001b[0m \u001b[38;5;28;01mtry\u001b[39;00m:\n\u001b[0;32m--> 416\u001b[0m     httplib_response \u001b[38;5;241m=\u001b[39m \u001b[43mconn\u001b[49m\u001b[38;5;241;43m.\u001b[39;49m\u001b[43mgetresponse\u001b[49m\u001b[43m(\u001b[49m\u001b[43m)\u001b[49m\n\u001b[1;32m    417\u001b[0m \u001b[38;5;28;01mexcept\u001b[39;00m \u001b[38;5;167;01mBaseException\u001b[39;00m \u001b[38;5;28;01mas\u001b[39;00m e:\n\u001b[1;32m    418\u001b[0m     \u001b[38;5;66;03m# Remove the TypeError from the exception chain in\u001b[39;00m\n\u001b[1;32m    419\u001b[0m     \u001b[38;5;66;03m# Python 3 (including for exceptions like SystemExit).\u001b[39;00m\n\u001b[1;32m    420\u001b[0m     \u001b[38;5;66;03m# Otherwise it looks like a bug in the code.\u001b[39;00m\n",
      "File \u001b[0;32m/usr/lib/python3.8/http/client.py:1348\u001b[0m, in \u001b[0;36mHTTPConnection.getresponse\u001b[0;34m(self)\u001b[0m\n\u001b[1;32m   1347\u001b[0m \u001b[38;5;28;01mtry\u001b[39;00m:\n\u001b[0;32m-> 1348\u001b[0m     \u001b[43mresponse\u001b[49m\u001b[38;5;241;43m.\u001b[39;49m\u001b[43mbegin\u001b[49m\u001b[43m(\u001b[49m\u001b[43m)\u001b[49m\n\u001b[1;32m   1349\u001b[0m \u001b[38;5;28;01mexcept\u001b[39;00m \u001b[38;5;167;01mConnectionError\u001b[39;00m:\n",
      "File \u001b[0;32m/usr/lib/python3.8/http/client.py:316\u001b[0m, in \u001b[0;36mHTTPResponse.begin\u001b[0;34m(self)\u001b[0m\n\u001b[1;32m    315\u001b[0m \u001b[38;5;28;01mwhile\u001b[39;00m \u001b[38;5;28;01mTrue\u001b[39;00m:\n\u001b[0;32m--> 316\u001b[0m     version, status, reason \u001b[38;5;241m=\u001b[39m \u001b[38;5;28;43mself\u001b[39;49m\u001b[38;5;241;43m.\u001b[39;49m\u001b[43m_read_status\u001b[49m\u001b[43m(\u001b[49m\u001b[43m)\u001b[49m\n\u001b[1;32m    317\u001b[0m     \u001b[38;5;28;01mif\u001b[39;00m status \u001b[38;5;241m!=\u001b[39m CONTINUE:\n",
      "File \u001b[0;32m/usr/lib/python3.8/http/client.py:277\u001b[0m, in \u001b[0;36mHTTPResponse._read_status\u001b[0;34m(self)\u001b[0m\n\u001b[1;32m    276\u001b[0m \u001b[38;5;28;01mdef\u001b[39;00m \u001b[38;5;21m_read_status\u001b[39m(\u001b[38;5;28mself\u001b[39m):\n\u001b[0;32m--> 277\u001b[0m     line \u001b[38;5;241m=\u001b[39m \u001b[38;5;28mstr\u001b[39m(\u001b[38;5;28;43mself\u001b[39;49m\u001b[38;5;241;43m.\u001b[39;49m\u001b[43mfp\u001b[49m\u001b[38;5;241;43m.\u001b[39;49m\u001b[43mreadline\u001b[49m\u001b[43m(\u001b[49m\u001b[43m_MAXLINE\u001b[49m\u001b[43m \u001b[49m\u001b[38;5;241;43m+\u001b[39;49m\u001b[43m \u001b[49m\u001b[38;5;241;43m1\u001b[39;49m\u001b[43m)\u001b[49m, \u001b[38;5;124m\"\u001b[39m\u001b[38;5;124miso-8859-1\u001b[39m\u001b[38;5;124m\"\u001b[39m)\n\u001b[1;32m    278\u001b[0m     \u001b[38;5;28;01mif\u001b[39;00m \u001b[38;5;28mlen\u001b[39m(line) \u001b[38;5;241m>\u001b[39m _MAXLINE:\n",
      "File \u001b[0;32m/usr/lib/python3.8/socket.py:669\u001b[0m, in \u001b[0;36mSocketIO.readinto\u001b[0;34m(self, b)\u001b[0m\n\u001b[1;32m    668\u001b[0m \u001b[38;5;28;01mtry\u001b[39;00m:\n\u001b[0;32m--> 669\u001b[0m     \u001b[38;5;28;01mreturn\u001b[39;00m \u001b[38;5;28;43mself\u001b[39;49m\u001b[38;5;241;43m.\u001b[39;49m\u001b[43m_sock\u001b[49m\u001b[38;5;241;43m.\u001b[39;49m\u001b[43mrecv_into\u001b[49m\u001b[43m(\u001b[49m\u001b[43mb\u001b[49m\u001b[43m)\u001b[49m\n\u001b[1;32m    670\u001b[0m \u001b[38;5;28;01mexcept\u001b[39;00m timeout:\n",
      "File \u001b[0;32m/usr/lib/python3.8/ssl.py:1241\u001b[0m, in \u001b[0;36mSSLSocket.recv_into\u001b[0;34m(self, buffer, nbytes, flags)\u001b[0m\n\u001b[1;32m   1238\u001b[0m         \u001b[38;5;28;01mraise\u001b[39;00m \u001b[38;5;167;01mValueError\u001b[39;00m(\n\u001b[1;32m   1239\u001b[0m           \u001b[38;5;124m\"\u001b[39m\u001b[38;5;124mnon-zero flags not allowed in calls to recv_into() on \u001b[39m\u001b[38;5;132;01m%s\u001b[39;00m\u001b[38;5;124m\"\u001b[39m \u001b[38;5;241m%\u001b[39m\n\u001b[1;32m   1240\u001b[0m           \u001b[38;5;28mself\u001b[39m\u001b[38;5;241m.\u001b[39m\u001b[38;5;18m__class__\u001b[39m)\n\u001b[0;32m-> 1241\u001b[0m     \u001b[38;5;28;01mreturn\u001b[39;00m \u001b[38;5;28;43mself\u001b[39;49m\u001b[38;5;241;43m.\u001b[39;49m\u001b[43mread\u001b[49m\u001b[43m(\u001b[49m\u001b[43mnbytes\u001b[49m\u001b[43m,\u001b[49m\u001b[43m \u001b[49m\u001b[43mbuffer\u001b[49m\u001b[43m)\u001b[49m\n\u001b[1;32m   1242\u001b[0m \u001b[38;5;28;01melse\u001b[39;00m:\n",
      "File \u001b[0;32m/usr/lib/python3.8/ssl.py:1099\u001b[0m, in \u001b[0;36mSSLSocket.read\u001b[0;34m(self, len, buffer)\u001b[0m\n\u001b[1;32m   1098\u001b[0m \u001b[38;5;28;01mif\u001b[39;00m buffer \u001b[38;5;129;01mis\u001b[39;00m \u001b[38;5;129;01mnot\u001b[39;00m \u001b[38;5;28;01mNone\u001b[39;00m:\n\u001b[0;32m-> 1099\u001b[0m     \u001b[38;5;28;01mreturn\u001b[39;00m \u001b[38;5;28;43mself\u001b[39;49m\u001b[38;5;241;43m.\u001b[39;49m\u001b[43m_sslobj\u001b[49m\u001b[38;5;241;43m.\u001b[39;49m\u001b[43mread\u001b[49m\u001b[43m(\u001b[49m\u001b[38;5;28;43mlen\u001b[39;49m\u001b[43m,\u001b[49m\u001b[43m \u001b[49m\u001b[43mbuffer\u001b[49m\u001b[43m)\u001b[49m\n\u001b[1;32m   1100\u001b[0m \u001b[38;5;28;01melse\u001b[39;00m:\n",
      "\u001b[0;31mtimeout\u001b[0m: The read operation timed out",
      "\nDuring handling of the above exception, another exception occurred:\n",
      "\u001b[0;31mReadTimeoutError\u001b[0m                          Traceback (most recent call last)",
      "File \u001b[0;32m/usr/local/lib/python3.8/dist-packages/requests/adapters.py:440\u001b[0m, in \u001b[0;36mHTTPAdapter.send\u001b[0;34m(self, request, stream, timeout, verify, cert, proxies)\u001b[0m\n\u001b[1;32m    439\u001b[0m \u001b[38;5;28;01mif\u001b[39;00m \u001b[38;5;129;01mnot\u001b[39;00m chunked:\n\u001b[0;32m--> 440\u001b[0m     resp \u001b[38;5;241m=\u001b[39m \u001b[43mconn\u001b[49m\u001b[38;5;241;43m.\u001b[39;49m\u001b[43murlopen\u001b[49m\u001b[43m(\u001b[49m\n\u001b[1;32m    441\u001b[0m \u001b[43m        \u001b[49m\u001b[43mmethod\u001b[49m\u001b[38;5;241;43m=\u001b[39;49m\u001b[43mrequest\u001b[49m\u001b[38;5;241;43m.\u001b[39;49m\u001b[43mmethod\u001b[49m\u001b[43m,\u001b[49m\n\u001b[1;32m    442\u001b[0m \u001b[43m        \u001b[49m\u001b[43murl\u001b[49m\u001b[38;5;241;43m=\u001b[39;49m\u001b[43murl\u001b[49m\u001b[43m,\u001b[49m\n\u001b[1;32m    443\u001b[0m \u001b[43m        \u001b[49m\u001b[43mbody\u001b[49m\u001b[38;5;241;43m=\u001b[39;49m\u001b[43mrequest\u001b[49m\u001b[38;5;241;43m.\u001b[39;49m\u001b[43mbody\u001b[49m\u001b[43m,\u001b[49m\n\u001b[1;32m    444\u001b[0m \u001b[43m        \u001b[49m\u001b[43mheaders\u001b[49m\u001b[38;5;241;43m=\u001b[39;49m\u001b[43mrequest\u001b[49m\u001b[38;5;241;43m.\u001b[39;49m\u001b[43mheaders\u001b[49m\u001b[43m,\u001b[49m\n\u001b[1;32m    445\u001b[0m \u001b[43m        \u001b[49m\u001b[43mredirect\u001b[49m\u001b[38;5;241;43m=\u001b[39;49m\u001b[38;5;28;43;01mFalse\u001b[39;49;00m\u001b[43m,\u001b[49m\n\u001b[1;32m    446\u001b[0m \u001b[43m        \u001b[49m\u001b[43massert_same_host\u001b[49m\u001b[38;5;241;43m=\u001b[39;49m\u001b[38;5;28;43;01mFalse\u001b[39;49;00m\u001b[43m,\u001b[49m\n\u001b[1;32m    447\u001b[0m \u001b[43m        \u001b[49m\u001b[43mpreload_content\u001b[49m\u001b[38;5;241;43m=\u001b[39;49m\u001b[38;5;28;43;01mFalse\u001b[39;49;00m\u001b[43m,\u001b[49m\n\u001b[1;32m    448\u001b[0m \u001b[43m        \u001b[49m\u001b[43mdecode_content\u001b[49m\u001b[38;5;241;43m=\u001b[39;49m\u001b[38;5;28;43;01mFalse\u001b[39;49;00m\u001b[43m,\u001b[49m\n\u001b[1;32m    449\u001b[0m \u001b[43m        \u001b[49m\u001b[43mretries\u001b[49m\u001b[38;5;241;43m=\u001b[39;49m\u001b[38;5;28;43mself\u001b[39;49m\u001b[38;5;241;43m.\u001b[39;49m\u001b[43mmax_retries\u001b[49m\u001b[43m,\u001b[49m\n\u001b[1;32m    450\u001b[0m \u001b[43m        \u001b[49m\u001b[43mtimeout\u001b[49m\u001b[38;5;241;43m=\u001b[39;49m\u001b[43mtimeout\u001b[49m\n\u001b[1;32m    451\u001b[0m \u001b[43m    \u001b[49m\u001b[43m)\u001b[49m\n\u001b[1;32m    453\u001b[0m \u001b[38;5;66;03m# Send the request.\u001b[39;00m\n\u001b[1;32m    454\u001b[0m \u001b[38;5;28;01melse\u001b[39;00m:\n",
      "File \u001b[0;32m/usr/lib/python3/dist-packages/urllib3/connectionpool.py:719\u001b[0m, in \u001b[0;36mHTTPConnectionPool.urlopen\u001b[0;34m(self, method, url, body, headers, retries, redirect, assert_same_host, timeout, pool_timeout, release_conn, chunked, body_pos, **response_kw)\u001b[0m\n\u001b[1;32m    717\u001b[0m     e \u001b[38;5;241m=\u001b[39m ProtocolError(\u001b[38;5;124m\"\u001b[39m\u001b[38;5;124mConnection aborted.\u001b[39m\u001b[38;5;124m\"\u001b[39m, e)\n\u001b[0;32m--> 719\u001b[0m retries \u001b[38;5;241m=\u001b[39m \u001b[43mretries\u001b[49m\u001b[38;5;241;43m.\u001b[39;49m\u001b[43mincrement\u001b[49m\u001b[43m(\u001b[49m\n\u001b[1;32m    720\u001b[0m \u001b[43m    \u001b[49m\u001b[43mmethod\u001b[49m\u001b[43m,\u001b[49m\u001b[43m \u001b[49m\u001b[43murl\u001b[49m\u001b[43m,\u001b[49m\u001b[43m \u001b[49m\u001b[43merror\u001b[49m\u001b[38;5;241;43m=\u001b[39;49m\u001b[43me\u001b[49m\u001b[43m,\u001b[49m\u001b[43m \u001b[49m\u001b[43m_pool\u001b[49m\u001b[38;5;241;43m=\u001b[39;49m\u001b[38;5;28;43mself\u001b[39;49m\u001b[43m,\u001b[49m\u001b[43m \u001b[49m\u001b[43m_stacktrace\u001b[49m\u001b[38;5;241;43m=\u001b[39;49m\u001b[43msys\u001b[49m\u001b[38;5;241;43m.\u001b[39;49m\u001b[43mexc_info\u001b[49m\u001b[43m(\u001b[49m\u001b[43m)\u001b[49m\u001b[43m[\u001b[49m\u001b[38;5;241;43m2\u001b[39;49m\u001b[43m]\u001b[49m\n\u001b[1;32m    721\u001b[0m \u001b[43m\u001b[49m\u001b[43m)\u001b[49m\n\u001b[1;32m    722\u001b[0m retries\u001b[38;5;241m.\u001b[39msleep()\n",
      "File \u001b[0;32m/usr/lib/python3/dist-packages/urllib3/util/retry.py:400\u001b[0m, in \u001b[0;36mRetry.increment\u001b[0;34m(self, method, url, response, error, _pool, _stacktrace)\u001b[0m\n\u001b[1;32m    399\u001b[0m \u001b[38;5;28;01mif\u001b[39;00m read \u001b[38;5;129;01mis\u001b[39;00m \u001b[38;5;28;01mFalse\u001b[39;00m \u001b[38;5;129;01mor\u001b[39;00m \u001b[38;5;129;01mnot\u001b[39;00m \u001b[38;5;28mself\u001b[39m\u001b[38;5;241m.\u001b[39m_is_method_retryable(method):\n\u001b[0;32m--> 400\u001b[0m     \u001b[38;5;28;01mraise\u001b[39;00m \u001b[43msix\u001b[49m\u001b[38;5;241;43m.\u001b[39;49m\u001b[43mreraise\u001b[49m\u001b[43m(\u001b[49m\u001b[38;5;28;43mtype\u001b[39;49m\u001b[43m(\u001b[49m\u001b[43merror\u001b[49m\u001b[43m)\u001b[49m\u001b[43m,\u001b[49m\u001b[43m \u001b[49m\u001b[43merror\u001b[49m\u001b[43m,\u001b[49m\u001b[43m \u001b[49m\u001b[43m_stacktrace\u001b[49m\u001b[43m)\u001b[49m\n\u001b[1;32m    401\u001b[0m \u001b[38;5;28;01melif\u001b[39;00m read \u001b[38;5;129;01mis\u001b[39;00m \u001b[38;5;129;01mnot\u001b[39;00m \u001b[38;5;28;01mNone\u001b[39;00m:\n",
      "File \u001b[0;32m/usr/lib/python3/dist-packages/six.py:703\u001b[0m, in \u001b[0;36mreraise\u001b[0;34m(tp, value, tb)\u001b[0m\n\u001b[1;32m    702\u001b[0m         \u001b[38;5;28;01mraise\u001b[39;00m value\u001b[38;5;241m.\u001b[39mwith_traceback(tb)\n\u001b[0;32m--> 703\u001b[0m     \u001b[38;5;28;01mraise\u001b[39;00m value\n\u001b[1;32m    704\u001b[0m \u001b[38;5;28;01mfinally\u001b[39;00m:\n",
      "File \u001b[0;32m/usr/lib/python3/dist-packages/urllib3/connectionpool.py:665\u001b[0m, in \u001b[0;36mHTTPConnectionPool.urlopen\u001b[0;34m(self, method, url, body, headers, retries, redirect, assert_same_host, timeout, pool_timeout, release_conn, chunked, body_pos, **response_kw)\u001b[0m\n\u001b[1;32m    664\u001b[0m \u001b[38;5;66;03m# Make the request on the httplib connection object.\u001b[39;00m\n\u001b[0;32m--> 665\u001b[0m httplib_response \u001b[38;5;241m=\u001b[39m \u001b[38;5;28;43mself\u001b[39;49m\u001b[38;5;241;43m.\u001b[39;49m\u001b[43m_make_request\u001b[49m\u001b[43m(\u001b[49m\n\u001b[1;32m    666\u001b[0m \u001b[43m    \u001b[49m\u001b[43mconn\u001b[49m\u001b[43m,\u001b[49m\n\u001b[1;32m    667\u001b[0m \u001b[43m    \u001b[49m\u001b[43mmethod\u001b[49m\u001b[43m,\u001b[49m\n\u001b[1;32m    668\u001b[0m \u001b[43m    \u001b[49m\u001b[43murl\u001b[49m\u001b[43m,\u001b[49m\n\u001b[1;32m    669\u001b[0m \u001b[43m    \u001b[49m\u001b[43mtimeout\u001b[49m\u001b[38;5;241;43m=\u001b[39;49m\u001b[43mtimeout_obj\u001b[49m\u001b[43m,\u001b[49m\n\u001b[1;32m    670\u001b[0m \u001b[43m    \u001b[49m\u001b[43mbody\u001b[49m\u001b[38;5;241;43m=\u001b[39;49m\u001b[43mbody\u001b[49m\u001b[43m,\u001b[49m\n\u001b[1;32m    671\u001b[0m \u001b[43m    \u001b[49m\u001b[43mheaders\u001b[49m\u001b[38;5;241;43m=\u001b[39;49m\u001b[43mheaders\u001b[49m\u001b[43m,\u001b[49m\n\u001b[1;32m    672\u001b[0m \u001b[43m    \u001b[49m\u001b[43mchunked\u001b[49m\u001b[38;5;241;43m=\u001b[39;49m\u001b[43mchunked\u001b[49m\u001b[43m,\u001b[49m\n\u001b[1;32m    673\u001b[0m \u001b[43m\u001b[49m\u001b[43m)\u001b[49m\n\u001b[1;32m    675\u001b[0m \u001b[38;5;66;03m# If we're going to release the connection in ``finally:``, then\u001b[39;00m\n\u001b[1;32m    676\u001b[0m \u001b[38;5;66;03m# the response doesn't need to know about the connection. Otherwise\u001b[39;00m\n\u001b[1;32m    677\u001b[0m \u001b[38;5;66;03m# it will also try to release it and we'll have a double-release\u001b[39;00m\n\u001b[1;32m    678\u001b[0m \u001b[38;5;66;03m# mess.\u001b[39;00m\n",
      "File \u001b[0;32m/usr/lib/python3/dist-packages/urllib3/connectionpool.py:423\u001b[0m, in \u001b[0;36mHTTPConnectionPool._make_request\u001b[0;34m(self, conn, method, url, timeout, chunked, **httplib_request_kw)\u001b[0m\n\u001b[1;32m    422\u001b[0m \u001b[38;5;28;01mexcept\u001b[39;00m (SocketTimeout, BaseSSLError, SocketError) \u001b[38;5;28;01mas\u001b[39;00m e:\n\u001b[0;32m--> 423\u001b[0m     \u001b[38;5;28;43mself\u001b[39;49m\u001b[38;5;241;43m.\u001b[39;49m\u001b[43m_raise_timeout\u001b[49m\u001b[43m(\u001b[49m\u001b[43merr\u001b[49m\u001b[38;5;241;43m=\u001b[39;49m\u001b[43me\u001b[49m\u001b[43m,\u001b[49m\u001b[43m \u001b[49m\u001b[43murl\u001b[49m\u001b[38;5;241;43m=\u001b[39;49m\u001b[43murl\u001b[49m\u001b[43m,\u001b[49m\u001b[43m \u001b[49m\u001b[43mtimeout_value\u001b[49m\u001b[38;5;241;43m=\u001b[39;49m\u001b[43mread_timeout\u001b[49m\u001b[43m)\u001b[49m\n\u001b[1;32m    424\u001b[0m     \u001b[38;5;28;01mraise\u001b[39;00m\n",
      "File \u001b[0;32m/usr/lib/python3/dist-packages/urllib3/connectionpool.py:330\u001b[0m, in \u001b[0;36mHTTPConnectionPool._raise_timeout\u001b[0;34m(self, err, url, timeout_value)\u001b[0m\n\u001b[1;32m    329\u001b[0m \u001b[38;5;28;01mif\u001b[39;00m \u001b[38;5;28misinstance\u001b[39m(err, SocketTimeout):\n\u001b[0;32m--> 330\u001b[0m     \u001b[38;5;28;01mraise\u001b[39;00m ReadTimeoutError(\n\u001b[1;32m    331\u001b[0m         \u001b[38;5;28mself\u001b[39m, url, \u001b[38;5;124m\"\u001b[39m\u001b[38;5;124mRead timed out. (read timeout=\u001b[39m\u001b[38;5;132;01m%s\u001b[39;00m\u001b[38;5;124m)\u001b[39m\u001b[38;5;124m\"\u001b[39m \u001b[38;5;241m%\u001b[39m timeout_value\n\u001b[1;32m    332\u001b[0m     )\n\u001b[1;32m    334\u001b[0m \u001b[38;5;66;03m# See the above comment about EAGAIN in Python 3. In Python 2 we have\u001b[39;00m\n\u001b[1;32m    335\u001b[0m \u001b[38;5;66;03m# to specifically catch it and throw the timeout error\u001b[39;00m\n",
      "\u001b[0;31mReadTimeoutError\u001b[0m: HTTPSConnectionPool(host='api.binance.com', port=443): Read timed out. (read timeout=10)",
      "\nDuring handling of the above exception, another exception occurred:\n",
      "\u001b[0;31mReadTimeout\u001b[0m                               Traceback (most recent call last)",
      "Input \u001b[0;32mIn [8]\u001b[0m, in \u001b[0;36m<cell line: 4>\u001b[0;34m()\u001b[0m\n\u001b[1;32m      4\u001b[0m tickers_list \u001b[38;5;241m=\u001b[39m get_new_tickers(client\u001b[38;5;241m=\u001b[39mclient, conversion_table\u001b[38;5;241m=\u001b[39mconversion_table)\n\u001b[1;32m      5\u001b[0m sleep(\u001b[38;5;241m5\u001b[39m)\n\u001b[0;32m----> 6\u001b[0m interesting_pairs \u001b[38;5;241m=\u001b[39m [symbol \u001b[38;5;28;01mfor\u001b[39;00m symbol \u001b[38;5;129;01min\u001b[39;00m tqdm(tickers_list) \n\u001b[1;32m      7\u001b[0m                      \u001b[38;5;28;01mif\u001b[39;00m get_upper_range_bigger_than_threshold_percent(symbol\u001b[38;5;241m=\u001b[39msymbol, threshold\u001b[38;5;241m=\u001b[39m\u001b[38;5;241m10000\u001b[39m)]\n\u001b[1;32m      8\u001b[0m \u001b[38;5;28;01mif\u001b[39;00m \u001b[38;5;28mlen\u001b[39m(interesting_pairs) \u001b[38;5;241m>\u001b[39m \u001b[38;5;241m0\u001b[39m:\n\u001b[1;32m      9\u001b[0m     \u001b[38;5;28mprint\u001b[39m(interesting_pairs)\n",
      "Input \u001b[0;32mIn [8]\u001b[0m, in \u001b[0;36m<listcomp>\u001b[0;34m(.0)\u001b[0m\n\u001b[1;32m      4\u001b[0m tickers_list \u001b[38;5;241m=\u001b[39m get_new_tickers(client\u001b[38;5;241m=\u001b[39mclient, conversion_table\u001b[38;5;241m=\u001b[39mconversion_table)\n\u001b[1;32m      5\u001b[0m sleep(\u001b[38;5;241m5\u001b[39m)\n\u001b[1;32m      6\u001b[0m interesting_pairs \u001b[38;5;241m=\u001b[39m [symbol \u001b[38;5;28;01mfor\u001b[39;00m symbol \u001b[38;5;129;01min\u001b[39;00m tqdm(tickers_list) \n\u001b[0;32m----> 7\u001b[0m                      \u001b[38;5;28;01mif\u001b[39;00m \u001b[43mget_upper_range_bigger_than_threshold_percent\u001b[49m\u001b[43m(\u001b[49m\u001b[43msymbol\u001b[49m\u001b[38;5;241;43m=\u001b[39;49m\u001b[43msymbol\u001b[49m\u001b[43m,\u001b[49m\u001b[43m \u001b[49m\u001b[43mthreshold\u001b[49m\u001b[38;5;241;43m=\u001b[39;49m\u001b[38;5;241;43m10000\u001b[39;49m\u001b[43m)\u001b[49m]\n\u001b[1;32m      8\u001b[0m \u001b[38;5;28;01mif\u001b[39;00m \u001b[38;5;28mlen\u001b[39m(interesting_pairs) \u001b[38;5;241m>\u001b[39m \u001b[38;5;241m0\u001b[39m:\n\u001b[1;32m      9\u001b[0m     \u001b[38;5;28mprint\u001b[39m(interesting_pairs)\n",
      "Input \u001b[0;32mIn [7]\u001b[0m, in \u001b[0;36mget_upper_range_bigger_than_threshold_percent\u001b[0;34m(symbol, threshold)\u001b[0m\n\u001b[1;32m     24\u001b[0m \u001b[38;5;28;01mdef\u001b[39;00m \u001b[38;5;21mget_upper_range_bigger_than_threshold_percent\u001b[39m(symbol, threshold\u001b[38;5;241m=\u001b[39m\u001b[38;5;241m100\u001b[39m):\n\u001b[0;32m---> 25\u001b[0m     bid_range, ask_range \u001b[38;5;241m=\u001b[39m \u001b[43mget_bid_ask_range\u001b[49m\u001b[43m(\u001b[49m\u001b[43msymbol\u001b[49m\u001b[43m)\u001b[49m\n\u001b[1;32m     26\u001b[0m     trigger \u001b[38;5;241m=\u001b[39m ask_range \u001b[38;5;241m>\u001b[39m threshold\n\u001b[1;32m     27\u001b[0m     \u001b[38;5;28;01mreturn\u001b[39;00m trigger\n",
      "Input \u001b[0;32mIn [7]\u001b[0m, in \u001b[0;36mget_bid_ask_range\u001b[0;34m(symbol)\u001b[0m\n\u001b[1;32m     15\u001b[0m \u001b[38;5;28;01mdef\u001b[39;00m \u001b[38;5;21mget_bid_ask_range\u001b[39m(symbol):\n\u001b[0;32m---> 16\u001b[0m     data \u001b[38;5;241m=\u001b[39m \u001b[43mget_order_book_depth\u001b[49m\u001b[43m(\u001b[49m\u001b[43msymbol\u001b[49m\u001b[38;5;241;43m=\u001b[39;49m\u001b[43msymbol\u001b[49m\u001b[43m)\u001b[49m\n\u001b[1;32m     17\u001b[0m     min_prices \u001b[38;5;241m=\u001b[39m data\u001b[38;5;241m.\u001b[39mgroupby(\u001b[38;5;124m'\u001b[39m\u001b[38;5;124mside\u001b[39m\u001b[38;5;124m'\u001b[39m)\u001b[38;5;241m.\u001b[39mprice\u001b[38;5;241m.\u001b[39mmin()\n\u001b[1;32m     18\u001b[0m     max_prices \u001b[38;5;241m=\u001b[39m data\u001b[38;5;241m.\u001b[39mgroupby(\u001b[38;5;124m'\u001b[39m\u001b[38;5;124mside\u001b[39m\u001b[38;5;124m'\u001b[39m)\u001b[38;5;241m.\u001b[39mprice\u001b[38;5;241m.\u001b[39mmax()\n",
      "Input \u001b[0;32mIn [7]\u001b[0m, in \u001b[0;36mget_order_book_depth\u001b[0;34m(symbol)\u001b[0m\n\u001b[1;32m      6\u001b[0m \u001b[38;5;28;01mdef\u001b[39;00m \u001b[38;5;21mget_order_book_depth\u001b[39m(symbol):\n\u001b[1;32m      7\u001b[0m     sleep(\u001b[38;5;241m2.9\u001b[39m)\n\u001b[0;32m----> 8\u001b[0m     depth \u001b[38;5;241m=\u001b[39m \u001b[43mclient\u001b[49m\u001b[38;5;241;43m.\u001b[39;49m\u001b[43mget_order_book\u001b[49m\u001b[43m(\u001b[49m\u001b[43msymbol\u001b[49m\u001b[38;5;241;43m=\u001b[39;49m\u001b[43msymbol\u001b[49m\u001b[43m,\u001b[49m\u001b[43m \u001b[49m\u001b[43mlimit\u001b[49m\u001b[38;5;241;43m=\u001b[39;49m\u001b[38;5;241;43m5000\u001b[39;49m\u001b[43m)\u001b[49m\n\u001b[1;32m      9\u001b[0m     frames \u001b[38;5;241m=\u001b[39m {side: pd\u001b[38;5;241m.\u001b[39mDataFrame(data\u001b[38;5;241m=\u001b[39mdepth[side], columns\u001b[38;5;241m=\u001b[39m[\u001b[38;5;124m'\u001b[39m\u001b[38;5;124mprice\u001b[39m\u001b[38;5;124m'\u001b[39m, \u001b[38;5;124m'\u001b[39m\u001b[38;5;124mquantity\u001b[39m\u001b[38;5;124m'\u001b[39m], dtype\u001b[38;5;241m=\u001b[39m\u001b[38;5;28mfloat\u001b[39m) \n\u001b[1;32m     10\u001b[0m               \u001b[38;5;28;01mfor\u001b[39;00m side \u001b[38;5;129;01min\u001b[39;00m [\u001b[38;5;124m'\u001b[39m\u001b[38;5;124mbids\u001b[39m\u001b[38;5;124m'\u001b[39m, \u001b[38;5;124m'\u001b[39m\u001b[38;5;124masks\u001b[39m\u001b[38;5;124m'\u001b[39m]}\n\u001b[1;32m     11\u001b[0m     frames_list \u001b[38;5;241m=\u001b[39m [frames[side]\u001b[38;5;241m.\u001b[39massign(side\u001b[38;5;241m=\u001b[39mside) \u001b[38;5;28;01mfor\u001b[39;00m side \u001b[38;5;129;01min\u001b[39;00m frames]\n",
      "File \u001b[0;32m/usr/local/lib/python3.8/dist-packages/binance/client.py:642\u001b[0m, in \u001b[0;36mClient.get_order_book\u001b[0;34m(self, **params)\u001b[0m\n\u001b[1;32m    607\u001b[0m \u001b[38;5;28;01mdef\u001b[39;00m \u001b[38;5;21mget_order_book\u001b[39m(\u001b[38;5;28mself\u001b[39m, \u001b[38;5;241m*\u001b[39m\u001b[38;5;241m*\u001b[39mparams) \u001b[38;5;241m-\u001b[39m\u001b[38;5;241m>\u001b[39m Dict:\n\u001b[1;32m    608\u001b[0m     \u001b[38;5;124;03m\"\"\"Get the Order Book for the market\u001b[39;00m\n\u001b[1;32m    609\u001b[0m \n\u001b[1;32m    610\u001b[0m \u001b[38;5;124;03m    https://binance-docs.github.io/apidocs/spot/en/#order-book\u001b[39;00m\n\u001b[0;32m   (...)\u001b[0m\n\u001b[1;32m    640\u001b[0m \n\u001b[1;32m    641\u001b[0m \u001b[38;5;124;03m    \"\"\"\u001b[39;00m\n\u001b[0;32m--> 642\u001b[0m     \u001b[38;5;28;01mreturn\u001b[39;00m \u001b[38;5;28;43mself\u001b[39;49m\u001b[38;5;241;43m.\u001b[39;49m\u001b[43m_get\u001b[49m\u001b[43m(\u001b[49m\u001b[38;5;124;43m'\u001b[39;49m\u001b[38;5;124;43mdepth\u001b[39;49m\u001b[38;5;124;43m'\u001b[39;49m\u001b[43m,\u001b[49m\u001b[43m \u001b[49m\u001b[43mdata\u001b[49m\u001b[38;5;241;43m=\u001b[39;49m\u001b[43mparams\u001b[49m\u001b[43m,\u001b[49m\u001b[43m \u001b[49m\u001b[43mversion\u001b[49m\u001b[38;5;241;43m=\u001b[39;49m\u001b[38;5;28;43mself\u001b[39;49m\u001b[38;5;241;43m.\u001b[39;49m\u001b[43mPRIVATE_API_VERSION\u001b[49m\u001b[43m)\u001b[49m\n",
      "File \u001b[0;32m/usr/local/lib/python3.8/dist-packages/binance/client.py:371\u001b[0m, in \u001b[0;36mClient._get\u001b[0;34m(self, path, signed, version, **kwargs)\u001b[0m\n\u001b[1;32m    370\u001b[0m \u001b[38;5;28;01mdef\u001b[39;00m \u001b[38;5;21m_get\u001b[39m(\u001b[38;5;28mself\u001b[39m, path, signed\u001b[38;5;241m=\u001b[39m\u001b[38;5;28;01mFalse\u001b[39;00m, version\u001b[38;5;241m=\u001b[39mBaseClient\u001b[38;5;241m.\u001b[39mPUBLIC_API_VERSION, \u001b[38;5;241m*\u001b[39m\u001b[38;5;241m*\u001b[39mkwargs):\n\u001b[0;32m--> 371\u001b[0m     \u001b[38;5;28;01mreturn\u001b[39;00m \u001b[38;5;28;43mself\u001b[39;49m\u001b[38;5;241;43m.\u001b[39;49m\u001b[43m_request_api\u001b[49m\u001b[43m(\u001b[49m\u001b[38;5;124;43m'\u001b[39;49m\u001b[38;5;124;43mget\u001b[39;49m\u001b[38;5;124;43m'\u001b[39;49m\u001b[43m,\u001b[49m\u001b[43m \u001b[49m\u001b[43mpath\u001b[49m\u001b[43m,\u001b[49m\u001b[43m \u001b[49m\u001b[43msigned\u001b[49m\u001b[43m,\u001b[49m\u001b[43m \u001b[49m\u001b[43mversion\u001b[49m\u001b[43m,\u001b[49m\u001b[43m \u001b[49m\u001b[38;5;241;43m*\u001b[39;49m\u001b[38;5;241;43m*\u001b[39;49m\u001b[43mkwargs\u001b[49m\u001b[43m)\u001b[49m\n",
      "File \u001b[0;32m/usr/local/lib/python3.8/dist-packages/binance/client.py:334\u001b[0m, in \u001b[0;36mClient._request_api\u001b[0;34m(self, method, path, signed, version, **kwargs)\u001b[0m\n\u001b[1;32m    330\u001b[0m \u001b[38;5;28;01mdef\u001b[39;00m \u001b[38;5;21m_request_api\u001b[39m(\n\u001b[1;32m    331\u001b[0m     \u001b[38;5;28mself\u001b[39m, method, path: \u001b[38;5;28mstr\u001b[39m, signed: \u001b[38;5;28mbool\u001b[39m \u001b[38;5;241m=\u001b[39m \u001b[38;5;28;01mFalse\u001b[39;00m, version\u001b[38;5;241m=\u001b[39mBaseClient\u001b[38;5;241m.\u001b[39mPUBLIC_API_VERSION, \u001b[38;5;241m*\u001b[39m\u001b[38;5;241m*\u001b[39mkwargs\n\u001b[1;32m    332\u001b[0m ):\n\u001b[1;32m    333\u001b[0m     uri \u001b[38;5;241m=\u001b[39m \u001b[38;5;28mself\u001b[39m\u001b[38;5;241m.\u001b[39m_create_api_uri(path, signed, version)\n\u001b[0;32m--> 334\u001b[0m     \u001b[38;5;28;01mreturn\u001b[39;00m \u001b[38;5;28;43mself\u001b[39;49m\u001b[38;5;241;43m.\u001b[39;49m\u001b[43m_request\u001b[49m\u001b[43m(\u001b[49m\u001b[43mmethod\u001b[49m\u001b[43m,\u001b[49m\u001b[43m \u001b[49m\u001b[43muri\u001b[49m\u001b[43m,\u001b[49m\u001b[43m \u001b[49m\u001b[43msigned\u001b[49m\u001b[43m,\u001b[49m\u001b[43m \u001b[49m\u001b[38;5;241;43m*\u001b[39;49m\u001b[38;5;241;43m*\u001b[39;49m\u001b[43mkwargs\u001b[49m\u001b[43m)\u001b[49m\n",
      "File \u001b[0;32m/usr/local/lib/python3.8/dist-packages/binance/client.py:314\u001b[0m, in \u001b[0;36mClient._request\u001b[0;34m(self, method, uri, signed, force_params, **kwargs)\u001b[0m\n\u001b[1;32m    310\u001b[0m \u001b[38;5;28;01mdef\u001b[39;00m \u001b[38;5;21m_request\u001b[39m(\u001b[38;5;28mself\u001b[39m, method, uri: \u001b[38;5;28mstr\u001b[39m, signed: \u001b[38;5;28mbool\u001b[39m, force_params: \u001b[38;5;28mbool\u001b[39m \u001b[38;5;241m=\u001b[39m \u001b[38;5;28;01mFalse\u001b[39;00m, \u001b[38;5;241m*\u001b[39m\u001b[38;5;241m*\u001b[39mkwargs):\n\u001b[1;32m    312\u001b[0m     kwargs \u001b[38;5;241m=\u001b[39m \u001b[38;5;28mself\u001b[39m\u001b[38;5;241m.\u001b[39m_get_request_kwargs(method, signed, force_params, \u001b[38;5;241m*\u001b[39m\u001b[38;5;241m*\u001b[39mkwargs)\n\u001b[0;32m--> 314\u001b[0m     \u001b[38;5;28mself\u001b[39m\u001b[38;5;241m.\u001b[39mresponse \u001b[38;5;241m=\u001b[39m \u001b[38;5;28;43mgetattr\u001b[39;49m\u001b[43m(\u001b[49m\u001b[38;5;28;43mself\u001b[39;49m\u001b[38;5;241;43m.\u001b[39;49m\u001b[43msession\u001b[49m\u001b[43m,\u001b[49m\u001b[43m \u001b[49m\u001b[43mmethod\u001b[49m\u001b[43m)\u001b[49m\u001b[43m(\u001b[49m\u001b[43muri\u001b[49m\u001b[43m,\u001b[49m\u001b[43m \u001b[49m\u001b[38;5;241;43m*\u001b[39;49m\u001b[38;5;241;43m*\u001b[39;49m\u001b[43mkwargs\u001b[49m\u001b[43m)\u001b[49m\n\u001b[1;32m    315\u001b[0m     \u001b[38;5;28;01mreturn\u001b[39;00m \u001b[38;5;28mself\u001b[39m\u001b[38;5;241m.\u001b[39m_handle_response(\u001b[38;5;28mself\u001b[39m\u001b[38;5;241m.\u001b[39mresponse)\n",
      "File \u001b[0;32m/usr/local/lib/python3.8/dist-packages/requests/sessions.py:542\u001b[0m, in \u001b[0;36mSession.get\u001b[0;34m(self, url, **kwargs)\u001b[0m\n\u001b[1;32m    534\u001b[0m \u001b[38;5;124mr\u001b[39m\u001b[38;5;124;03m\"\"\"Sends a GET request. Returns :class:`Response` object.\u001b[39;00m\n\u001b[1;32m    535\u001b[0m \n\u001b[1;32m    536\u001b[0m \u001b[38;5;124;03m:param url: URL for the new :class:`Request` object.\u001b[39;00m\n\u001b[1;32m    537\u001b[0m \u001b[38;5;124;03m:param \\*\\*kwargs: Optional arguments that ``request`` takes.\u001b[39;00m\n\u001b[1;32m    538\u001b[0m \u001b[38;5;124;03m:rtype: requests.Response\u001b[39;00m\n\u001b[1;32m    539\u001b[0m \u001b[38;5;124;03m\"\"\"\u001b[39;00m\n\u001b[1;32m    541\u001b[0m kwargs\u001b[38;5;241m.\u001b[39msetdefault(\u001b[38;5;124m'\u001b[39m\u001b[38;5;124mallow_redirects\u001b[39m\u001b[38;5;124m'\u001b[39m, \u001b[38;5;28;01mTrue\u001b[39;00m)\n\u001b[0;32m--> 542\u001b[0m \u001b[38;5;28;01mreturn\u001b[39;00m \u001b[38;5;28;43mself\u001b[39;49m\u001b[38;5;241;43m.\u001b[39;49m\u001b[43mrequest\u001b[49m\u001b[43m(\u001b[49m\u001b[38;5;124;43m'\u001b[39;49m\u001b[38;5;124;43mGET\u001b[39;49m\u001b[38;5;124;43m'\u001b[39;49m\u001b[43m,\u001b[49m\u001b[43m \u001b[49m\u001b[43murl\u001b[49m\u001b[43m,\u001b[49m\u001b[43m \u001b[49m\u001b[38;5;241;43m*\u001b[39;49m\u001b[38;5;241;43m*\u001b[39;49m\u001b[43mkwargs\u001b[49m\u001b[43m)\u001b[49m\n",
      "File \u001b[0;32m/usr/local/lib/python3.8/dist-packages/requests/sessions.py:529\u001b[0m, in \u001b[0;36mSession.request\u001b[0;34m(self, method, url, params, data, headers, cookies, files, auth, timeout, allow_redirects, proxies, hooks, stream, verify, cert, json)\u001b[0m\n\u001b[1;32m    524\u001b[0m send_kwargs \u001b[38;5;241m=\u001b[39m {\n\u001b[1;32m    525\u001b[0m     \u001b[38;5;124m'\u001b[39m\u001b[38;5;124mtimeout\u001b[39m\u001b[38;5;124m'\u001b[39m: timeout,\n\u001b[1;32m    526\u001b[0m     \u001b[38;5;124m'\u001b[39m\u001b[38;5;124mallow_redirects\u001b[39m\u001b[38;5;124m'\u001b[39m: allow_redirects,\n\u001b[1;32m    527\u001b[0m }\n\u001b[1;32m    528\u001b[0m send_kwargs\u001b[38;5;241m.\u001b[39mupdate(settings)\n\u001b[0;32m--> 529\u001b[0m resp \u001b[38;5;241m=\u001b[39m \u001b[38;5;28;43mself\u001b[39;49m\u001b[38;5;241;43m.\u001b[39;49m\u001b[43msend\u001b[49m\u001b[43m(\u001b[49m\u001b[43mprep\u001b[49m\u001b[43m,\u001b[49m\u001b[43m \u001b[49m\u001b[38;5;241;43m*\u001b[39;49m\u001b[38;5;241;43m*\u001b[39;49m\u001b[43msend_kwargs\u001b[49m\u001b[43m)\u001b[49m\n\u001b[1;32m    531\u001b[0m \u001b[38;5;28;01mreturn\u001b[39;00m resp\n",
      "File \u001b[0;32m/usr/local/lib/python3.8/dist-packages/requests/sessions.py:645\u001b[0m, in \u001b[0;36mSession.send\u001b[0;34m(self, request, **kwargs)\u001b[0m\n\u001b[1;32m    642\u001b[0m start \u001b[38;5;241m=\u001b[39m preferred_clock()\n\u001b[1;32m    644\u001b[0m \u001b[38;5;66;03m# Send the request\u001b[39;00m\n\u001b[0;32m--> 645\u001b[0m r \u001b[38;5;241m=\u001b[39m \u001b[43madapter\u001b[49m\u001b[38;5;241;43m.\u001b[39;49m\u001b[43msend\u001b[49m\u001b[43m(\u001b[49m\u001b[43mrequest\u001b[49m\u001b[43m,\u001b[49m\u001b[43m \u001b[49m\u001b[38;5;241;43m*\u001b[39;49m\u001b[38;5;241;43m*\u001b[39;49m\u001b[43mkwargs\u001b[49m\u001b[43m)\u001b[49m\n\u001b[1;32m    647\u001b[0m \u001b[38;5;66;03m# Total elapsed time of the request (approximately)\u001b[39;00m\n\u001b[1;32m    648\u001b[0m elapsed \u001b[38;5;241m=\u001b[39m preferred_clock() \u001b[38;5;241m-\u001b[39m start\n",
      "File \u001b[0;32m/usr/local/lib/python3.8/dist-packages/requests/adapters.py:532\u001b[0m, in \u001b[0;36mHTTPAdapter.send\u001b[0;34m(self, request, stream, timeout, verify, cert, proxies)\u001b[0m\n\u001b[1;32m    530\u001b[0m     \u001b[38;5;28;01mraise\u001b[39;00m SSLError(e, request\u001b[38;5;241m=\u001b[39mrequest)\n\u001b[1;32m    531\u001b[0m \u001b[38;5;28;01melif\u001b[39;00m \u001b[38;5;28misinstance\u001b[39m(e, ReadTimeoutError):\n\u001b[0;32m--> 532\u001b[0m     \u001b[38;5;28;01mraise\u001b[39;00m ReadTimeout(e, request\u001b[38;5;241m=\u001b[39mrequest)\n\u001b[1;32m    533\u001b[0m \u001b[38;5;28;01melif\u001b[39;00m \u001b[38;5;28misinstance\u001b[39m(e, _InvalidHeader):\n\u001b[1;32m    534\u001b[0m     \u001b[38;5;28;01mraise\u001b[39;00m InvalidHeader(e, request\u001b[38;5;241m=\u001b[39mrequest)\n",
      "\u001b[0;31mReadTimeout\u001b[0m: HTTPSConnectionPool(host='api.binance.com', port=443): Read timed out. (read timeout=10)"
     ]
    }
   ],
   "source": [
    "from tqdm import tqdm\n",
    "\n",
    "while True:\n",
    "    tickers_list = get_new_tickers(client=client, conversion_table=conversion_table)\n",
    "    sleep(5)\n",
    "    interesting_pairs = [symbol for symbol in tqdm(tickers_list) \n",
    "                         if get_upper_range_bigger_than_threshold_percent(symbol=symbol, threshold=10000)]\n",
    "    if len(interesting_pairs) > 0:\n",
    "        print(interesting_pairs)"
   ]
  },
  {
   "cell_type": "code",
   "execution_count": null,
   "metadata": {},
   "outputs": [],
   "source": [
    "tickers_list"
   ]
  },
  {
   "cell_type": "code",
   "execution_count": null,
   "metadata": {},
   "outputs": [],
   "source": []
  },
  {
   "cell_type": "code",
   "execution_count": null,
   "metadata": {},
   "outputs": [],
   "source": []
  },
  {
   "cell_type": "code",
   "execution_count": null,
   "metadata": {},
   "outputs": [],
   "source": [
    "from time import time\n",
    "import pandas as pd\n",
    "import matplotlib.pyplot as plt\n",
    "import seaborn as sns\n",
    "\n",
    "symbol = 'USTCBUSD'\n",
    "t1 = time()\n",
    "depth = client.get_order_book(symbol=symbol, limit=5000)\n",
    "t2 = time()\n",
    "print('Elapsed time:', (t2 - t1), 'seconds')\n",
    "frames = {side: pd.DataFrame(data=depth[side], columns=['price', 'quantity'], dtype=float) \n",
    "          for side in ['bids', 'asks']}\n",
    "frames_list = [frames[side].assign(side=side) for side in frames]\n",
    "data = pd.concat(frames_list, axis='index', ignore_index=True, sort=True)\n",
    "t2 = time()\n",
    "print('Elapsed time:', (t2 - t1), 'seconds')\n",
    "max_quantities = data.groupby('side').quantity.max()\n",
    "height_based_direction = ((max_quantities.loc['asks'] - max_quantities.loc['bids']) / max_quantities.loc['bids'])\n",
    "height_based_direction *= 100\n",
    "height_based_direction"
   ]
  },
  {
   "cell_type": "code",
   "execution_count": null,
   "metadata": {},
   "outputs": [],
   "source": [
    "max_quantities.loc['bids'], max_quantities.loc['asks']"
   ]
  },
  {
   "cell_type": "code",
   "execution_count": null,
   "metadata": {},
   "outputs": [],
   "source": [
    "data[data['side'] == 'bids'].shape[0], data[data['side'] == 'asks'].shape[0]"
   ]
  },
  {
   "cell_type": "code",
   "execution_count": null,
   "metadata": {},
   "outputs": [],
   "source": [
    "min_prices = data.groupby('side').price.min()\n",
    "max_prices = data.groupby('side').price.max()\n",
    "asks_width = ((max_prices.loc['asks'] - min_prices.loc['asks']) / max_prices.loc['asks'])\n",
    "bids_width = ((max_prices.loc['bids'] - min_prices.loc['bids']) / max_prices.loc['asks'])\n",
    "width_based_direction = ((asks_width / (asks_width + bids_width)) * 100)\n",
    "width_based_direction"
   ]
  },
  {
   "cell_type": "code",
   "execution_count": null,
   "metadata": {},
   "outputs": [],
   "source": [
    "center_price = ((min_prices.loc['asks'] - max_prices.loc['bids']) + max_prices.loc['bids'])\n",
    "bid_range = (((center_price - min_prices.loc['bids']) / min_prices.loc['bids']) * 100)\n",
    "ask_range = (((max_prices.loc['asks'] - center_price) / center_price) * 100)\n",
    "bid_range, ask_range"
   ]
  },
  {
   "cell_type": "code",
   "execution_count": null,
   "metadata": {},
   "outputs": [],
   "source": [
    "depth_bullishness = height_based_direction + width_based_direction\n",
    "depth_bullishness"
   ]
  },
  {
   "cell_type": "code",
   "execution_count": null,
   "metadata": {},
   "outputs": [],
   "source": [
    "fig, ax = plt.subplots()\n",
    "\n",
    "sns.ecdfplot(x='price', weights='quantity', stat='count', complementary=True, data=frames['bids'], ax=ax)\n",
    "sns.ecdfplot(x='price', weights='quantity', stat='count', data=frames['asks'], ax=ax)\n",
    "sns.scatterplot(x='price', y='quantity', hue='side', data=data, ax=ax)\n",
    "\n",
    "ax.set_xlabel('Price')\n",
    "ax.set_ylabel('Quantity')\n",
    "\n",
    "plt.show()"
   ]
  },
  {
   "cell_type": "markdown",
   "metadata": {},
   "source": [
    "## Smaller bid/ask split (no depth)."
   ]
  },
  {
   "cell_type": "code",
   "execution_count": null,
   "metadata": {},
   "outputs": [],
   "source": [
    "df = pd.DataFrame(client.get_ticker())\n",
    "split = df[df['symbol'] == symbol][['bidQty', 'askQty']].iloc[0].astype(float)\n",
    "#(((split.loc['askQty'] - split.loc['bidQty']) / split.loc['bidQty']) * 100)\n",
    "split"
   ]
  },
  {
   "cell_type": "code",
   "execution_count": null,
   "metadata": {},
   "outputs": [],
   "source": []
  }
 ],
 "metadata": {
  "colab": {
   "authorship_tag": "ABX9TyO4csgmdyxBlfVzNgUhkI0X",
   "collapsed_sections": [],
   "include_colab_link": true,
   "name": "crypto_bot",
   "provenance": []
  },
  "kernelspec": {
   "display_name": "Python 3 (ipykernel)",
   "language": "python",
   "name": "python3"
  },
  "language_info": {
   "codemirror_mode": {
    "name": "ipython",
    "version": 3
   },
   "file_extension": ".py",
   "mimetype": "text/x-python",
   "name": "python",
   "nbconvert_exporter": "python",
   "pygments_lexer": "ipython3",
   "version": "3.8.10"
  }
 },
 "nbformat": 4,
 "nbformat_minor": 1
}
