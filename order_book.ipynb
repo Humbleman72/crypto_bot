{
 "cells": [
  {
   "cell_type": "markdown",
   "metadata": {
    "colab_type": "text",
    "id": "jKtLwsCCqsmH"
   },
   "source": [
    "Cryptocurrency trading bot."
   ]
  },
  {
   "cell_type": "code",
   "execution_count": 1,
   "metadata": {},
   "outputs": [],
   "source": [
    "##%pip install python-binance==0.7.5\n",
    "#%pip install python-binance"
   ]
  },
  {
   "cell_type": "markdown",
   "metadata": {},
   "source": [
    "## Global constants."
   ]
  },
  {
   "cell_type": "code",
   "execution_count": 2,
   "metadata": {},
   "outputs": [],
   "source": [
    "symbol = 'OCEANUSDT'\n",
    "interval = '1h'\n",
    "period = 100"
   ]
  },
  {
   "cell_type": "markdown",
   "metadata": {},
   "source": [
    "## Manage API keys, get all needed pair information to trade and get conversion table for price conversions."
   ]
  },
  {
   "cell_type": "code",
   "execution_count": 19,
   "metadata": {},
   "outputs": [
    {
     "data": {
      "text/html": [
       "<div>\n",
       "<style scoped>\n",
       "    .dataframe tbody tr th:only-of-type {\n",
       "        vertical-align: middle;\n",
       "    }\n",
       "\n",
       "    .dataframe tbody tr th {\n",
       "        vertical-align: top;\n",
       "    }\n",
       "\n",
       "    .dataframe thead th {\n",
       "        text-align: right;\n",
       "    }\n",
       "</style>\n",
       "<table border=\"1\" class=\"dataframe\">\n",
       "  <thead>\n",
       "    <tr style=\"text-align: right;\">\n",
       "      <th></th>\n",
       "      <th>symbol</th>\n",
       "      <th>base_asset</th>\n",
       "      <th>quote_asset</th>\n",
       "      <th>open</th>\n",
       "      <th>high</th>\n",
       "      <th>low</th>\n",
       "      <th>close</th>\n",
       "      <th>rolling_base_volume</th>\n",
       "      <th>rolling_quote_volume</th>\n",
       "      <th>count</th>\n",
       "      <th>bid_price</th>\n",
       "      <th>ask_price</th>\n",
       "      <th>bid_volume</th>\n",
       "      <th>ask_volume</th>\n",
       "      <th>price_change_percent</th>\n",
       "      <th>rolling_base_quote_volume</th>\n",
       "      <th>bid_ask_percent_change</th>\n",
       "      <th>bid_ask_volume_percent_change</th>\n",
       "    </tr>\n",
       "    <tr>\n",
       "      <th>date</th>\n",
       "      <th></th>\n",
       "      <th></th>\n",
       "      <th></th>\n",
       "      <th></th>\n",
       "      <th></th>\n",
       "      <th></th>\n",
       "      <th></th>\n",
       "      <th></th>\n",
       "      <th></th>\n",
       "      <th></th>\n",
       "      <th></th>\n",
       "      <th></th>\n",
       "      <th></th>\n",
       "      <th></th>\n",
       "      <th></th>\n",
       "      <th></th>\n",
       "      <th></th>\n",
       "      <th></th>\n",
       "    </tr>\n",
       "  </thead>\n",
       "  <tbody>\n",
       "    <tr>\n",
       "      <th>2022-12-12 23:55:34.147</th>\n",
       "      <td>CVCBTC</td>\n",
       "      <td>CVC</td>\n",
       "      <td>BTC</td>\n",
       "      <td>0.000000</td>\n",
       "      <td>0.000000</td>\n",
       "      <td>0.000000</td>\n",
       "      <td>0.000000</td>\n",
       "      <td>0.000000e+00</td>\n",
       "      <td>0.000000e+00</td>\n",
       "      <td>0</td>\n",
       "      <td>0.000000</td>\n",
       "      <td>0.000000</td>\n",
       "      <td>0.00000</td>\n",
       "      <td>0.00000</td>\n",
       "      <td>0.000</td>\n",
       "      <td>NaN</td>\n",
       "      <td>NaN</td>\n",
       "      <td>NaN</td>\n",
       "    </tr>\n",
       "    <tr>\n",
       "      <th>2022-12-12 23:55:34.147</th>\n",
       "      <td>SLPBNB</td>\n",
       "      <td>SLP</td>\n",
       "      <td>BNB</td>\n",
       "      <td>0.000000</td>\n",
       "      <td>0.000000</td>\n",
       "      <td>0.000000</td>\n",
       "      <td>0.000000</td>\n",
       "      <td>0.000000e+00</td>\n",
       "      <td>0.000000e+00</td>\n",
       "      <td>0</td>\n",
       "      <td>0.000000</td>\n",
       "      <td>0.000000</td>\n",
       "      <td>0.00000</td>\n",
       "      <td>0.00000</td>\n",
       "      <td>0.000</td>\n",
       "      <td>NaN</td>\n",
       "      <td>NaN</td>\n",
       "      <td>NaN</td>\n",
       "    </tr>\n",
       "    <tr>\n",
       "      <th>2022-12-12 23:55:34.147</th>\n",
       "      <td>ROSEBNB</td>\n",
       "      <td>ROSE</td>\n",
       "      <td>BNB</td>\n",
       "      <td>0.000000</td>\n",
       "      <td>0.000000</td>\n",
       "      <td>0.000000</td>\n",
       "      <td>0.000000</td>\n",
       "      <td>0.000000e+00</td>\n",
       "      <td>0.000000e+00</td>\n",
       "      <td>0</td>\n",
       "      <td>0.000000</td>\n",
       "      <td>0.000000</td>\n",
       "      <td>0.00000</td>\n",
       "      <td>0.00000</td>\n",
       "      <td>0.000</td>\n",
       "      <td>NaN</td>\n",
       "      <td>NaN</td>\n",
       "      <td>NaN</td>\n",
       "    </tr>\n",
       "    <tr>\n",
       "      <th>2022-12-12 23:55:34.147</th>\n",
       "      <td>CVCUSDT</td>\n",
       "      <td>CVC</td>\n",
       "      <td>USDT</td>\n",
       "      <td>0.000000</td>\n",
       "      <td>0.000000</td>\n",
       "      <td>0.000000</td>\n",
       "      <td>0.000000</td>\n",
       "      <td>0.000000e+00</td>\n",
       "      <td>0.000000e+00</td>\n",
       "      <td>0</td>\n",
       "      <td>0.000000</td>\n",
       "      <td>0.000000</td>\n",
       "      <td>0.00000</td>\n",
       "      <td>0.00000</td>\n",
       "      <td>0.000</td>\n",
       "      <td>NaN</td>\n",
       "      <td>NaN</td>\n",
       "      <td>NaN</td>\n",
       "    </tr>\n",
       "    <tr>\n",
       "      <th>2022-12-16 03:58:31.829</th>\n",
       "      <td>BUSDVAI</td>\n",
       "      <td>BUSD</td>\n",
       "      <td>VAI</td>\n",
       "      <td>1.026000</td>\n",
       "      <td>1.026000</td>\n",
       "      <td>1.019000</td>\n",
       "      <td>1.020000</td>\n",
       "      <td>5.024200e+03</td>\n",
       "      <td>5.136013e+03</td>\n",
       "      <td>11</td>\n",
       "      <td>1.019000</td>\n",
       "      <td>1.021000</td>\n",
       "      <td>647.30000</td>\n",
       "      <td>24.20000</td>\n",
       "      <td>-0.585</td>\n",
       "      <td>5.035307e+03</td>\n",
       "      <td>0.195886</td>\n",
       "      <td>96.396128</td>\n",
       "    </tr>\n",
       "    <tr>\n",
       "      <th>...</th>\n",
       "      <td>...</td>\n",
       "      <td>...</td>\n",
       "      <td>...</td>\n",
       "      <td>...</td>\n",
       "      <td>...</td>\n",
       "      <td>...</td>\n",
       "      <td>...</td>\n",
       "      <td>...</td>\n",
       "      <td>...</td>\n",
       "      <td>...</td>\n",
       "      <td>...</td>\n",
       "      <td>...</td>\n",
       "      <td>...</td>\n",
       "      <td>...</td>\n",
       "      <td>...</td>\n",
       "      <td>...</td>\n",
       "      <td>...</td>\n",
       "      <td>...</td>\n",
       "    </tr>\n",
       "    <tr>\n",
       "      <th>2022-12-16 10:50:44.381</th>\n",
       "      <td>RENUSDT</td>\n",
       "      <td>REN</td>\n",
       "      <td>USDT</td>\n",
       "      <td>0.086051</td>\n",
       "      <td>0.087667</td>\n",
       "      <td>0.081148</td>\n",
       "      <td>0.082065</td>\n",
       "      <td>1.900174e+07</td>\n",
       "      <td>1.608516e+06</td>\n",
       "      <td>8685</td>\n",
       "      <td>0.082065</td>\n",
       "      <td>0.082093</td>\n",
       "      <td>6240.00000</td>\n",
       "      <td>1630.00000</td>\n",
       "      <td>-4.632</td>\n",
       "      <td>1.960051e+07</td>\n",
       "      <td>0.034108</td>\n",
       "      <td>79.288437</td>\n",
       "    </tr>\n",
       "    <tr>\n",
       "      <th>2022-12-16 10:50:44.383</th>\n",
       "      <td>BTCUSDT</td>\n",
       "      <td>BTC</td>\n",
       "      <td>USDT</td>\n",
       "      <td>17407.500000</td>\n",
       "      <td>17531.730000</td>\n",
       "      <td>16890.460000</td>\n",
       "      <td>16970.480000</td>\n",
       "      <td>2.300436e+05</td>\n",
       "      <td>3.966259e+09</td>\n",
       "      <td>4961618</td>\n",
       "      <td>16970.050000</td>\n",
       "      <td>16970.590000</td>\n",
       "      <td>0.11785</td>\n",
       "      <td>0.10181</td>\n",
       "      <td>-2.511</td>\n",
       "      <td>2.337152e+05</td>\n",
       "      <td>0.003182</td>\n",
       "      <td>53.651097</td>\n",
       "    </tr>\n",
       "    <tr>\n",
       "      <th>2022-12-16 10:50:44.383</th>\n",
       "      <td>ACMBUSD</td>\n",
       "      <td>ACM</td>\n",
       "      <td>BUSD</td>\n",
       "      <td>2.528000</td>\n",
       "      <td>2.540000</td>\n",
       "      <td>2.356000</td>\n",
       "      <td>2.417000</td>\n",
       "      <td>4.610210e+04</td>\n",
       "      <td>1.123160e+05</td>\n",
       "      <td>1499</td>\n",
       "      <td>2.418000</td>\n",
       "      <td>2.420000</td>\n",
       "      <td>82.70000</td>\n",
       "      <td>88.10000</td>\n",
       "      <td>-4.391</td>\n",
       "      <td>4.646918e+04</td>\n",
       "      <td>0.082645</td>\n",
       "      <td>48.419204</td>\n",
       "    </tr>\n",
       "    <tr>\n",
       "      <th>2022-12-16 10:50:44.383</th>\n",
       "      <td>DASHETH</td>\n",
       "      <td>DASH</td>\n",
       "      <td>ETH</td>\n",
       "      <td>0.037400</td>\n",
       "      <td>0.038230</td>\n",
       "      <td>0.036210</td>\n",
       "      <td>0.037040</td>\n",
       "      <td>1.378897e+03</td>\n",
       "      <td>5.091254e+01</td>\n",
       "      <td>550</td>\n",
       "      <td>0.037010</td>\n",
       "      <td>0.037100</td>\n",
       "      <td>4.46700</td>\n",
       "      <td>4.45700</td>\n",
       "      <td>-0.963</td>\n",
       "      <td>1.374529e+03</td>\n",
       "      <td>0.242588</td>\n",
       "      <td>50.056029</td>\n",
       "    </tr>\n",
       "    <tr>\n",
       "      <th>2022-12-16 10:50:44.386</th>\n",
       "      <td>BALUSDT</td>\n",
       "      <td>BAL</td>\n",
       "      <td>USDT</td>\n",
       "      <td>6.015000</td>\n",
       "      <td>6.075000</td>\n",
       "      <td>5.712000</td>\n",
       "      <td>5.780000</td>\n",
       "      <td>1.658626e+05</td>\n",
       "      <td>9.770382e+05</td>\n",
       "      <td>8167</td>\n",
       "      <td>5.774000</td>\n",
       "      <td>5.780000</td>\n",
       "      <td>14.87000</td>\n",
       "      <td>32.19000</td>\n",
       "      <td>-3.907</td>\n",
       "      <td>1.690378e+05</td>\n",
       "      <td>0.103806</td>\n",
       "      <td>31.597960</td>\n",
       "    </tr>\n",
       "  </tbody>\n",
       "</table>\n",
       "<p>1415 rows × 18 columns</p>\n",
       "</div>"
      ],
      "text/plain": [
       "                          symbol base_asset quote_asset          open  \\\n",
       "date                                                                    \n",
       "2022-12-12 23:55:34.147   CVCBTC        CVC         BTC      0.000000   \n",
       "2022-12-12 23:55:34.147   SLPBNB        SLP         BNB      0.000000   \n",
       "2022-12-12 23:55:34.147  ROSEBNB       ROSE         BNB      0.000000   \n",
       "2022-12-12 23:55:34.147  CVCUSDT        CVC        USDT      0.000000   \n",
       "2022-12-16 03:58:31.829  BUSDVAI       BUSD         VAI      1.026000   \n",
       "...                          ...        ...         ...           ...   \n",
       "2022-12-16 10:50:44.381  RENUSDT        REN        USDT      0.086051   \n",
       "2022-12-16 10:50:44.383  BTCUSDT        BTC        USDT  17407.500000   \n",
       "2022-12-16 10:50:44.383  ACMBUSD        ACM        BUSD      2.528000   \n",
       "2022-12-16 10:50:44.383  DASHETH       DASH         ETH      0.037400   \n",
       "2022-12-16 10:50:44.386  BALUSDT        BAL        USDT      6.015000   \n",
       "\n",
       "                                 high           low         close  \\\n",
       "date                                                                \n",
       "2022-12-12 23:55:34.147      0.000000      0.000000      0.000000   \n",
       "2022-12-12 23:55:34.147      0.000000      0.000000      0.000000   \n",
       "2022-12-12 23:55:34.147      0.000000      0.000000      0.000000   \n",
       "2022-12-12 23:55:34.147      0.000000      0.000000      0.000000   \n",
       "2022-12-16 03:58:31.829      1.026000      1.019000      1.020000   \n",
       "...                               ...           ...           ...   \n",
       "2022-12-16 10:50:44.381      0.087667      0.081148      0.082065   \n",
       "2022-12-16 10:50:44.383  17531.730000  16890.460000  16970.480000   \n",
       "2022-12-16 10:50:44.383      2.540000      2.356000      2.417000   \n",
       "2022-12-16 10:50:44.383      0.038230      0.036210      0.037040   \n",
       "2022-12-16 10:50:44.386      6.075000      5.712000      5.780000   \n",
       "\n",
       "                         rolling_base_volume  rolling_quote_volume    count  \\\n",
       "date                                                                          \n",
       "2022-12-12 23:55:34.147         0.000000e+00          0.000000e+00        0   \n",
       "2022-12-12 23:55:34.147         0.000000e+00          0.000000e+00        0   \n",
       "2022-12-12 23:55:34.147         0.000000e+00          0.000000e+00        0   \n",
       "2022-12-12 23:55:34.147         0.000000e+00          0.000000e+00        0   \n",
       "2022-12-16 03:58:31.829         5.024200e+03          5.136013e+03       11   \n",
       "...                                      ...                   ...      ...   \n",
       "2022-12-16 10:50:44.381         1.900174e+07          1.608516e+06     8685   \n",
       "2022-12-16 10:50:44.383         2.300436e+05          3.966259e+09  4961618   \n",
       "2022-12-16 10:50:44.383         4.610210e+04          1.123160e+05     1499   \n",
       "2022-12-16 10:50:44.383         1.378897e+03          5.091254e+01      550   \n",
       "2022-12-16 10:50:44.386         1.658626e+05          9.770382e+05     8167   \n",
       "\n",
       "                            bid_price     ask_price  bid_volume  ask_volume  \\\n",
       "date                                                                          \n",
       "2022-12-12 23:55:34.147      0.000000      0.000000     0.00000     0.00000   \n",
       "2022-12-12 23:55:34.147      0.000000      0.000000     0.00000     0.00000   \n",
       "2022-12-12 23:55:34.147      0.000000      0.000000     0.00000     0.00000   \n",
       "2022-12-12 23:55:34.147      0.000000      0.000000     0.00000     0.00000   \n",
       "2022-12-16 03:58:31.829      1.019000      1.021000   647.30000    24.20000   \n",
       "...                               ...           ...         ...         ...   \n",
       "2022-12-16 10:50:44.381      0.082065      0.082093  6240.00000  1630.00000   \n",
       "2022-12-16 10:50:44.383  16970.050000  16970.590000     0.11785     0.10181   \n",
       "2022-12-16 10:50:44.383      2.418000      2.420000    82.70000    88.10000   \n",
       "2022-12-16 10:50:44.383      0.037010      0.037100     4.46700     4.45700   \n",
       "2022-12-16 10:50:44.386      5.774000      5.780000    14.87000    32.19000   \n",
       "\n",
       "                         price_change_percent  rolling_base_quote_volume  \\\n",
       "date                                                                       \n",
       "2022-12-12 23:55:34.147                 0.000                        NaN   \n",
       "2022-12-12 23:55:34.147                 0.000                        NaN   \n",
       "2022-12-12 23:55:34.147                 0.000                        NaN   \n",
       "2022-12-12 23:55:34.147                 0.000                        NaN   \n",
       "2022-12-16 03:58:31.829                -0.585               5.035307e+03   \n",
       "...                                       ...                        ...   \n",
       "2022-12-16 10:50:44.381                -4.632               1.960051e+07   \n",
       "2022-12-16 10:50:44.383                -2.511               2.337152e+05   \n",
       "2022-12-16 10:50:44.383                -4.391               4.646918e+04   \n",
       "2022-12-16 10:50:44.383                -0.963               1.374529e+03   \n",
       "2022-12-16 10:50:44.386                -3.907               1.690378e+05   \n",
       "\n",
       "                         bid_ask_percent_change  bid_ask_volume_percent_change  \n",
       "date                                                                            \n",
       "2022-12-12 23:55:34.147                     NaN                            NaN  \n",
       "2022-12-12 23:55:34.147                     NaN                            NaN  \n",
       "2022-12-12 23:55:34.147                     NaN                            NaN  \n",
       "2022-12-12 23:55:34.147                     NaN                            NaN  \n",
       "2022-12-16 03:58:31.829                0.195886                      96.396128  \n",
       "...                                         ...                            ...  \n",
       "2022-12-16 10:50:44.381                0.034108                      79.288437  \n",
       "2022-12-16 10:50:44.383                0.003182                      53.651097  \n",
       "2022-12-16 10:50:44.383                0.082645                      48.419204  \n",
       "2022-12-16 10:50:44.383                0.242588                      50.056029  \n",
       "2022-12-16 10:50:44.386                0.103806                      31.597960  \n",
       "\n",
       "[1415 rows x 18 columns]"
      ]
     },
     "execution_count": 19,
     "metadata": {},
     "output_type": "execute_result"
    }
   ],
   "source": [
    "# Import libraries.\n",
    "from cryptocurrency.authentication import Cryptocurrency_authenticator\n",
    "from cryptocurrency.exchange import Cryptocurrency_exchange\n",
    "from cryptocurrency.conversion_table import get_conversion_table\n",
    "\n",
    "# Manage API keys.\n",
    "authenticator = Cryptocurrency_authenticator(use_keys=False, testnet=False)\n",
    "client = authenticator.spot_client\n",
    "\n",
    "# Get all available pair information for trading.\n",
    "exchange = Cryptocurrency_exchange(client=client, directory='crypto_logs')\n",
    "exchange_info = exchange.info\n",
    "\n",
    "# Get conversion table for price conversions.\n",
    "conversion_table = get_conversion_table(client=client, exchange_info=exchange_info, \n",
    "                                        offset_s=0, as_pair=True, dump_raw=False, \n",
    "                                        minimal=True, extra_minimal=False, \n",
    "                                        convert_to_USDT=False)\n",
    "\n",
    "# Display pre-computed conversion table.\n",
    "conversion_table"
   ]
  },
  {
   "cell_type": "markdown",
   "metadata": {},
   "source": [
    "## Pre-screen buyable base assets in pairs."
   ]
  },
  {
   "cell_type": "code",
   "execution_count": 6,
   "metadata": {},
   "outputs": [
    {
     "data": {
      "text/plain": [
       "1415"
      ]
     },
     "execution_count": 6,
     "metadata": {},
     "output_type": "execute_result"
    }
   ],
   "source": [
    "from cryptocurrency.conversion_table import get_new_filtered_tickers\n",
    "\n",
    "tickers_list = get_new_filtered_tickers(conversion_table=conversion_table)\n",
    "len(tickers_list)"
   ]
  },
  {
   "cell_type": "markdown",
   "metadata": {},
   "source": [
    "## Order book."
   ]
  },
  {
   "cell_type": "code",
   "execution_count": 7,
   "metadata": {},
   "outputs": [
    {
     "data": {
      "text/plain": [
       "False"
      ]
     },
     "execution_count": 7,
     "metadata": {},
     "output_type": "execute_result"
    }
   ],
   "source": [
    "from time import sleep\n",
    "import pandas as pd\n",
    "\n",
    "def get_bid_ask_range(symbol):\n",
    "    def get_order_book_depth(symbol):\n",
    "        depth = client.get_order_book(symbol=symbol, \n",
    "                                      limit=5000)\n",
    "        frames = {side: pd.DataFrame(data=depth[side], \n",
    "                                     columns=['price', \n",
    "                                              'quantity'], \n",
    "                                     dtype=float) \n",
    "                  for side in ['bids', 'asks']}\n",
    "        frames_list = [frames[side].assign(side=side) for side in frames]\n",
    "        return pd.concat(frames_list, axis='index', ignore_index=True, sort=True)\n",
    "    data = get_order_book_depth(symbol=symbol)\n",
    "    min_prices = data.groupby('side').price.min()\n",
    "    max_prices = data.groupby('side').price.max()\n",
    "    center_price = ((min_prices.loc['asks'] - max_prices.loc['bids']) + max_prices.loc['bids'])\n",
    "    bid_range = (((center_price - min_prices.loc['bids']) / min_prices.loc['bids']) * 100)\n",
    "    ask_range = (((max_prices.loc['asks'] - center_price) / center_price) * 100)\n",
    "    return bid_range, ask_range\n",
    "\n",
    "bid_range, ask_range = get_bid_ask_range(symbol)\n",
    "bid_range, ask_range"
   ]
  },
  {
   "cell_type": "code",
   "execution_count": null,
   "metadata": {},
   "outputs": [],
   "source": [
    "def get_bid_ask_range_bigger_than_threshold_percent(symbol, threshold=100):\n",
    "    bid_range, ask_range = get_bid_ask_range(symbol)\n",
    "    return bid_range > threshold, ask_range > threshold\n",
    "\n",
    "get_bid_ask_range_bigger_than_threshold_percent(symbol='USTCBUSD', threshold=100)[1]"
   ]
  },
  {
   "cell_type": "code",
   "execution_count": 8,
   "metadata": {},
   "outputs": [],
   "source": [
    "from tqdm import tqdm\n",
    "\n",
    "def filter_bid_ask_range_in_loop(symbol, threshold=100):\n",
    "    sleep(2.9)\n",
    "    return get_bid_ask_range_bigger_than_threshold_percent(symbol=symbol, threshold=10000)[1]\n",
    "\n",
    "while True:\n",
    "    tickers_list = get_new_tickers(client=client, conversion_table=conversion_table)\n",
    "    sleep(5)\n",
    "    interesting_pairs = [symbol for symbol in tqdm(tickers_list) \n",
    "                         if filter_bid_ask_range_in_loop(symbol=symbol, threshold=10000)]\n",
    "    if len(interesting_pairs) > 0:\n",
    "        print(interesting_pairs)"
   ]
  },
  {
   "cell_type": "code",
   "execution_count": 9,
   "metadata": {},
   "outputs": [],
   "source": [
    "#tickers_list"
   ]
  },
  {
   "cell_type": "code",
   "execution_count": null,
   "metadata": {},
   "outputs": [],
   "source": []
  },
  {
   "cell_type": "code",
   "execution_count": 10,
   "metadata": {},
   "outputs": [],
   "source": [
    "#%pip install seaborn"
   ]
  },
  {
   "cell_type": "code",
   "execution_count": 11,
   "metadata": {},
   "outputs": [
    {
     "name": "stdout",
     "output_type": "stream",
     "text": [
      "Elapsed time: 0.18190383911132812 seconds\n",
      "Elapsed time: 0.1888434886932373 seconds\n"
     ]
    },
    {
     "data": {
      "text/plain": [
       "196.78127242175293"
      ]
     },
     "execution_count": 11,
     "metadata": {},
     "output_type": "execute_result"
    }
   ],
   "source": [
    "from time import time\n",
    "import pandas as pd\n",
    "import matplotlib.pyplot as plt\n",
    "import seaborn as sns\n",
    "\n",
    "symbol = 'USTCBUSD'\n",
    "t1 = time()\n",
    "depth = client.get_order_book(symbol=symbol, limit=5000)\n",
    "t2 = time()\n",
    "print('Elapsed time:', (t2 - t1), 'seconds')\n",
    "frames = {side: pd.DataFrame(data=depth[side], columns=['price', 'quantity'], dtype=float) \n",
    "          for side in ['bids', 'asks']}\n",
    "frames_list = [frames[side].assign(side=side) for side in frames]\n",
    "data = pd.concat(frames_list, axis='index', ignore_index=True, sort=True)\n",
    "t2 = time()\n",
    "print('Elapsed time:', (t2 - t1), 'seconds')\n",
    "max_quantities = data.groupby('side').quantity.max()\n",
    "height_based_direction = ((max_quantities.loc['asks'] - max_quantities.loc['bids']) / max_quantities.loc['bids'])\n",
    "height_based_direction *= 100\n",
    "height_based_direction"
   ]
  },
  {
   "cell_type": "code",
   "execution_count": 12,
   "metadata": {},
   "outputs": [
    {
     "data": {
      "text/plain": [
       "(4837657.0, 14357260.0)"
      ]
     },
     "execution_count": 12,
     "metadata": {},
     "output_type": "execute_result"
    }
   ],
   "source": [
    "max_quantities.loc['bids'], max_quantities.loc['asks']"
   ]
  },
  {
   "cell_type": "code",
   "execution_count": 13,
   "metadata": {},
   "outputs": [
    {
     "data": {
      "text/plain": [
       "(2602, 5000)"
      ]
     },
     "execution_count": 13,
     "metadata": {},
     "output_type": "execute_result"
    }
   ],
   "source": [
    "data[data['side'] == 'bids'].shape[0], data[data['side'] == 'asks'].shape[0]"
   ]
  },
  {
   "cell_type": "code",
   "execution_count": 14,
   "metadata": {},
   "outputs": [
    {
     "data": {
      "text/plain": [
       "39.66757498060798"
      ]
     },
     "execution_count": 14,
     "metadata": {},
     "output_type": "execute_result"
    }
   ],
   "source": [
    "min_prices = data.groupby('side').price.min()\n",
    "max_prices = data.groupby('side').price.max()\n",
    "asks_width = ((max_prices.loc['asks'] - min_prices.loc['asks']) / max_prices.loc['asks'])\n",
    "bids_width = ((max_prices.loc['bids'] - min_prices.loc['bids']) / max_prices.loc['asks'])\n",
    "width_based_direction = ((asks_width / (asks_width + bids_width)) * 100)\n",
    "width_based_direction"
   ]
  },
  {
   "cell_type": "code",
   "execution_count": 15,
   "metadata": {},
   "outputs": [
    {
     "data": {
      "text/plain": [
       "(1628.0547181187821, 61.91689313816442)"
      ]
     },
     "execution_count": 15,
     "metadata": {},
     "output_type": "execute_result"
    }
   ],
   "source": [
    "center_price = ((min_prices.loc['asks'] - max_prices.loc['bids']) + max_prices.loc['bids'])\n",
    "bid_range = (((center_price - min_prices.loc['bids']) / min_prices.loc['bids']) * 100)\n",
    "ask_range = (((max_prices.loc['asks'] - center_price) / center_price) * 100)\n",
    "bid_range, ask_range"
   ]
  },
  {
   "cell_type": "code",
   "execution_count": 16,
   "metadata": {},
   "outputs": [
    {
     "data": {
      "text/plain": [
       "236.4488474023609"
      ]
     },
     "execution_count": 16,
     "metadata": {},
     "output_type": "execute_result"
    }
   ],
   "source": [
    "depth_bullishness = height_based_direction + width_based_direction\n",
    "depth_bullishness"
   ]
  },
  {
   "cell_type": "code",
   "execution_count": 17,
   "metadata": {},
   "outputs": [
    {
     "data": {
      "image/png": "[encoded data removed]",
      "text/plain": [
       "<Figure size 640x480 with 1 Axes>"
      ]
     },
     "metadata": {},
     "output_type": "display_data"
    }
   ],
   "source": [
    "fig, ax = plt.subplots()\n",
    "\n",
    "sns.ecdfplot(x='price', weights='quantity', stat='count', complementary=True, data=frames['bids'], ax=ax)\n",
    "sns.ecdfplot(x='price', weights='quantity', stat='count', data=frames['asks'], ax=ax)\n",
    "sns.scatterplot(x='price', y='quantity', hue='side', data=data, ax=ax)\n",
    "\n",
    "ax.set_xlabel('Price')\n",
    "ax.set_ylabel('Quantity')\n",
    "\n",
    "plt.show()"
   ]
  },
  {
   "cell_type": "markdown",
   "metadata": {},
   "source": [
    "## Smaller bid/ask split (no depth)."
   ]
  },
  {
   "cell_type": "code",
   "execution_count": 18,
   "metadata": {},
   "outputs": [
    {
     "data": {
      "text/plain": [
       "bidQty    10058.0\n",
       "askQty     8144.0\n",
       "Name: 2057, dtype: float64"
      ]
     },
     "execution_count": 18,
     "metadata": {},
     "output_type": "execute_result"
    }
   ],
   "source": [
    "df = pd.DataFrame(client.get_ticker())\n",
    "split = df[df['symbol'] == symbol][['bidQty', 'askQty']].iloc[0].astype(float)\n",
    "#(((split.loc['askQty'] - split.loc['bidQty']) / split.loc['bidQty']) * 100)\n",
    "split"
   ]
  },
  {
   "cell_type": "code",
   "execution_count": null,
   "metadata": {},
   "outputs": [],
   "source": []
  }
 ],
 "metadata": {
  "colab": {
   "authorship_tag": "ABX9TyO4csgmdyxBlfVzNgUhkI0X",
   "collapsed_sections": [],
   "include_colab_link": true,
   "name": "crypto_bot",
   "provenance": []
  },
  "kernelspec": {
   "display_name": "Python 3 (ipykernel)",
   "language": "python",
   "name": "python3"
  },
  "language_info": {
   "codemirror_mode": {
    "name": "ipython",
    "version": 3
   },
   "file_extension": ".py",
   "mimetype": "text/x-python",
   "name": "python",
   "nbconvert_exporter": "python",
   "pygments_lexer": "ipython3",
   "version": "3.9.15"
  }
 },
 "nbformat": 4,
 "nbformat_minor": 1
}
