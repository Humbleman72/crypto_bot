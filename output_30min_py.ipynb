{
 "cells": [
  {
   "cell_type": "code",
   "execution_count": 1,
   "id": "6a6e8453",
   "metadata": {},
   "outputs": [
    {
     "name": "stdout",
     "output_type": "stream",
     "text": [
      "Starting crypto logger.\n",
      "/app/cryptocurrency/crypto_logger_base.py:63: FutureWarning: Inferring datetime64[ns] from data containing strings is deprecated and will be removed in a future version. To retain the old behavior explicitly pass Series(data, dtype=datetime64[ns])\n",
      "  dataset = dataset.copy().reset_index()\n",
      "/app/cryptocurrency/crypto_logger_base.py:63: FutureWarning: Inferring datetime64[ns] from data containing strings is deprecated and will be removed in a future version. To retain the old behavior explicitly pass Series(data, dtype=datetime64[ns])\n",
      "  dataset = dataset.copy().reset_index()\n",
      "/app/cryptocurrency/crypto_logger_base.py:63: FutureWarning: Inferring datetime64[ns] from data containing strings is deprecated and will be removed in a future version. To retain the old behavior explicitly pass Series(data, dtype=datetime64[ns])\n",
      "  dataset = dataset.copy().reset_index()\n",
      "/app/cryptocurrency/crypto_logger_base.py:63: FutureWarning: Inferring datetime64[ns] from data containing strings is deprecated and will be removed in a future version. To retain the old behavior explicitly pass Series(data, dtype=datetime64[ns])\n",
      "  dataset = dataset.copy().reset_index()\n",
      "/app/cryptocurrency/crypto_logger_base.py:63: FutureWarning: Inferring datetime64[ns] from data containing strings is deprecated and will be removed in a future version. To retain the old behavior explicitly pass Series(data, dtype=datetime64[ns])\n",
      "  dataset = dataset.copy().reset_index()\n",
      "/app/cryptocurrency/crypto_logger_base.py:63: FutureWarning: Inferring datetime64[ns] from data containing strings is deprecated and will be removed in a future version. To retain the old behavior explicitly pass Series(data, dtype=datetime64[ns])\n",
      "  dataset = dataset.copy().reset_index()\n",
      "/app/cryptocurrency/crypto_logger_base.py:63: FutureWarning: Inferring datetime64[ns] from data containing strings is deprecated and will be removed in a future version. To retain the old behavior explicitly pass Series(data, dtype=datetime64[ns])\n",
      "  dataset = dataset.copy().reset_index()\n",
      "/app/cryptocurrency/crypto_logger_base.py:63: FutureWarning: Inferring datetime64[ns] from data containing strings is deprecated and will be removed in a future version. To retain the old behavior explicitly pass Series(data, dtype=datetime64[ns])\n",
      "  dataset = dataset.copy().reset_index()\n",
      "/app/cryptocurrency/crypto_logger_base.py:63: FutureWarning: Inferring datetime64[ns] from data containing strings is deprecated and will be removed in a future version. To retain the old behavior explicitly pass Series(data, dtype=datetime64[ns])\n",
      "  dataset = dataset.copy().reset_index()\n",
      "/app/cryptocurrency/crypto_logger_base.py:63: FutureWarning: Inferring datetime64[ns] from data containing strings is deprecated and will be removed in a future version. To retain the old behavior explicitly pass Series(data, dtype=datetime64[ns])\n",
      "  dataset = dataset.copy().reset_index()\n",
      "/app/cryptocurrency/crypto_logger_base.py:63: FutureWarning: Inferring datetime64[ns] from data containing strings is deprecated and will be removed in a future version. To retain the old behavior explicitly pass Series(data, dtype=datetime64[ns])\n",
      "  dataset = dataset.copy().reset_index()\n",
      "/app/cryptocurrency/crypto_logger_base.py:63: FutureWarning: Inferring datetime64[ns] from data containing strings is deprecated and will be removed in a future version. To retain the old behavior explicitly pass Series(data, dtype=datetime64[ns])\n",
      "  dataset = dataset.copy().reset_index()\n",
      "/app/cryptocurrency/crypto_logger_base.py:63: FutureWarning: Inferring datetime64[ns] from data containing strings is deprecated and will be removed in a future version. To retain the old behavior explicitly pass Series(data, dtype=datetime64[ns])\n",
      "  dataset = dataset.copy().reset_index()\n",
      "/app/cryptocurrency/crypto_logger_base.py:63: FutureWarning: Inferring datetime64[ns] from data containing strings is deprecated and will be removed in a future version. To retain the old behavior explicitly pass Series(data, dtype=datetime64[ns])\n",
      "  dataset = dataset.copy().reset_index()\n",
      "/app/cryptocurrency/crypto_logger_base.py:63: FutureWarning: Inferring datetime64[ns] from data containing strings is deprecated and will be removed in a future version. To retain the old behavior explicitly pass Series(data, dtype=datetime64[ns])\n",
      "  dataset = dataset.copy().reset_index()\n",
      "/app/cryptocurrency/crypto_logger_base.py:63: FutureWarning: Inferring datetime64[ns] from data containing strings is deprecated and will be removed in a future version. To retain the old behavior explicitly pass Series(data, dtype=datetime64[ns])\n",
      "  dataset = dataset.copy().reset_index()\n",
      "/app/cryptocurrency/crypto_logger_base.py:63: FutureWarning: Inferring datetime64[ns] from data containing strings is deprecated and will be removed in a future version. To retain the old behavior explicitly pass Series(data, dtype=datetime64[ns])\n",
      "  dataset = dataset.copy().reset_index()\n",
      "/app/cryptocurrency/crypto_logger_base.py:63: FutureWarning: Inferring datetime64[ns] from data containing strings is deprecated and will be removed in a future version. To retain the old behavior explicitly pass Series(data, dtype=datetime64[ns])\n",
      "  dataset = dataset.copy().reset_index()\n",
      "/app/cryptocurrency/crypto_logger_base.py:63: FutureWarning: Inferring datetime64[ns] from data containing strings is deprecated and will be removed in a future version. To retain the old behavior explicitly pass Series(data, dtype=datetime64[ns])\n",
      "  dataset = dataset.copy().reset_index()\n",
      "'date'\n",
      "/app/cryptocurrency/crypto_logger_base.py:63: FutureWarning: Inferring datetime64[ns] from data containing strings is deprecated and will be removed in a future version. To retain the old behavior explicitly pass Series(data, dtype=datetime64[ns])\n",
      "  dataset = dataset.copy().reset_index()\n",
      "/app/cryptocurrency/crypto_logger_base.py:63: FutureWarning: Inferring datetime64[ns] from data containing strings is deprecated and will be removed in a future version. To retain the old behavior explicitly pass Series(data, dtype=datetime64[ns])\n",
      "  dataset = dataset.copy().reset_index()\n",
      "/app/cryptocurrency/crypto_logger_base.py:63: FutureWarning: Inferring datetime64[ns] from data containing strings is deprecated and will be removed in a future version. To retain the old behavior explicitly pass Series(data, dtype=datetime64[ns])\n",
      "  dataset = dataset.copy().reset_index()\n",
      "/app/cryptocurrency/crypto_logger_base.py:63: FutureWarning: Inferring datetime64[ns] from data containing strings is deprecated and will be removed in a future version. To retain the old behavior explicitly pass Series(data, dtype=datetime64[ns])\n",
      "  dataset = dataset.copy().reset_index()\n",
      "/app/cryptocurrency/crypto_logger_base.py:63: FutureWarning: Inferring datetime64[ns] from data containing strings is deprecated and will be removed in a future version. To retain the old behavior explicitly pass Series(data, dtype=datetime64[ns])\n",
      "  dataset = dataset.copy().reset_index()\n",
      "/app/cryptocurrency/crypto_logger_base.py:63: FutureWarning: Inferring datetime64[ns] from data containing strings is deprecated and will be removed in a future version. To retain the old behavior explicitly pass Series(data, dtype=datetime64[ns])\n",
      "  dataset = dataset.copy().reset_index()\n",
      "/app/cryptocurrency/crypto_logger_base.py:63: FutureWarning: Inferring datetime64[ns] from data containing strings is deprecated and will be removed in a future version. To retain the old behavior explicitly pass Series(data, dtype=datetime64[ns])\n",
      "  dataset = dataset.copy().reset_index()\n",
      "/app/cryptocurrency/crypto_logger_base.py:63: FutureWarning: Inferring datetime64[ns] from data containing strings is deprecated and will be removed in a future version. To retain the old behavior explicitly pass Series(data, dtype=datetime64[ns])\n",
      "  dataset = dataset.copy().reset_index()\n",
      "/app/cryptocurrency/crypto_logger_base.py:63: FutureWarning: Inferring datetime64[ns] from data containing strings is deprecated and will be removed in a future version. To retain the old behavior explicitly pass Series(data, dtype=datetime64[ns])\n",
      "  dataset = dataset.copy().reset_index()\n",
      "^C\n",
      "Traceback (most recent call last):\n",
      "  File \"crypto_logger_output_30min.py\", line 18, in <module>\n",
      "    crypto_logger_output_30min.start(append=False, roll=1000)\n",
      "  File \"/app/cryptocurrency/crypto_logger_base.py\", line 143, in start\n",
      "    sleep(t2 - t1 + self.delay)\n",
      "KeyboardInterrupt\n"
     ]
    }
   ],
   "source": [
    "!python crypto_logger_output_30min.py"
   ]
  },
  {
   "cell_type": "code",
   "execution_count": 2,
   "id": "946a95e6",
   "metadata": {},
   "outputs": [],
   "source": [
    "#%rm -rf crypto_logs"
   ]
  },
  {
   "cell_type": "code",
   "execution_count": null,
   "id": "c364bbcd",
   "metadata": {},
   "outputs": [],
   "source": []
  }
 ],
 "metadata": {
  "kernelspec": {
   "display_name": "Python 3 (ipykernel)",
   "language": "python",
   "name": "python3"
  },
  "language_info": {
   "codemirror_mode": {
    "name": "ipython",
    "version": 3
   },
   "file_extension": ".py",
   "mimetype": "text/x-python",
   "name": "python",
   "nbconvert_exporter": "python",
   "pygments_lexer": "ipython3",
   "version": "3.8.10"
  }
 },
 "nbformat": 4,
 "nbformat_minor": 5
}
