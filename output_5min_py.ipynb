{
 "cells": [
  {
   "cell_type": "code",
   "execution_count": 1,
   "id": "6a6e8453",
   "metadata": {},
   "outputs": [
    {
     "name": "stdout",
     "output_type": "stream",
     "text": [
      "Starting crypto logger.\n",
      "^C\n",
      "Traceback (most recent call last):\n",
      "  File \"crypto_logger_output_5min.py\", line 17, in <module>\n",
      "    crypto_logger_output_5min.start(append=False, roll=1000)\n",
      "  File \"/home/samuel/workspace/crypto_logger_shared/cryptocurrency/crypto_logger_base.py\", line 136, in start\n",
      "    sleep(self.delay)\n",
      "KeyboardInterrupt\n"
     ]
    }
   ],
   "source": [
    "!python crypto_logger_output_5min.py"
   ]
  },
  {
   "cell_type": "code",
   "execution_count": 2,
   "id": "946a95e6",
   "metadata": {},
   "outputs": [],
   "source": [
    "#%rm -rf crypto_logs"
   ]
  },
  {
   "cell_type": "code",
   "execution_count": null,
   "id": "c364bbcd",
   "metadata": {},
   "outputs": [],
   "source": []
  }
 ],
 "metadata": {
  "kernelspec": {
   "display_name": "Python 3 (ipykernel)",
   "language": "python",
   "name": "python3"
  },
  "language_info": {
   "codemirror_mode": {
    "name": "ipython",
    "version": 3
   },
   "file_extension": ".py",
   "mimetype": "text/x-python",
   "name": "python",
   "nbconvert_exporter": "python",
   "pygments_lexer": "ipython3",
   "version": "3.7.12"
  }
 },
 "nbformat": 4,
 "nbformat_minor": 5
}
